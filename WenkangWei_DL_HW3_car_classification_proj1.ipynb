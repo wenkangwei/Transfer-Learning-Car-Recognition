{
  "nbformat": 4,
  "nbformat_minor": 0,
  "metadata": {
    "kernelspec": {
      "name": "python3",
      "display_name": "Python 3"
    },
    "language_info": {
      "codemirror_mode": {
        "name": "ipython",
        "version": 3
      },
      "file_extension": ".py",
      "mimetype": "text/x-python",
      "name": "python",
      "nbconvert_exporter": "python",
      "pygments_lexer": "ipython3",
      "version": "3.7.2"
    },
    "colab": {
      "name": "WenkangWei-DL_HW3_car_classification_proj1.ipynb",
      "provenance": [],
      "collapsed_sections": []
    },
    "accelerator": "GPU",
    "widgets": {
      "application/vnd.jupyter.widget-state+json": {
        "8f89ba2882ed423f8c7bd462d03d0a2c": {
          "model_module": "@jupyter-widgets/controls",
          "model_name": "HBoxModel",
          "state": {
            "_view_name": "HBoxView",
            "_dom_classes": [],
            "_model_name": "HBoxModel",
            "_view_module": "@jupyter-widgets/controls",
            "_model_module_version": "1.5.0",
            "_view_count": null,
            "_view_module_version": "1.5.0",
            "box_style": "",
            "layout": "IPY_MODEL_909cb8efb61a4e3b8cd17cf1aa9a2686",
            "_model_module": "@jupyter-widgets/controls",
            "children": [
              "IPY_MODEL_848fdb694f624853ba2a6fdd8cfcca47",
              "IPY_MODEL_560bc9d85b474e8a8117cfcbf4bcc342"
            ]
          }
        },
        "909cb8efb61a4e3b8cd17cf1aa9a2686": {
          "model_module": "@jupyter-widgets/base",
          "model_name": "LayoutModel",
          "state": {
            "_view_name": "LayoutView",
            "grid_template_rows": null,
            "right": null,
            "justify_content": null,
            "_view_module": "@jupyter-widgets/base",
            "overflow": null,
            "_model_module_version": "1.2.0",
            "_view_count": null,
            "flex_flow": null,
            "width": null,
            "min_width": null,
            "border": null,
            "align_items": null,
            "bottom": null,
            "_model_module": "@jupyter-widgets/base",
            "top": null,
            "grid_column": null,
            "overflow_y": null,
            "overflow_x": null,
            "grid_auto_flow": null,
            "grid_area": null,
            "grid_template_columns": null,
            "flex": null,
            "_model_name": "LayoutModel",
            "justify_items": null,
            "grid_row": null,
            "max_height": null,
            "align_content": null,
            "visibility": null,
            "align_self": null,
            "height": null,
            "min_height": null,
            "padding": null,
            "grid_auto_rows": null,
            "grid_gap": null,
            "max_width": null,
            "order": null,
            "_view_module_version": "1.2.0",
            "grid_template_areas": null,
            "object_position": null,
            "object_fit": null,
            "grid_auto_columns": null,
            "margin": null,
            "display": null,
            "left": null
          }
        },
        "848fdb694f624853ba2a6fdd8cfcca47": {
          "model_module": "@jupyter-widgets/controls",
          "model_name": "FloatProgressModel",
          "state": {
            "_view_name": "ProgressView",
            "style": "IPY_MODEL_d54af253af304203af5d8e136863c51b",
            "_dom_classes": [],
            "description": "100%",
            "_model_name": "FloatProgressModel",
            "bar_style": "success",
            "max": 102502400,
            "_view_module": "@jupyter-widgets/controls",
            "_model_module_version": "1.5.0",
            "value": 102502400,
            "_view_count": null,
            "_view_module_version": "1.5.0",
            "orientation": "horizontal",
            "min": 0,
            "description_tooltip": null,
            "_model_module": "@jupyter-widgets/controls",
            "layout": "IPY_MODEL_8a800b89d03e4633b824eb702335bf91"
          }
        },
        "560bc9d85b474e8a8117cfcbf4bcc342": {
          "model_module": "@jupyter-widgets/controls",
          "model_name": "HTMLModel",
          "state": {
            "_view_name": "HTMLView",
            "style": "IPY_MODEL_2f87f222b70c4dc8af2c2b4e684d8b64",
            "_dom_classes": [],
            "description": "",
            "_model_name": "HTMLModel",
            "placeholder": "​",
            "_view_module": "@jupyter-widgets/controls",
            "_model_module_version": "1.5.0",
            "value": " 97.8M/97.8M [00:00&lt;00:00, 141MB/s]",
            "_view_count": null,
            "_view_module_version": "1.5.0",
            "description_tooltip": null,
            "_model_module": "@jupyter-widgets/controls",
            "layout": "IPY_MODEL_98664788a54e4f86b553cda958ae6325"
          }
        },
        "d54af253af304203af5d8e136863c51b": {
          "model_module": "@jupyter-widgets/controls",
          "model_name": "ProgressStyleModel",
          "state": {
            "_view_name": "StyleView",
            "_model_name": "ProgressStyleModel",
            "description_width": "initial",
            "_view_module": "@jupyter-widgets/base",
            "_model_module_version": "1.5.0",
            "_view_count": null,
            "_view_module_version": "1.2.0",
            "bar_color": null,
            "_model_module": "@jupyter-widgets/controls"
          }
        },
        "8a800b89d03e4633b824eb702335bf91": {
          "model_module": "@jupyter-widgets/base",
          "model_name": "LayoutModel",
          "state": {
            "_view_name": "LayoutView",
            "grid_template_rows": null,
            "right": null,
            "justify_content": null,
            "_view_module": "@jupyter-widgets/base",
            "overflow": null,
            "_model_module_version": "1.2.0",
            "_view_count": null,
            "flex_flow": null,
            "width": null,
            "min_width": null,
            "border": null,
            "align_items": null,
            "bottom": null,
            "_model_module": "@jupyter-widgets/base",
            "top": null,
            "grid_column": null,
            "overflow_y": null,
            "overflow_x": null,
            "grid_auto_flow": null,
            "grid_area": null,
            "grid_template_columns": null,
            "flex": null,
            "_model_name": "LayoutModel",
            "justify_items": null,
            "grid_row": null,
            "max_height": null,
            "align_content": null,
            "visibility": null,
            "align_self": null,
            "height": null,
            "min_height": null,
            "padding": null,
            "grid_auto_rows": null,
            "grid_gap": null,
            "max_width": null,
            "order": null,
            "_view_module_version": "1.2.0",
            "grid_template_areas": null,
            "object_position": null,
            "object_fit": null,
            "grid_auto_columns": null,
            "margin": null,
            "display": null,
            "left": null
          }
        },
        "2f87f222b70c4dc8af2c2b4e684d8b64": {
          "model_module": "@jupyter-widgets/controls",
          "model_name": "DescriptionStyleModel",
          "state": {
            "_view_name": "StyleView",
            "_model_name": "DescriptionStyleModel",
            "description_width": "",
            "_view_module": "@jupyter-widgets/base",
            "_model_module_version": "1.5.0",
            "_view_count": null,
            "_view_module_version": "1.2.0",
            "_model_module": "@jupyter-widgets/controls"
          }
        },
        "98664788a54e4f86b553cda958ae6325": {
          "model_module": "@jupyter-widgets/base",
          "model_name": "LayoutModel",
          "state": {
            "_view_name": "LayoutView",
            "grid_template_rows": null,
            "right": null,
            "justify_content": null,
            "_view_module": "@jupyter-widgets/base",
            "overflow": null,
            "_model_module_version": "1.2.0",
            "_view_count": null,
            "flex_flow": null,
            "width": null,
            "min_width": null,
            "border": null,
            "align_items": null,
            "bottom": null,
            "_model_module": "@jupyter-widgets/base",
            "top": null,
            "grid_column": null,
            "overflow_y": null,
            "overflow_x": null,
            "grid_auto_flow": null,
            "grid_area": null,
            "grid_template_columns": null,
            "flex": null,
            "_model_name": "LayoutModel",
            "justify_items": null,
            "grid_row": null,
            "max_height": null,
            "align_content": null,
            "visibility": null,
            "align_self": null,
            "height": null,
            "min_height": null,
            "padding": null,
            "grid_auto_rows": null,
            "grid_gap": null,
            "max_width": null,
            "order": null,
            "_view_module_version": "1.2.0",
            "grid_template_areas": null,
            "object_position": null,
            "object_fit": null,
            "grid_auto_columns": null,
            "margin": null,
            "display": null,
            "left": null
          }
        },
        "fe1dd1d419f14696a838724be3474081": {
          "model_module": "@jupyter-widgets/controls",
          "model_name": "HBoxModel",
          "state": {
            "_view_name": "HBoxView",
            "_dom_classes": [],
            "_model_name": "HBoxModel",
            "_view_module": "@jupyter-widgets/controls",
            "_model_module_version": "1.5.0",
            "_view_count": null,
            "_view_module_version": "1.5.0",
            "box_style": "",
            "layout": "IPY_MODEL_e510c2faa277442fb647261a4830f2a3",
            "_model_module": "@jupyter-widgets/controls",
            "children": [
              "IPY_MODEL_f9cface218044353b911e169ef00ab13",
              "IPY_MODEL_ec0eccac9ef240e09bbcd1074cf28a42"
            ]
          }
        },
        "e510c2faa277442fb647261a4830f2a3": {
          "model_module": "@jupyter-widgets/base",
          "model_name": "LayoutModel",
          "state": {
            "_view_name": "LayoutView",
            "grid_template_rows": null,
            "right": null,
            "justify_content": null,
            "_view_module": "@jupyter-widgets/base",
            "overflow": null,
            "_model_module_version": "1.2.0",
            "_view_count": null,
            "flex_flow": null,
            "width": null,
            "min_width": null,
            "border": null,
            "align_items": null,
            "bottom": null,
            "_model_module": "@jupyter-widgets/base",
            "top": null,
            "grid_column": null,
            "overflow_y": null,
            "overflow_x": null,
            "grid_auto_flow": null,
            "grid_area": null,
            "grid_template_columns": null,
            "flex": null,
            "_model_name": "LayoutModel",
            "justify_items": null,
            "grid_row": null,
            "max_height": null,
            "align_content": null,
            "visibility": null,
            "align_self": null,
            "height": null,
            "min_height": null,
            "padding": null,
            "grid_auto_rows": null,
            "grid_gap": null,
            "max_width": null,
            "order": null,
            "_view_module_version": "1.2.0",
            "grid_template_areas": null,
            "object_position": null,
            "object_fit": null,
            "grid_auto_columns": null,
            "margin": null,
            "display": null,
            "left": null
          }
        },
        "f9cface218044353b911e169ef00ab13": {
          "model_module": "@jupyter-widgets/controls",
          "model_name": "FloatProgressModel",
          "state": {
            "_view_name": "ProgressView",
            "style": "IPY_MODEL_e434d2b0b4c448d2add7ef18230eb998",
            "_dom_classes": [],
            "description": "100%",
            "_model_name": "FloatProgressModel",
            "bar_style": "success",
            "max": 553433881,
            "_view_module": "@jupyter-widgets/controls",
            "_model_module_version": "1.5.0",
            "value": 553433881,
            "_view_count": null,
            "_view_module_version": "1.5.0",
            "orientation": "horizontal",
            "min": 0,
            "description_tooltip": null,
            "_model_module": "@jupyter-widgets/controls",
            "layout": "IPY_MODEL_14a6941f37ce4ce0892e4ea2344686ac"
          }
        },
        "ec0eccac9ef240e09bbcd1074cf28a42": {
          "model_module": "@jupyter-widgets/controls",
          "model_name": "HTMLModel",
          "state": {
            "_view_name": "HTMLView",
            "style": "IPY_MODEL_60b40366d69044b6a12ebe2dd26c5637",
            "_dom_classes": [],
            "description": "",
            "_model_name": "HTMLModel",
            "placeholder": "​",
            "_view_module": "@jupyter-widgets/controls",
            "_model_module_version": "1.5.0",
            "value": " 528M/528M [00:39&lt;00:00, 13.9MB/s]",
            "_view_count": null,
            "_view_module_version": "1.5.0",
            "description_tooltip": null,
            "_model_module": "@jupyter-widgets/controls",
            "layout": "IPY_MODEL_d58f47f6c9fb476fbb3f085e396bc551"
          }
        },
        "e434d2b0b4c448d2add7ef18230eb998": {
          "model_module": "@jupyter-widgets/controls",
          "model_name": "ProgressStyleModel",
          "state": {
            "_view_name": "StyleView",
            "_model_name": "ProgressStyleModel",
            "description_width": "initial",
            "_view_module": "@jupyter-widgets/base",
            "_model_module_version": "1.5.0",
            "_view_count": null,
            "_view_module_version": "1.2.0",
            "bar_color": null,
            "_model_module": "@jupyter-widgets/controls"
          }
        },
        "14a6941f37ce4ce0892e4ea2344686ac": {
          "model_module": "@jupyter-widgets/base",
          "model_name": "LayoutModel",
          "state": {
            "_view_name": "LayoutView",
            "grid_template_rows": null,
            "right": null,
            "justify_content": null,
            "_view_module": "@jupyter-widgets/base",
            "overflow": null,
            "_model_module_version": "1.2.0",
            "_view_count": null,
            "flex_flow": null,
            "width": null,
            "min_width": null,
            "border": null,
            "align_items": null,
            "bottom": null,
            "_model_module": "@jupyter-widgets/base",
            "top": null,
            "grid_column": null,
            "overflow_y": null,
            "overflow_x": null,
            "grid_auto_flow": null,
            "grid_area": null,
            "grid_template_columns": null,
            "flex": null,
            "_model_name": "LayoutModel",
            "justify_items": null,
            "grid_row": null,
            "max_height": null,
            "align_content": null,
            "visibility": null,
            "align_self": null,
            "height": null,
            "min_height": null,
            "padding": null,
            "grid_auto_rows": null,
            "grid_gap": null,
            "max_width": null,
            "order": null,
            "_view_module_version": "1.2.0",
            "grid_template_areas": null,
            "object_position": null,
            "object_fit": null,
            "grid_auto_columns": null,
            "margin": null,
            "display": null,
            "left": null
          }
        },
        "60b40366d69044b6a12ebe2dd26c5637": {
          "model_module": "@jupyter-widgets/controls",
          "model_name": "DescriptionStyleModel",
          "state": {
            "_view_name": "StyleView",
            "_model_name": "DescriptionStyleModel",
            "description_width": "",
            "_view_module": "@jupyter-widgets/base",
            "_model_module_version": "1.5.0",
            "_view_count": null,
            "_view_module_version": "1.2.0",
            "_model_module": "@jupyter-widgets/controls"
          }
        },
        "d58f47f6c9fb476fbb3f085e396bc551": {
          "model_module": "@jupyter-widgets/base",
          "model_name": "LayoutModel",
          "state": {
            "_view_name": "LayoutView",
            "grid_template_rows": null,
            "right": null,
            "justify_content": null,
            "_view_module": "@jupyter-widgets/base",
            "overflow": null,
            "_model_module_version": "1.2.0",
            "_view_count": null,
            "flex_flow": null,
            "width": null,
            "min_width": null,
            "border": null,
            "align_items": null,
            "bottom": null,
            "_model_module": "@jupyter-widgets/base",
            "top": null,
            "grid_column": null,
            "overflow_y": null,
            "overflow_x": null,
            "grid_auto_flow": null,
            "grid_area": null,
            "grid_template_columns": null,
            "flex": null,
            "_model_name": "LayoutModel",
            "justify_items": null,
            "grid_row": null,
            "max_height": null,
            "align_content": null,
            "visibility": null,
            "align_self": null,
            "height": null,
            "min_height": null,
            "padding": null,
            "grid_auto_rows": null,
            "grid_gap": null,
            "max_width": null,
            "order": null,
            "_view_module_version": "1.2.0",
            "grid_template_areas": null,
            "object_position": null,
            "object_fit": null,
            "grid_auto_columns": null,
            "margin": null,
            "display": null,
            "left": null
          }
        }
      }
    }
  },
  "cells": [
    {
      "cell_type": "markdown",
      "metadata": {
        "id": "c2CtXfyW9lD_"
      },
      "source": [
        "# Note: Please \"Copy\" this notebook before you work on it !!!!\n",
        "In File   ->   Save a copy in Drive"
      ]
    },
    {
      "cell_type": "markdown",
      "metadata": {
        "id": "xSUinQqMt9_-"
      },
      "source": [
        "# Author: Wenkang Wei\n",
        "# email: wenkanw@g.clemson.edu"
      ]
    },
    {
      "cell_type": "markdown",
      "metadata": {
        "id": "0kahqOOp9rjx"
      },
      "source": [
        "# 1.introduction\n",
        "\n",
        "This project is about car classification for [stanford car dataset](https://ai.stanford.edu/~jkrause/cars/car_dataset.html). The Cars dataset contains 16,185 images of 196 classes of cars. The data is split into 8,144 training images and 8,041 testing images, where each class has been split roughly in a 50-50 split. Classes are typically at the level of Make, Model, Year, e.g. 2012 Tesla Model S or 2012 BMW M3 coupe.\n",
        "\n",
        "It is difficult to directly train deep learning model on this dataset because the limited number of images. Thus we decide to use transfer learning, a common approch used in deep learning to utilize the pretrained model on [imagenet](http://www.image-net.org/) and fine-tune on our own dataset, i.e. car dataset.\n",
        "\n",
        "This project can show you how to train and fine-tune a deep learning model using kera (tensorflow backend).\n",
        "\n",
        "![](https://ai.stanford.edu/~jkrause/cars/class_montage.jpg)"
      ]
    },
    {
      "cell_type": "markdown",
      "metadata": {
        "id": "WQpXkBSm90JH"
      },
      "source": [
        "## 1.1 Transfer Learning\n",
        "Transfer learning is one of the most widely used technologies in deep learning and computer vision. If you are not familar with the concept of transfer learning, please refer to our course materials.\n",
        "\n",
        "![](https://cdn-images-1.medium.com/max/2000/1*9GTEzcO8KxxrfutmtsPs3Q.png)"
      ]
    },
    {
      "cell_type": "markdown",
      "metadata": {
        "id": "J7SmzE06ZXhR"
      },
      "source": [
        "# 2.Making a car classifier using Pytorch\n",
        "\n",
        "In this notebook I'm making a car classifier using the Stanford car dataset, which contains 196 classes.\n",
        "I'll be using a pre-trained model with transfer learning to train the model. All layers will be fine tuned and the last fully connected layer will be replaced entirely.\n",
        "\n",
        "Dataset (196 classes):\n",
        "\n",
        "Train folder: 8144 images, avg: 41.5 images per class.\n",
        "\n",
        "Test folder: 8041 images, avg: 41.0 images per class."
      ]
    },
    {
      "cell_type": "markdown",
      "metadata": {
        "id": "_a37d63MA6fq"
      },
      "source": [
        "## 2.1 mount google drive to colab"
      ]
    },
    {
      "cell_type": "code",
      "metadata": {
        "id": "GderMAYBHHJg",
        "colab": {
          "base_uri": "https://localhost:8080/"
        },
        "outputId": "94c9c406-46dd-4d4d-f60d-25f5cd8878f9"
      },
      "source": [
        "from google.colab import drive\n",
        "drive.mount('/content/drive')"
      ],
      "execution_count": null,
      "outputs": [
        {
          "output_type": "stream",
          "text": [
            "Mounted at /content/drive\n"
          ],
          "name": "stdout"
        }
      ]
    },
    {
      "cell_type": "markdown",
      "metadata": {
        "id": "C3oJOluYQziy"
      },
      "source": [
        "#### Download row data"
      ]
    },
    {
      "cell_type": "code",
      "metadata": {
        "id": "XxdtR9fujRXv"
      },
      "source": [
        "# # download raw dataset\n",
        "# ! wget http://imagenet.stanford.edu/internal/car196/cars_train.tgz\n",
        "# ! wget http://imagenet.stanford.edu/internal/car196/cars_test.tgz\n",
        "# ! wget http://imagenet.stanford.edu/internal/car196/cars_annos.mat\n",
        "\n",
        "# #make directory\n",
        "# !mkdir ./stanford_car_dataset_raw \n",
        "# # unzip dataset\n",
        "# !tar -zxvf cars_train.tgz --directory=./stanford_car_dataset_raw \n",
        "# !tar -zxvf cars_test.tgz --directory=./stanford_car_dataset_raw \n",
        "# !mv  ./cars_annos.mat ./stanford_car_dataset_row/\n",
        "\n",
        "# # ls \n",
        "# !ls ./stanford_car_dataset_raw /cars_train | wc -l \n",
        "# !ls ./stanford_car_dataset_raw /cars_test | wc -l \n"
      ],
      "execution_count": null,
      "outputs": []
    },
    {
      "cell_type": "markdown",
      "metadata": {
        "id": "GyVP5gE5jiZo"
      },
      "source": [
        "#### Or we can Download Cleaned Data from google drive if we dont' need raw data"
      ]
    },
    {
      "cell_type": "code",
      "metadata": {
        "id": "FclK_yF1g-K8",
        "colab": {
          "base_uri": "https://localhost:8080/"
        },
        "outputId": "43944ddd-d1d4-4b58-f558-88be13c930a8"
      },
      "source": [
        "# https://drive.google.com/file/d/1xgdUSH-G9B8YTiQZGmWyNxtoRtogE56x/view?usp=sharing\n",
        "!gdown --id 1xgdUSH-G9B8YTiQZGmWyNxtoRtogE56x"
      ],
      "execution_count": null,
      "outputs": [
        {
          "output_type": "stream",
          "text": [
            "Downloading...\n",
            "From: https://drive.google.com/uc?id=1xgdUSH-G9B8YTiQZGmWyNxtoRtogE56x\n",
            "To: /content/stanford_car_dataset.zip\n",
            "1.96GB [00:16, 117MB/s]\n"
          ],
          "name": "stdout"
        }
      ]
    },
    {
      "cell_type": "markdown",
      "metadata": {
        "id": "f9RvZKqrBBzb"
      },
      "source": [
        "## 2.2 Copy file from google drive to colab"
      ]
    },
    {
      "cell_type": "code",
      "metadata": {
        "id": "Zyu4Az5fxxXg"
      },
      "source": [
        "# copy dataset from google drive to colab. https://drive.google.com/open?id=1qcSFJ_2Ouom95QYDI3n498JEnqQd71vx\n",
        "# !cp ./drive/My\\ Drive/stanford_car_dataset.zip ./"
      ],
      "execution_count": null,
      "outputs": []
    },
    {
      "cell_type": "code",
      "metadata": {
        "id": "pdDe7rcg5-gZ"
      },
      "source": [
        "# !rm -rf ./stanford_car_dataset"
      ],
      "execution_count": null,
      "outputs": []
    },
    {
      "cell_type": "markdown",
      "metadata": {
        "id": "od6_9e1GBPQ7"
      },
      "source": [
        "## 2.3 Extract dataset files"
      ]
    },
    {
      "cell_type": "code",
      "metadata": {
        "id": "_3gTCY271nIS"
      },
      "source": [
        "# %%time\n",
        "# unzip dataset in colab\n",
        "!mkdir ./stanford_car_dataset\n",
        "!unzip -q stanford_car_dataset.zip -d ./stanford_car_dataset\n"
      ],
      "execution_count": null,
      "outputs": []
    },
    {
      "cell_type": "markdown",
      "metadata": {
        "id": "k6hOGcBtmgZS"
      },
      "source": [
        "#### Make a Copy to My Drive"
      ]
    },
    {
      "cell_type": "code",
      "metadata": {
        "id": "f2-wXbUBkd2a"
      },
      "source": [
        "# ! cp -rf ./stanford_car_dataset /content/drive/My\\ Drive/Colab\\ Notebooks/laioffer-in-class-coding\n",
        "# ! mkdir /content/drive/My\\ Drive/Colab\\ Notebooks/laioffer-in-class-coding/data\n",
        "# ! mv  /content/drive/My\\ Drive/Colab\\ Notebooks/laioffer-in-class-coding/stanford_car_dataset /content/drive/My\\ Drive/Colab\\ Notebooks/laioffer-in-class-coding/data/"
      ],
      "execution_count": null,
      "outputs": []
    },
    {
      "cell_type": "markdown",
      "metadata": {
        "id": "nha-_z386hMc"
      },
      "source": [
        "## Directly Copy data from Google Drive to Colab"
      ]
    },
    {
      "cell_type": "code",
      "metadata": {
        "id": "KQdCJE5elXR_"
      },
      "source": [
        "# Recommend to download data from link, it is much faster\n",
        "# !cp -rf /content/drive/My\\ Drive/Colab\\ Notebooks/laioffer-in-class-coding/data/stanford_car_dataset ./"
      ],
      "execution_count": null,
      "outputs": []
    },
    {
      "cell_type": "markdown",
      "metadata": {
        "id": "7YTAcNFKBTSm"
      },
      "source": [
        "# 3.Build model"
      ]
    },
    {
      "cell_type": "markdown",
      "metadata": {
        "id": "80Fx_Cv-Bbbk"
      },
      "source": [
        "## 3.1 Load packages\n",
        "\n",
        "The pytorch have been pre-installled on colab, and we do not need re-install these packages."
      ]
    },
    {
      "cell_type": "code",
      "metadata": {
        "trusted": true,
        "id": "Wmld6dLSZXhU",
        "colab": {
          "base_uri": "https://localhost:8080/"
        },
        "outputId": "a7e8a5ba-a99d-4c90-af16-b9ff260d505e"
      },
      "source": [
        "import matplotlib.pyplot as plt\n",
        "import numpy as np\n",
        "\n",
        "import torch\n",
        "import torch.nn as nn\n",
        "import torch.optim as optim\n",
        "import torchvision\n",
        "import torchvision.models as models\n",
        "import torchvision.transforms as transforms\n",
        "\n",
        "import time\n",
        "import os\n",
        "import tqdm\n",
        "import PIL.Image as Image\n",
        "from IPython.display import display\n",
        "\n",
        "device = torch.device(\"cuda:0\" if torch.cuda.is_available() else \"cpu\")\n",
        "print(device)\n",
        "print(torch.cuda.get_device_name(device))"
      ],
      "execution_count": null,
      "outputs": [
        {
          "output_type": "stream",
          "text": [
            "cuda:0\n",
            "Tesla T4\n"
          ],
          "name": "stdout"
        }
      ]
    },
    {
      "cell_type": "markdown",
      "metadata": {
        "id": "SEGLzCXMZXhb"
      },
      "source": [
        "## 3.2 Load the data and transform\n",
        "\n",
        "First, lets create some transforms for our data and load the train/test data+labels from the folders.\n",
        "\n",
        "Here we are using 224x224 images (you can also change the resolution) with random horizontal flip, random rotation and normalization"
      ]
    },
    {
      "cell_type": "code",
      "metadata": {
        "trusted": true,
        "id": "qBN8afm4ZXhc"
      },
      "source": [
        "dataset_dir = \"stanford_car_dataset/car_data/car_data/\"\n",
        "\n",
        "\n",
        "# data transformation, you can try different transformation/ data augmentation here\n",
        "# note: no data augmentation for test data\n",
        "\n",
        "width, height = 224, 224\n",
        "train_tfms = transforms.Compose([transforms.Resize((width, height)),\n",
        "                                 # transforms.RandomHorizontalFlip(),\n",
        "                                 # transforms.RandomRotation(15),\n",
        "                                 transforms.ToTensor(),\n",
        "                                 transforms.Normalize([0.485, 0.456, 0.406], [0.229, 0.224, 0.225])])\n",
        "test_tfms = transforms.Compose([transforms.Resize((width, height)),\n",
        "                                transforms.ToTensor(),\n",
        "                                transforms.Normalize([0.485, 0.456, 0.406], [0.229, 0.224, 0.225])])\n",
        "\n",
        "# create datasets\n",
        "dataset = torchvision.datasets.ImageFolder(root=dataset_dir+\"train\", transform=train_tfms)\n",
        "trainloader = torch.utils.data.DataLoader(dataset, batch_size=32, shuffle=True, num_workers=2)\n",
        "\n",
        "dataset2 = torchvision.datasets.ImageFolder(root=dataset_dir+\"test\", transform = test_tfms)\n",
        "testloader = torch.utils.data.DataLoader(dataset2, batch_size=32, shuffle=False, num_workers=2)\n"
      ],
      "execution_count": null,
      "outputs": []
    },
    {
      "cell_type": "markdown",
      "metadata": {
        "id": "XLO9RrULZXhf"
      },
      "source": [
        "## 3.3 Model training function\n",
        "\n",
        "Here we train our model, after each epoch, we test the model on the test data to see how it's going"
      ]
    },
    {
      "cell_type": "code",
      "metadata": {
        "trusted": true,
        "id": "430hhzprZXhf"
      },
      "source": [
        "def train_model(model, criterion, optimizer, scheduler, n_epochs=5):\n",
        "    \n",
        "    losses = []\n",
        "    accuracies = []\n",
        "    test_accuracies = []\n",
        "\n",
        "    # set the model to train mode initially\n",
        "    model.train()\n",
        "    for epoch in tqdm.tqdm(range(n_epochs)):\n",
        "        since = time.time()\n",
        "        running_loss = 0.0\n",
        "        running_correct = 0.0\n",
        "        for i, data in enumerate(trainloader, 0):\n",
        "\n",
        "            # get the inputs and assign them to cuda\n",
        "            inputs, labels = data\n",
        "            #inputs = inputs.to(device).half() # uncomment for half precision model\n",
        "            inputs = inputs.to(device)\n",
        "            labels = labels.to(device)\n",
        "            optimizer.zero_grad()\n",
        "            \n",
        "            # forward + backward + optimize\n",
        "            outputs = model(inputs)\n",
        "            _, predicted = torch.max(outputs.data, 1)\n",
        "            loss = criterion(outputs, labels)\n",
        "            loss.backward()\n",
        "            optimizer.step()\n",
        "            \n",
        "            # calculate the loss/acc later\n",
        "            running_loss += loss.item()\n",
        "            running_correct += (labels==predicted).sum().item()\n",
        "\n",
        "        epoch_duration = time.time() - since\n",
        "        epoch_loss = running_loss / len(trainloader)\n",
        "        epoch_acc = 100 / 32 * running_correct / len(trainloader)\n",
        "        print(\"Epoch %s, duration: %d s, loss: %.4f, acc: %.4f\" % (epoch+1, epoch_duration, epoch_loss, epoch_acc))\n",
        "        \n",
        "        losses.append(epoch_loss)\n",
        "        accuracies.append(epoch_acc)\n",
        "        \n",
        "        # switch the model to eval mode to evaluate on test data\n",
        "        model.eval()\n",
        "        test_acc = eval_model(model)\n",
        "        test_accuracies.append(test_acc)\n",
        "        \n",
        "        # re-set the model to train mode after validating\n",
        "        model.train()\n",
        "        scheduler.step(test_acc)\n",
        "        since = time.time()\n",
        "    print('Finished Training')\n",
        "    return model, losses, accuracies, test_accuracies"
      ],
      "execution_count": null,
      "outputs": []
    },
    {
      "cell_type": "markdown",
      "metadata": {
        "id": "SApHdqV-ZXhi"
      },
      "source": [
        "## 3.4 Evaluate on training data\n",
        "This function is called out after each epoch of training on the training data. We then measure the accuracy of the model."
      ]
    },
    {
      "cell_type": "code",
      "metadata": {
        "trusted": true,
        "id": "m7HcAWnVZXhj"
      },
      "source": [
        "def eval_model(model):\n",
        "    correct = 0.0\n",
        "    total = 0.0\n",
        "    with torch.no_grad():\n",
        "        for i, data in enumerate(testloader, 0):\n",
        "            images, labels = data\n",
        "            #images = images.to(device).half() # uncomment for half precision model\n",
        "            images = images.to(device)\n",
        "            labels = labels.to(device)\n",
        "\n",
        "            outputs = model(images)\n",
        "            _, predicted = torch.max(outputs.data, 1)\n",
        "\n",
        "            total += labels.size(0)\n",
        "            correct += (predicted == labels).sum().item()\n",
        "\n",
        "    test_acc = 100.0 * correct / total\n",
        "    print('Accuracy of the network on the test images: %d %%' % (test_acc))\n",
        "    return test_acc"
      ],
      "execution_count": null,
      "outputs": []
    },
    {
      "cell_type": "markdown",
      "metadata": {
        "id": "ouIHQb3uJZsE"
      },
      "source": [
        "# 4.Experiment"
      ]
    },
    {
      "cell_type": "markdown",
      "metadata": {
        "id": "Wly0BhFZJeHK"
      },
      "source": [
        "## 4.1 define parameters"
      ]
    },
    {
      "cell_type": "code",
      "metadata": {
        "trusted": true,
        "id": "eY0_fTZ8ZXhm"
      },
      "source": [
        "NUM_CAR_CLASSES = 196\n",
        "model_ft = models.alexnet(pretrained=True)  # resnet34(pretrained=True)\n",
        "\n",
        "# Freezing model parameters and defining the fully connected network to be attached to the model, \n",
        "# loss function and the optimizer.\n",
        "# We there after put the model on the GPUs\n",
        "# for param in model_ft.parameters():\n",
        "#     param.require_grad = False\n",
        "\n",
        "# replace the last fc layer with an untrained one (requires grad by default)\n",
        "\n",
        "# for alexnet\n",
        "num_ftrs = model_ft.classifier[6].in_features\n",
        "model_ft.classifier[6] = nn.Linear(num_ftrs, NUM_CAR_CLASSES)\n",
        "\n",
        "# for resnet34\n",
        "# num_ftrs = model_ft.fc.in_features\n",
        "# model_ft.fc = nn.Linear(num_ftrs, NUM_CAR_CLASSES)\n",
        "\n",
        "model_ft = model_ft.to(device)\n",
        "\n",
        "# uncomment this block for half precision model\n",
        "\"\"\"\n",
        "model_ft = model_ft.half()\n",
        "\n",
        "\n",
        "for layer in model_ft.modules():\n",
        "    if isinstance(layer, nn.BatchNorm2d):\n",
        "        layer.float()\n",
        "\"\"\"\n",
        "criterion = nn.CrossEntropyLoss()\n",
        "optimizer = optim.SGD(model_ft.parameters(), lr=0.01, momentum=0.9)\n",
        "\n",
        "\"\"\"\n",
        "probably not the best metric to track, but we are tracking the training accuracy and measuring whether\n",
        "it increases by atleast 0.9 per epoch and if it hasn't increased by 0.9 reduce the lr by 0.1x.\n",
        "However in this model it did not benefit me.\n",
        "\"\"\"\n",
        "lrscheduler = optim.lr_scheduler.ReduceLROnPlateau(optimizer, mode='max', patience=3, threshold = 0.9)"
      ],
      "execution_count": null,
      "outputs": []
    },
    {
      "cell_type": "markdown",
      "metadata": {
        "id": "y22f6wzZJiWT"
      },
      "source": [
        "## 4.2 model training"
      ]
    },
    {
      "cell_type": "code",
      "metadata": {
        "trusted": true,
        "id": "2jxCNnGdJ1W_",
        "colab": {
          "base_uri": "https://localhost:8080/"
        },
        "outputId": "ac3083a2-764e-4ba3-f9af-a5722f4a8687"
      },
      "source": [
        "model_ft, training_losses, training_accs, test_accs = train_model(model_ft, criterion, optimizer, lrscheduler, n_epochs=20)"
      ],
      "execution_count": null,
      "outputs": [
        {
          "output_type": "stream",
          "text": [
            "\n",
            "  0%|          | 0/20 [00:00<?, ?it/s]\u001b[A"
          ],
          "name": "stderr"
        },
        {
          "output_type": "stream",
          "text": [
            "Epoch 1, duration: 114 s, loss: 5.2887, acc: 0.6618\n"
          ],
          "name": "stdout"
        },
        {
          "output_type": "stream",
          "text": [
            "\n",
            "  5%|▌         | 1/20 [03:42<1:10:26, 222.45s/it]\u001b[A"
          ],
          "name": "stderr"
        },
        {
          "output_type": "stream",
          "text": [
            "Accuracy of the network on the test images: 0 %\n",
            "Epoch 2, duration: 111 s, loss: 5.2783, acc: 0.7721\n"
          ],
          "name": "stdout"
        },
        {
          "output_type": "stream",
          "text": [
            "\n",
            " 10%|█         | 2/20 [07:11<1:05:31, 218.43s/it]\u001b[A"
          ],
          "name": "stderr"
        },
        {
          "output_type": "stream",
          "text": [
            "Accuracy of the network on the test images: 0 %\n",
            "Epoch 3, duration: 104 s, loss: 5.2694, acc: 0.7721\n"
          ],
          "name": "stdout"
        },
        {
          "output_type": "stream",
          "text": [
            "\n",
            " 15%|█▌        | 3/20 [10:34<1:00:34, 213.81s/it]\u001b[A"
          ],
          "name": "stderr"
        },
        {
          "output_type": "stream",
          "text": [
            "Accuracy of the network on the test images: 1 %\n",
            "Epoch 4, duration: 105 s, loss: 5.2133, acc: 1.2990\n"
          ],
          "name": "stdout"
        },
        {
          "output_type": "stream",
          "text": [
            "\n",
            " 20%|██        | 4/20 [13:56<56:06, 210.38s/it]  \u001b[A"
          ],
          "name": "stderr"
        },
        {
          "output_type": "stream",
          "text": [
            "Accuracy of the network on the test images: 1 %\n",
            "Epoch 5, duration: 88 s, loss: 5.0705, acc: 2.3897\n"
          ],
          "name": "stdout"
        },
        {
          "output_type": "stream",
          "text": [
            "\n",
            " 25%|██▌       | 5/20 [16:43<49:18, 197.23s/it]\u001b[A"
          ],
          "name": "stderr"
        },
        {
          "output_type": "stream",
          "text": [
            "Accuracy of the network on the test images: 4 %\n",
            "Epoch 6, duration: 92 s, loss: 4.6120, acc: 6.5564\n"
          ],
          "name": "stdout"
        },
        {
          "output_type": "stream",
          "text": [
            "\n",
            " 30%|███       | 6/20 [19:45<44:55, 192.57s/it]\u001b[A"
          ],
          "name": "stderr"
        },
        {
          "output_type": "stream",
          "text": [
            "Accuracy of the network on the test images: 6 %\n",
            "Epoch 7, duration: 100 s, loss: 4.0629, acc: 11.8873\n"
          ],
          "name": "stdout"
        },
        {
          "output_type": "stream",
          "text": [
            "\n",
            " 35%|███▌      | 7/20 [22:58<41:44, 192.69s/it]\u001b[A"
          ],
          "name": "stderr"
        },
        {
          "output_type": "stream",
          "text": [
            "Accuracy of the network on the test images: 12 %\n",
            "Epoch 8, duration: 88 s, loss: 3.5729, acc: 18.4559\n"
          ],
          "name": "stdout"
        },
        {
          "output_type": "stream",
          "text": [
            "\n",
            " 40%|████      | 8/20 [25:48<37:10, 185.91s/it]\u001b[A"
          ],
          "name": "stderr"
        },
        {
          "output_type": "stream",
          "text": [
            "Accuracy of the network on the test images: 13 %\n",
            "Epoch 9, duration: 83 s, loss: 3.1842, acc: 24.8652\n"
          ],
          "name": "stdout"
        },
        {
          "output_type": "stream",
          "text": [
            "\n",
            " 45%|████▌     | 9/20 [28:30<32:45, 178.73s/it]\u001b[A"
          ],
          "name": "stderr"
        },
        {
          "output_type": "stream",
          "text": [
            "Accuracy of the network on the test images: 16 %\n",
            "Epoch 10, duration: 83 s, loss: 2.9424, acc: 29.5711\n"
          ],
          "name": "stdout"
        },
        {
          "output_type": "stream",
          "text": [
            "\n",
            " 50%|█████     | 10/20 [31:11<28:55, 173.53s/it]\u001b[A"
          ],
          "name": "stderr"
        },
        {
          "output_type": "stream",
          "text": [
            "Accuracy of the network on the test images: 18 %\n",
            "Epoch 11, duration: 82 s, loss: 2.6049, acc: 35.3431\n"
          ],
          "name": "stdout"
        },
        {
          "output_type": "stream",
          "text": [
            "\n",
            " 55%|█████▌    | 11/20 [33:51<25:23, 169.31s/it]\u001b[A"
          ],
          "name": "stderr"
        },
        {
          "output_type": "stream",
          "text": [
            "Accuracy of the network on the test images: 19 %\n",
            "Epoch 12, duration: 82 s, loss: 1.2906, acc: 64.4240\n"
          ],
          "name": "stdout"
        },
        {
          "output_type": "stream",
          "text": [
            "\n",
            " 60%|██████    | 12/20 [36:30<22:10, 166.32s/it]\u001b[A"
          ],
          "name": "stderr"
        },
        {
          "output_type": "stream",
          "text": [
            "Accuracy of the network on the test images: 30 %\n",
            "Epoch 13, duration: 83 s, loss: 0.7239, acc: 79.0319\n"
          ],
          "name": "stdout"
        },
        {
          "output_type": "stream",
          "text": [
            "\n",
            " 65%|██████▌   | 13/20 [39:10<19:11, 164.50s/it]\u001b[A"
          ],
          "name": "stderr"
        },
        {
          "output_type": "stream",
          "text": [
            "Accuracy of the network on the test images: 32 %\n",
            "Epoch 14, duration: 81 s, loss: 0.5068, acc: 84.8652\n"
          ],
          "name": "stdout"
        },
        {
          "output_type": "stream",
          "text": [
            "\n",
            " 70%|███████   | 14/20 [41:49<16:16, 162.76s/it]\u001b[A"
          ],
          "name": "stderr"
        },
        {
          "output_type": "stream",
          "text": [
            "Accuracy of the network on the test images: 33 %\n",
            "Epoch 15, duration: 80 s, loss: 0.3566, acc: 88.8848\n"
          ],
          "name": "stdout"
        },
        {
          "output_type": "stream",
          "text": [
            "\n",
            " 75%|███████▌  | 15/20 [44:27<13:26, 161.39s/it]\u001b[A"
          ],
          "name": "stderr"
        },
        {
          "output_type": "stream",
          "text": [
            "Accuracy of the network on the test images: 34 %\n",
            "Epoch 16, duration: 81 s, loss: 0.2826, acc: 90.8701\n"
          ],
          "name": "stdout"
        },
        {
          "output_type": "stream",
          "text": [
            "\n",
            " 80%|████████  | 16/20 [47:05<10:41, 160.44s/it]\u001b[A"
          ],
          "name": "stderr"
        },
        {
          "output_type": "stream",
          "text": [
            "Accuracy of the network on the test images: 35 %\n",
            "Epoch 17, duration: 85 s, loss: 0.1811, acc: 94.5711\n"
          ],
          "name": "stdout"
        },
        {
          "output_type": "stream",
          "text": [
            "\n",
            " 85%|████████▌ | 17/20 [49:49<08:04, 161.34s/it]\u001b[A"
          ],
          "name": "stderr"
        },
        {
          "output_type": "stream",
          "text": [
            "Accuracy of the network on the test images: 35 %\n",
            "Epoch 18, duration: 83 s, loss: 0.1710, acc: 94.6814\n"
          ],
          "name": "stdout"
        },
        {
          "output_type": "stream",
          "text": [
            "\n",
            " 90%|█████████ | 18/20 [52:36<05:26, 163.07s/it]\u001b[A"
          ],
          "name": "stderr"
        },
        {
          "output_type": "stream",
          "text": [
            "Accuracy of the network on the test images: 35 %\n",
            "Epoch 19, duration: 88 s, loss: 0.1599, acc: 95.1471\n"
          ],
          "name": "stdout"
        },
        {
          "output_type": "stream",
          "text": [
            "\n",
            " 95%|█████████▌| 19/20 [55:27<02:45, 165.39s/it]\u001b[A"
          ],
          "name": "stderr"
        },
        {
          "output_type": "stream",
          "text": [
            "Accuracy of the network on the test images: 35 %\n",
            "Epoch 20, duration: 87 s, loss: 0.1391, acc: 95.6250\n"
          ],
          "name": "stdout"
        },
        {
          "output_type": "stream",
          "text": [
            "\n",
            "100%|██████████| 20/20 [58:15<00:00, 174.76s/it]"
          ],
          "name": "stderr"
        },
        {
          "output_type": "stream",
          "text": [
            "Accuracy of the network on the test images: 35 %\n",
            "Finished Training\n"
          ],
          "name": "stdout"
        },
        {
          "output_type": "stream",
          "text": [
            "\n"
          ],
          "name": "stderr"
        }
      ]
    },
    {
      "cell_type": "markdown",
      "metadata": {
        "id": "rr7qkcBbZXhu"
      },
      "source": [
        "## 4.3 As we can see the model reached 90% training accuracy by epoch 10.\n"
      ]
    },
    {
      "cell_type": "code",
      "metadata": {
        "trusted": true,
        "id": "MGJZtLKtZXhv",
        "colab": {
          "base_uri": "https://localhost:8080/",
          "height": 517
        },
        "outputId": "602b88e0-e3e4-4784-8690-8440936f268d"
      },
      "source": [
        "# plot the stats\n",
        "\n",
        "f, axarr = plt.subplots(2,2, figsize = (12, 8))\n",
        "axarr[0, 0].plot(training_losses)\n",
        "axarr[0, 0].set_title(\"Training loss\")\n",
        "axarr[0, 1].plot(training_accs)\n",
        "axarr[0, 1].set_title(\"Training acc\")\n",
        "axarr[1, 0].plot(test_accs)\n",
        "\n",
        "axarr[1, 0].set_title(\"Test acc\")"
      ],
      "execution_count": null,
      "outputs": [
        {
          "output_type": "execute_result",
          "data": {
            "text/plain": [
              "Text(0.5, 1.0, 'Test acc')"
            ]
          },
          "metadata": {
            "tags": []
          },
          "execution_count": 85
        },
        {
          "output_type": "display_data",
          "data": {
            "image/png": "[encoded data removed]",
            "text/plain": [
              "<Figure size 864x576 with 4 Axes>"
            ]
          },
          "metadata": {
            "tags": [],
            "needs_background": "light"
          }
        }
      ]
    },
    {
      "cell_type": "markdown",
      "metadata": {
        "id": "JxW-YfstZXhy"
      },
      "source": [
        "## 4.4 Evaluate the model on single images (e.g for production)\n",
        "\n",
        "Next we can use the model on our own images. For that we need to tie the class numbers for which the model returns probablities with the names of those classes.\n"
      ]
    },
    {
      "cell_type": "code",
      "metadata": {
        "trusted": true,
        "id": "CiskimFLZXhz"
      },
      "source": [
        "# tie the class indices to their names\n",
        "\n",
        "def find_classes(dir):\n",
        "    classes = os.listdir(dir)\n",
        "    classes.sort()\n",
        "    class_to_idx = {classes[i]: i for i in range(len(classes))}\n",
        "    return classes, class_to_idx\n",
        "classes, c_to_idx = find_classes(dataset_dir+\"train\")"
      ],
      "execution_count": null,
      "outputs": []
    },
    {
      "cell_type": "code",
      "metadata": {
        "trusted": true,
        "id": "flkEoZY3ZXh6"
      },
      "source": [
        "# test the model on random images\n",
        "\n",
        "\n",
        "# switch the model to evaluation mode to make dropout and batch norm work in eval mode\n",
        "model_ft.eval()\n",
        "\n",
        "# transforms for the input image\n",
        "img_name = \"test/Mercedes-Benz C-Class Sedan 2012/01977.jpg\"\n",
        "img_name = \"test/AM General Hummer SUV 2000/00457.jpg\"\n",
        "\n",
        "loader = transforms.Compose([transforms.Resize((400, 400)),\n",
        "                                transforms.ToTensor(),\n",
        "                                transforms.Normalize((0.5, 0.5, 0.5), (0.5, 0.5, 0.5))])\n",
        "image = Image.open(dataset_dir + img_name)\n",
        "image = loader(image).float()\n",
        "image = torch.autograd.Variable(image, requires_grad=True)\n",
        "image = image.unsqueeze(0)\n",
        "image = image.cuda()\n",
        "output = model_ft(image)\n",
        "conf, predicted = torch.max(output.data, 1)"
      ],
      "execution_count": null,
      "outputs": []
    },
    {
      "cell_type": "code",
      "metadata": {
        "trusted": true,
        "id": "R6fuUhijZXh9",
        "colab": {
          "base_uri": "https://localhost:8080/",
          "height": 178
        },
        "outputId": "4bc80e5d-a7b8-4571-fbc4-2752460fae59"
      },
      "source": [
        "# get the class name of the prediction\n",
        "\n",
        "\n",
        "display(Image.open(dataset_dir+img_name))\n",
        "print(classes[predicted.item()], \"confidence: \", conf.item())"
      ],
      "execution_count": null,
      "outputs": [
        {
          "output_type": "display_data",
          "data": {
            "image/png": "[encoded data removed]",
            "text/plain": [
              "<PIL.JpegImagePlugin.JpegImageFile image mode=RGB size=250x144 at 0x7FF3BBE05198>"
            ]
          },
          "metadata": {
            "tags": []
          }
        },
        {
          "output_type": "stream",
          "text": [
            "AM General Hummer SUV 2000 confidence:  11.224479675292969\n"
          ],
          "name": "stdout"
        }
      ]
    },
    {
      "cell_type": "code",
      "metadata": {
        "trusted": true,
        "id": "4tuD_l08ZXiB"
      },
      "source": [
        ""
      ],
      "execution_count": null,
      "outputs": []
    },
    {
      "cell_type": "markdown",
      "metadata": {
        "id": "UJ7acq8tKDE4"
      },
      "source": [
        "# 5.Save and load model"
      ]
    },
    {
      "cell_type": "code",
      "metadata": {
        "id": "VRedDPA6KGOl"
      },
      "source": [
        "PATH = 'car_model.pth'\n",
        "torch.save(model_ft.state_dict(), PATH)"
      ],
      "execution_count": null,
      "outputs": []
    },
    {
      "cell_type": "code",
      "metadata": {
        "id": "QlrJ2NMj1ufL"
      },
      "source": [
        "! mkdir /content/drive/My\\ Drive/Colab\\ Notebooks/laioffer-in-class-coding/data/models\n",
        "!cp car_model.pth /content/drive/My\\ Drive/Colab\\ Notebooks/laioffer-in-class-coding/data/models/"
      ],
      "execution_count": null,
      "outputs": []
    },
    {
      "cell_type": "code",
      "metadata": {
        "id": "4eoxkdeN2Ghp",
        "colab": {
          "base_uri": "https://localhost:8080/"
        },
        "outputId": "c9f1efa1-5e2e-4c51-cf70-fc7be54fa53f"
      },
      "source": [
        "!ls /content/drive/My\\ Drive/Colab\\ Notebooks/laioffer-in-class-coding/data/models"
      ],
      "execution_count": null,
      "outputs": [
        {
          "output_type": "stream",
          "text": [
            "car_model.pth\n"
          ],
          "name": "stdout"
        }
      ]
    },
    {
      "cell_type": "code",
      "metadata": {
        "id": "ZJXnBDcsKRBU",
        "colab": {
          "base_uri": "https://localhost:8080/"
        },
        "outputId": "ff71e4f8-19d3-4219-e3a4-ce6b1f5dcd27"
      },
      "source": [
        "model_loaded = torch.load(PATH)\n",
        "model_loaded\n"
      ],
      "execution_count": null,
      "outputs": [
        {
          "output_type": "execute_result",
          "data": {
            "text/plain": [
              "OrderedDict([('features.0.weight',\n",
              "              tensor([[[[ 1.1079e-01,  8.9380e-02,  9.1213e-02,  ...,  5.3974e-02,\n",
              "                          1.6521e-02,  4.4646e-02],\n",
              "                        [ 7.0441e-02,  2.4328e-02,  4.5817e-02,  ...,  2.4865e-02,\n",
              "                         -1.0036e-02,  4.4818e-03],\n",
              "                        [ 7.6840e-02,  3.1569e-02,  6.4488e-02,  ...,  4.5402e-02,\n",
              "                          5.3673e-03,  6.8380e-03],\n",
              "                        ...,\n",
              "                        [ 9.9454e-02,  9.6946e-02,  5.9340e-02,  ..., -2.2549e-01,\n",
              "                         -1.4668e-01, -1.1998e-01],\n",
              "                        [ 4.3005e-02,  6.2148e-02,  4.2150e-02,  ..., -2.1568e-01,\n",
              "                         -1.3308e-01, -1.1581e-01],\n",
              "                        [ 5.8581e-02,  7.4523e-02,  5.5642e-02,  ..., -1.2401e-01,\n",
              "                         -1.1118e-01, -9.0725e-02]],\n",
              "              \n",
              "                       [[-6.5003e-02, -5.1443e-02, -7.1564e-02,  ...,  1.6838e-03,\n",
              "                         -2.4501e-02,  2.9990e-02],\n",
              "                        [-5.5832e-02, -7.0373e-02, -7.0795e-02,  ...,  4.9944e-03,\n",
              "                         -1.8807e-02,  2.0860e-02],\n",
              "                        [-8.5146e-02, -8.5497e-02, -9.0073e-02,  ..., -1.4134e-02,\n",
              "                         -1.8972e-02,  1.0336e-02],\n",
              "                        ...,\n",
              "                        [-1.2106e-01, -6.7231e-02, -7.8051e-02,  ...,  2.7839e-01,\n",
              "                          1.6187e-01,  7.9513e-02],\n",
              "                        [-1.1787e-01, -4.7060e-02, -3.6555e-02,  ...,  1.8347e-01,\n",
              "                          1.4224e-01,  8.7000e-02],\n",
              "                        [-5.0755e-02, -8.5618e-04,  6.5077e-03,  ...,  1.4983e-01,\n",
              "                          1.2661e-01,  9.3134e-02]],\n",
              "              \n",
              "                       [[-3.0028e-02, -1.1640e-02, -3.5738e-02,  ...,  3.0490e-02,\n",
              "                         -1.6143e-02,  2.8930e-02],\n",
              "                        [ 1.9405e-03,  4.6333e-03, -2.8214e-03,  ...,  1.7162e-02,\n",
              "                         -1.0967e-02,  2.2749e-02],\n",
              "                        [ 1.4290e-02,  1.8015e-02, -1.3539e-03,  ...,  1.3977e-02,\n",
              "                         -6.9196e-03,  6.5437e-03],\n",
              "                        ...,\n",
              "                        [-3.9915e-02,  4.2768e-03, -4.6736e-02,  ...,  6.3931e-02,\n",
              "                         -3.8517e-02, -9.3573e-02],\n",
              "                        [-2.6880e-02,  2.6409e-02, -8.0103e-03,  ..., -4.9870e-02,\n",
              "                         -5.8839e-02, -8.8699e-02],\n",
              "                        [ 8.9986e-03,  4.3835e-02,  1.4153e-02,  ..., -8.7213e-02,\n",
              "                         -6.7522e-02, -6.7470e-02]]],\n",
              "              \n",
              "              \n",
              "                      [[[ 2.7940e-02,  4.6297e-03,  4.1842e-02,  ...,  8.4477e-02,\n",
              "                          4.5699e-02,  6.0883e-02],\n",
              "                        [ 1.7266e-02,  1.2294e-02,  2.9978e-02,  ...,  5.9434e-02,\n",
              "                          8.4054e-03,  3.9527e-02],\n",
              "                        [ 1.8464e-02,  1.2122e-02,  3.4428e-02,  ..., -1.7036e-02,\n",
              "                         -7.2707e-02,  3.7656e-02],\n",
              "                        ...,\n",
              "                        [-1.6567e-03,  6.3853e-03,  8.5658e-03,  ...,  2.4517e-03,\n",
              "                         -3.6631e-02,  4.3193e-02],\n",
              "                        [-1.9567e-03, -1.0415e-02, -5.1893e-04,  ..., -2.8286e-03,\n",
              "                         -5.7381e-02,  3.3873e-02],\n",
              "                        [-4.7262e-02, -3.3042e-02,  1.3057e-03,  ...,  6.8865e-04,\n",
              "                         -9.6556e-03,  1.7301e-02]],\n",
              "              \n",
              "                       [[ 6.3252e-02,  4.1074e-02,  2.2033e-02,  ...,  4.3702e-02,\n",
              "                          5.9395e-03,  9.7584e-02],\n",
              "                        [ 5.7057e-02,  7.0008e-02,  2.8168e-02,  ...,  6.1193e-02,\n",
              "                         -1.7970e-02,  9.3268e-02],\n",
              "                        [ 2.7339e-02,  3.2770e-02, -1.8962e-02,  ..., -1.0568e-01,\n",
              "                         -1.6967e-01,  4.2318e-02],\n",
              "                        ...,\n",
              "                        [ 5.1493e-02,  7.7497e-02,  2.1348e-02,  ..., -7.3611e-03,\n",
              "                         -6.4056e-02,  7.2528e-02],\n",
              "                        [ 2.1825e-02,  4.0881e-02,  1.4016e-03,  ..., -2.8505e-02,\n",
              "                         -8.7060e-02,  4.8674e-02],\n",
              "                        [ 9.3524e-02,  1.2143e-01,  9.2060e-02,  ...,  5.6647e-02,\n",
              "                          9.8791e-03,  1.0745e-01]],\n",
              "              \n",
              "                       [[-3.7323e-02, -1.2844e-02, -5.6039e-02,  ...,  2.0936e-03,\n",
              "                         -6.3712e-02,  3.3340e-02],\n",
              "                        [-1.7827e-02,  4.1610e-02,  1.0499e-03,  ...,  7.1962e-02,\n",
              "                         -1.4169e-02,  5.3075e-02],\n",
              "                        [-1.0703e-01, -4.2617e-02, -9.0809e-02,  ..., -6.8852e-02,\n",
              "                         -1.5791e-01,  9.3213e-03],\n",
              "                        ...,\n",
              "                        [-4.6231e-02,  3.1383e-02, -4.0957e-02,  ..., -5.7517e-02,\n",
              "                         -1.5726e-01,  1.5178e-03],\n",
              "                        [-7.4520e-02, -2.4331e-02, -8.6278e-02,  ..., -1.1984e-01,\n",
              "                         -2.1239e-01, -4.3948e-02],\n",
              "                        [ 7.8110e-03,  5.8681e-02,  2.2867e-03,  ..., -6.0416e-02,\n",
              "                         -1.1911e-01,  1.2621e-02]]],\n",
              "              \n",
              "              \n",
              "                      [[[-5.0783e-02,  2.3735e-02,  1.0931e-02,  ..., -9.3048e-02,\n",
              "                         -1.1515e-01, -2.3304e-01],\n",
              "                        [-1.2301e-01, -2.8935e-02, -5.1296e-02,  ..., -7.5842e-02,\n",
              "                         -1.4487e-01, -3.2551e-01],\n",
              "                        [-1.6998e-01, -6.1311e-02, -6.5967e-02,  ...,  2.3341e-01,\n",
              "                          2.2107e-02, -2.0329e-01],\n",
              "                        ...,\n",
              "                        [-1.1103e-01, -9.7027e-02, -2.5208e-01,  ...,  1.2755e-01,\n",
              "                          1.9375e-01,  1.4751e-01],\n",
              "                        [-8.4924e-02, -6.7280e-02, -2.4376e-01,  ...,  2.5880e-02,\n",
              "                          9.8104e-02,  1.1460e-01],\n",
              "                        [ 3.4463e-02,  3.5818e-02, -1.5361e-01,  ..., -4.2889e-02,\n",
              "                          1.3731e-02,  5.9825e-02]],\n",
              "              \n",
              "                       [[ 7.2464e-02,  2.8065e-02, -4.3660e-03,  ...,  2.0505e-02,\n",
              "                          8.7520e-02,  1.5317e-01],\n",
              "                        [ 8.5586e-02,  3.9769e-02, -6.6152e-04,  ..., -9.9128e-03,\n",
              "                          6.9014e-02,  1.3652e-01],\n",
              "                        [ 1.0126e-01,  7.1221e-02,  2.4374e-02,  ..., -1.1619e-01,\n",
              "                         -7.1685e-02,  3.8947e-02],\n",
              "                        ...,\n",
              "                        [ 1.3646e-01,  1.2053e-01,  1.7389e-01,  ..., -5.8766e-02,\n",
              "                         -9.7117e-02, -4.8422e-02],\n",
              "                        [ 1.2437e-01,  1.1108e-01,  1.3493e-01,  ..., -1.5134e-02,\n",
              "                         -6.6429e-02, -8.9263e-03],\n",
              "                        [ 7.9281e-02,  8.1496e-02,  9.5272e-02,  ...,  2.8344e-02,\n",
              "                         -2.2879e-02,  1.1457e-02]],\n",
              "              \n",
              "                       [[ 2.2480e-02, -3.8839e-02, -2.9062e-02,  ...,  1.1221e-01,\n",
              "                          1.4591e-01,  1.2843e-01],\n",
              "                        [ 7.7500e-03, -3.5780e-02, -3.4068e-02,  ...,  8.7999e-02,\n",
              "                          1.6807e-01,  1.7620e-01],\n",
              "                        [ 7.1001e-02,  1.9453e-02,  2.6078e-02,  ..., -5.8910e-02,\n",
              "                          1.6194e-02,  1.4267e-01],\n",
              "                        ...,\n",
              "                        [-1.9886e-02, -1.8665e-02,  1.2997e-01,  ..., -8.1019e-02,\n",
              "                         -1.2913e-01, -9.3493e-02],\n",
              "                        [-2.9138e-02, -3.1912e-02,  1.0206e-01,  ..., -1.3888e-02,\n",
              "                         -6.4355e-02, -5.3570e-02],\n",
              "                        [-1.5646e-01, -1.6181e-01, -2.0954e-02,  ...,  1.5299e-02,\n",
              "                         -2.2404e-02, -3.8384e-02]]],\n",
              "              \n",
              "              \n",
              "                      ...,\n",
              "              \n",
              "              \n",
              "                      [[[ 1.5585e-02,  2.2364e-02,  7.3767e-03,  ...,  2.0979e-02,\n",
              "                          1.1794e-02, -3.0360e-03],\n",
              "                        [ 3.6161e-03,  2.3608e-02, -1.6957e-02,  ...,  1.0665e-02,\n",
              "                          9.2539e-03, -3.8248e-03],\n",
              "                        [-1.1214e-02,  4.2590e-03, -3.5316e-02,  ..., -6.9349e-03,\n",
              "                         -1.0765e-02, -2.7786e-02],\n",
              "                        ...,\n",
              "                        [ 8.3259e-02,  7.5074e-02,  1.1490e-01,  ...,  1.4774e-01,\n",
              "                          9.6895e-02,  8.0307e-02],\n",
              "                        [ 1.3323e-01,  9.3249e-02,  1.0011e-01,  ..., -3.8444e-02,\n",
              "                         -4.3602e-02, -2.7289e-02],\n",
              "                        [-1.1492e-01, -1.2287e-01, -1.7306e-01,  ..., -1.6769e-01,\n",
              "                         -1.4535e-01, -1.3394e-01]],\n",
              "              \n",
              "                       [[ 1.1942e-02,  2.7178e-02,  1.2683e-02,  ...,  1.0106e-02,\n",
              "                          9.0199e-03,  8.4623e-03],\n",
              "                        [ 1.6544e-02,  8.3037e-03,  8.4376e-03,  ..., -6.8972e-03,\n",
              "                          7.3174e-03,  4.7621e-03],\n",
              "                        [ 3.2460e-03,  6.8366e-03, -2.3906e-02,  ..., -1.2426e-03,\n",
              "                         -2.1240e-03, -1.1617e-02],\n",
              "                        ...,\n",
              "                        [ 1.1946e-01,  8.8389e-02,  1.3781e-01,  ...,  1.5264e-01,\n",
              "                          8.8905e-02,  1.0209e-01],\n",
              "                        [ 1.9020e-01,  1.2868e-01,  1.2768e-01,  ..., -3.3503e-02,\n",
              "                         -3.3475e-02, -1.2500e-02],\n",
              "                        [-1.2345e-01, -1.3706e-01, -1.8045e-01,  ..., -1.9215e-01,\n",
              "                         -1.6381e-01, -1.5426e-01]],\n",
              "              \n",
              "                       [[-1.8377e-02, -1.0144e-02, -6.6143e-03,  ..., -6.2430e-03,\n",
              "                         -1.9394e-03, -2.5636e-03],\n",
              "                        [-6.3885e-03, -1.0355e-02, -1.8067e-02,  ..., -6.4950e-03,\n",
              "                         -4.0705e-03, -1.3780e-02],\n",
              "                        [-2.1348e-02, -1.5194e-02, -2.2879e-02,  ..., -1.1905e-02,\n",
              "                         -9.0980e-04, -2.8818e-02],\n",
              "                        ...,\n",
              "                        [ 9.3435e-03, -2.8513e-02,  3.1750e-02,  ...,  4.2595e-02,\n",
              "                          2.2054e-02,  2.4117e-02],\n",
              "                        [ 1.0289e-01,  7.2382e-02,  1.0708e-01,  ...,  1.1121e-03,\n",
              "                          3.4195e-03, -2.8426e-04],\n",
              "                        [-1.0986e-01, -8.9505e-02, -1.0771e-01,  ..., -5.3866e-02,\n",
              "                         -3.8841e-02, -4.7311e-02]]],\n",
              "              \n",
              "              \n",
              "                      [[[-6.7747e-04,  3.7123e-02, -1.9005e-02,  ...,  1.2808e-03,\n",
              "                         -1.6945e-02, -5.8157e-04],\n",
              "                        [ 7.1123e-02,  3.7908e-02,  4.7308e-02,  ...,  5.0608e-02,\n",
              "                          2.6393e-02,  4.1543e-02],\n",
              "                        [ 1.5165e-02,  1.2260e-02,  1.6622e-02,  ..., -1.3489e-02,\n",
              "                         -3.5136e-03,  1.2064e-02],\n",
              "                        ...,\n",
              "                        [-1.5382e-02, -5.0310e-02, -3.5643e-02,  ..., -1.5493e-02,\n",
              "                         -2.7174e-02, -5.2071e-02],\n",
              "                        [ 4.2925e-03, -5.2838e-02, -6.3992e-03,  ..., -5.7601e-02,\n",
              "                         -3.8780e-02, -3.2294e-02],\n",
              "                        [-8.9262e-03, -3.4567e-02,  1.4529e-02,  ..., -6.0763e-02,\n",
              "                         -3.1775e-02, -5.3157e-02]],\n",
              "              \n",
              "                       [[-7.9099e-02, -3.9054e-02, -1.4585e-01,  ..., -1.1169e-01,\n",
              "                         -9.1101e-02, -3.3340e-02],\n",
              "                        [ 4.1307e-02,  4.2280e-02,  5.9941e-03,  ...,  2.3556e-02,\n",
              "                          1.4162e-02,  5.0969e-02],\n",
              "                        [-6.1251e-02, -2.6026e-02, -7.0861e-02,  ..., -7.7188e-02,\n",
              "                         -6.2183e-02, -4.9361e-02],\n",
              "                        ...,\n",
              "                        [ 6.0313e-02,  2.9369e-02,  4.6831e-02,  ...,  5.4146e-02,\n",
              "                          6.2802e-02,  3.6300e-02],\n",
              "                        [ 1.0890e-01,  5.4845e-02,  1.0869e-01,  ...,  1.0032e-01,\n",
              "                          1.0304e-01,  1.1097e-01],\n",
              "                        [-8.4723e-03, -1.1816e-02,  6.2964e-02,  ...,  3.2814e-02,\n",
              "                          6.3481e-02,  2.0523e-02]],\n",
              "              \n",
              "                       [[-1.6537e-01, -1.0480e-01, -2.3163e-01,  ..., -1.5099e-01,\n",
              "                         -1.5442e-01, -8.0348e-02],\n",
              "                        [ 8.2399e-03,  3.5559e-02, -2.3859e-02,  ...,  2.3025e-02,\n",
              "                          1.3403e-03,  4.9767e-02],\n",
              "                        [-1.6628e-01, -9.0867e-02, -1.5645e-01,  ..., -1.5765e-01,\n",
              "                         -1.4401e-01, -1.2237e-01],\n",
              "                        ...,\n",
              "                        [ 5.0117e-02,  1.2004e-03,  4.3239e-02,  ...,  3.9182e-02,\n",
              "                          5.0309e-02,  1.5798e-02],\n",
              "                        [ 1.0568e-01,  4.9450e-02,  1.2391e-01,  ...,  1.1557e-01,\n",
              "                          1.2280e-01,  1.2642e-01],\n",
              "                        [-1.7984e-02, -4.9376e-02,  6.2101e-02,  ...,  6.5903e-02,\n",
              "                          1.1058e-01,  3.6709e-02]]],\n",
              "              \n",
              "              \n",
              "                      [[[-9.6325e-02,  5.6372e-02,  1.4845e-01,  ..., -2.7292e-02,\n",
              "                          2.3664e-02,  1.3792e-02],\n",
              "                        [ 6.4843e-02,  1.2270e-01, -1.3460e-01,  ...,  8.2852e-02,\n",
              "                          1.0168e-02, -2.2898e-02],\n",
              "                        [ 1.0421e-01, -1.4414e-01, -1.9249e-01,  ..., -3.7611e-02,\n",
              "                         -8.6444e-02,  2.5037e-02],\n",
              "                        ...,\n",
              "                        [-1.8438e-01,  2.5654e-02,  3.5783e-01,  ...,  2.8845e-01,\n",
              "                          1.3181e-01, -1.5279e-01],\n",
              "                        [ 8.2201e-02,  1.5211e-01,  1.5220e-02,  ..., -7.7749e-02,\n",
              "                         -2.4472e-01, -6.9246e-02],\n",
              "                        [ 1.8035e-02, -6.3263e-02, -7.1353e-02,  ..., -9.1085e-02,\n",
              "                          1.1309e-01,  1.3174e-01]],\n",
              "              \n",
              "                       [[-9.3737e-02,  7.1406e-02,  1.3228e-01,  ..., -2.2145e-02,\n",
              "                          4.1724e-02,  2.5304e-02],\n",
              "                        [ 9.2214e-02,  1.0909e-01, -1.5551e-01,  ...,  1.1866e-01,\n",
              "                          4.1858e-02, -1.3954e-02],\n",
              "                        [ 1.2196e-01, -1.6562e-01, -1.7355e-01,  ..., -4.0086e-02,\n",
              "                         -8.5715e-02,  3.9481e-02],\n",
              "                        ...,\n",
              "                        [-1.7774e-01,  9.1988e-02,  5.1495e-01,  ...,  3.1679e-01,\n",
              "                          1.8443e-01, -1.1585e-01],\n",
              "                        [ 1.3243e-01,  2.2932e-01,  5.7299e-02,  ..., -1.1097e-02,\n",
              "                         -2.2636e-01, -5.6601e-02],\n",
              "                        [ 2.8228e-02, -8.9070e-02, -1.4225e-01,  ..., -7.5507e-02,\n",
              "                          1.0066e-01,  1.4587e-01]],\n",
              "              \n",
              "                       [[-1.2635e-01,  3.7285e-02,  1.2351e-01,  ..., -6.5904e-02,\n",
              "                          1.6246e-02,  1.0061e-02],\n",
              "                        [ 4.0722e-02,  8.9707e-02, -1.5713e-01,  ...,  9.8312e-02,\n",
              "                          3.0646e-02, -9.4329e-03],\n",
              "                        [ 8.4311e-02, -1.3124e-01, -1.7697e-01,  ..., -4.1508e-02,\n",
              "                         -9.6340e-02,  2.8209e-02],\n",
              "                        ...,\n",
              "                        [-1.9010e-01,  6.2158e-02,  4.1052e-01,  ...,  2.4023e-01,\n",
              "                          1.1666e-01, -1.2222e-01],\n",
              "                        [ 9.1695e-02,  1.9072e-01,  4.5805e-02,  ..., -5.7726e-02,\n",
              "                         -2.1913e-01, -3.6403e-02],\n",
              "                        [ 3.0235e-02, -9.2386e-02, -1.3446e-01,  ..., -5.0717e-02,\n",
              "                          1.1115e-01,  1.0779e-01]]]], device='cuda:0')),\n",
              "             ('features.0.bias',\n",
              "              tensor([-1.2057, -2.8870, -0.3218, -0.4147, -0.4140, -0.4283, -0.4300, -1.5505,\n",
              "                       1.6319, -0.3815, -0.3358, -0.4724, -0.4168, -0.3710, -0.4289, -1.3806,\n",
              "                      -0.3238, -0.3353, -0.3940, -1.2584, -0.3790, -0.3393, -0.4220, -0.4015,\n",
              "                      -0.4582, -0.3750, -2.0820, -0.3353, -0.5126, -0.4853, -0.4682, -2.2145,\n",
              "                      -0.3969, -0.3058, -0.3329, -0.5494, -2.8824,  0.5187, -0.4579, -2.3699,\n",
              "                      -0.0420, -0.3177, -0.5027, -0.3240, -0.6370, -2.1602, -1.3119, -0.2884,\n",
              "                      -0.3890, -0.2598, -0.5499, -1.9026, -0.0923, -0.1302, -0.3166, -0.3428,\n",
              "                      -0.3806, -0.3912, -1.3355, -0.4486, -0.1772, -0.6209, -0.2969, -0.1685],\n",
              "                     device='cuda:0')),\n",
              "             ('features.3.weight',\n",
              "              tensor([[[[-2.6557e-05, -9.2399e-03,  6.3196e-03, -6.8064e-02, -3.6688e-02],\n",
              "                        [ 1.1387e-02,  1.8488e-03,  7.6172e-02, -1.2575e-01, -8.0541e-03],\n",
              "                        [-3.6045e-03, -1.1421e-01,  3.3631e-02, -5.7890e-02,  2.9692e-02],\n",
              "                        [-4.0202e-02, -7.4512e-02, -6.3627e-02,  1.1643e-02,  8.6000e-03],\n",
              "                        [-2.8287e-02, -1.4795e-02,  1.5787e-02, -2.5181e-03, -3.4400e-02]],\n",
              "              \n",
              "                       [[ 9.3355e-03, -1.9715e-02, -6.6520e-02, -4.0513e-02, -2.0415e-02],\n",
              "                        [-6.6474e-03,  3.4360e-02,  3.1320e-03, -2.7213e-02, -1.5387e-02],\n",
              "                        [-2.8132e-02,  3.3365e-02, -2.0776e-03, -2.5474e-02, -1.2613e-02],\n",
              "                        [-2.9898e-02,  1.1251e-02,  2.3355e-02, -1.3613e-02, -5.8410e-03],\n",
              "                        [ 3.4723e-02, -4.9277e-03,  1.6243e-02, -1.7206e-02,  2.2449e-02]],\n",
              "              \n",
              "                       [[-5.9136e-02, -1.1347e-01, -1.3317e-01,  1.8191e-02,  6.1530e-02],\n",
              "                        [-1.8207e-02, -1.1391e-01,  8.8154e-03,  6.7150e-02,  2.5824e-02],\n",
              "                        [-2.9309e-02,  4.6564e-02,  2.9785e-01,  7.7929e-02, -8.5184e-02],\n",
              "                        [ 1.3169e-02,  6.8151e-02, -8.6418e-03, -1.6724e-01, -4.4625e-02],\n",
              "                        [ 8.1449e-02,  3.8954e-02, -6.8816e-02, -1.0376e-01,  3.8411e-03]],\n",
              "              \n",
              "                       ...,\n",
              "              \n",
              "                       [[-2.6356e-02,  2.6112e-02,  4.4032e-02,  1.6228e-02,  2.2277e-02],\n",
              "                        [-2.7383e-02, -1.3560e-02,  6.6190e-02, -6.2055e-02, -4.2684e-02],\n",
              "                        [-4.9874e-03, -4.8951e-02,  1.4030e-01,  3.0338e-02, -5.9936e-02],\n",
              "                        [-1.3804e-02,  2.4953e-02,  5.3056e-02,  5.1533e-02, -4.8739e-03],\n",
              "                        [ 3.9231e-03,  2.2138e-02, -4.3705e-03,  2.1778e-02,  1.7058e-02]],\n",
              "              \n",
              "                       [[ 3.9720e-03, -2.7890e-02,  3.2941e-03, -1.0666e-03, -3.3806e-02],\n",
              "                        [ 1.9159e-02, -1.8324e-02,  7.6475e-02,  1.6164e-02,  5.0875e-02],\n",
              "                        [ 2.8739e-02,  1.0710e-02, -1.7358e-02, -4.4329e-02,  3.1492e-02],\n",
              "                        [-1.5793e-02,  1.5277e-03, -7.8597e-03,  1.4376e-02,  1.4256e-02],\n",
              "                        [-4.9486e-02, -1.3961e-02,  4.9297e-02,  2.0090e-02, -5.2586e-02]],\n",
              "              \n",
              "                       [[-1.4972e-02,  1.4537e-02, -2.8641e-02, -1.1171e-01,  2.3351e-02],\n",
              "                        [ 2.8493e-02,  2.7863e-02,  1.7263e-01, -1.8802e-01, -1.4673e-01],\n",
              "                        [ 9.7202e-03, -1.3205e-01,  2.9689e-01,  2.1153e-01, -1.7384e-01],\n",
              "                        [ 2.1305e-02, -9.3752e-02, -1.2734e-01,  1.3380e-01,  3.3455e-02],\n",
              "                        [ 2.3744e-02,  3.8437e-02, -5.5336e-02, -3.1102e-03,  1.6622e-03]]],\n",
              "              \n",
              "              \n",
              "                      [[[-2.9098e-02, -8.6598e-02,  1.8280e-02,  7.8982e-03,  2.2804e-02],\n",
              "                        [-1.1750e-02, -7.2891e-02, -6.5780e-02, -2.7048e-02,  5.3714e-03],\n",
              "                        [ 7.5218e-03, -2.9620e-02, -1.7634e-01, -2.6914e-02, -6.2139e-02],\n",
              "                        [-2.4602e-02,  6.8615e-02, -3.7473e-02, -6.5843e-03, -3.6915e-02],\n",
              "                        [ 5.7605e-03,  2.7983e-02, -2.7336e-02,  2.0911e-03, -1.9762e-02]],\n",
              "              \n",
              "                       [[-1.1180e-02, -2.7608e-02, -5.5450e-02,  4.0590e-03, -3.9170e-02],\n",
              "                        [ 1.3283e-02, -4.2633e-03, -5.0771e-02, -4.2579e-04, -3.0832e-02],\n",
              "                        [-1.4089e-02,  1.9334e-02,  1.3867e-02, -1.3690e-02,  4.6256e-03],\n",
              "                        [-3.0325e-02, -6.7950e-02,  3.0409e-03, -2.1934e-02, -3.7994e-02],\n",
              "                        [-1.0129e-02, -7.0227e-02,  4.3581e-02,  2.5599e-02, -2.0308e-02]],\n",
              "              \n",
              "                       [[-5.7688e-02,  9.9812e-02, -2.5042e-05,  7.3459e-03,  2.5600e-02],\n",
              "                        [-1.4288e-01,  1.2990e-01,  1.1863e-01,  3.1973e-03,  3.6108e-02],\n",
              "                        [-9.9115e-02,  9.9271e-02,  3.2456e-01, -7.1988e-03,  3.9720e-02],\n",
              "                        [ 7.4109e-03, -5.1620e-02,  2.1130e-01, -4.5856e-03, -5.2271e-02],\n",
              "                        [ 1.4255e-02, -1.6093e-01,  9.9692e-02,  6.4874e-02, -3.2902e-02]],\n",
              "              \n",
              "                       ...,\n",
              "              \n",
              "                       [[-1.0641e-02, -2.6002e-02,  2.2119e-02,  1.1131e-02, -2.6408e-03],\n",
              "                        [-3.6762e-02,  3.2559e-03,  2.3192e-02,  5.8654e-02, -1.5600e-02],\n",
              "                        [-3.9473e-02,  2.9064e-02, -2.5404e-02,  3.1324e-02, -2.5994e-03],\n",
              "                        [-3.1215e-02,  3.0424e-02,  2.1603e-02, -8.3637e-03,  5.4416e-03],\n",
              "                        [-3.2115e-02, -1.9565e-02,  1.9879e-02, -7.5353e-03,  5.9426e-03]],\n",
              "              \n",
              "                       [[-2.1925e-02, -6.6671e-02, -5.1435e-02,  2.3369e-02,  2.3537e-02],\n",
              "                        [ 1.4324e-03, -4.0974e-02, -7.7721e-02,  3.1697e-02,  3.3684e-03],\n",
              "                        [ 2.6797e-02, -6.9813e-02, -1.2175e-01, -5.2988e-02, -3.6376e-02],\n",
              "                        [-5.3764e-03, -4.2156e-02, -1.5005e-02, -2.0262e-02, -4.1582e-02],\n",
              "                        [-6.7650e-03, -8.1984e-03, -8.2005e-03, -4.1917e-02,  2.0956e-03]],\n",
              "              \n",
              "                       [[-6.2728e-03, -8.5209e-03,  9.7501e-03,  3.6324e-05, -4.4734e-03],\n",
              "                        [-2.5815e-02,  1.5245e-02, -3.9011e-02,  9.9666e-03, -6.4947e-03],\n",
              "                        [-6.6855e-03,  6.4364e-02, -5.2885e-02,  4.6404e-02,  9.6807e-03],\n",
              "                        [-2.6335e-02,  2.4171e-02,  6.4198e-03, -2.2825e-02, -2.6108e-02],\n",
              "                        [-1.7170e-02,  1.1847e-02,  1.6851e-02, -5.3851e-02, -2.9380e-02]]],\n",
              "              \n",
              "              \n",
              "                      [[[-2.6853e-03, -4.2205e-02, -5.7737e-02, -2.4261e-02,  1.6950e-02],\n",
              "                        [ 1.5235e-01, -5.6552e-02, -4.2906e-02, -2.1897e-02,  9.9319e-03],\n",
              "                        [ 1.0827e-02, -3.6106e-02, -2.0260e-02,  6.3534e-03,  1.9610e-02],\n",
              "                        [ 4.1870e-03,  1.9412e-02,  4.2484e-03,  3.1473e-03, -1.1285e-02],\n",
              "                        [ 5.0154e-02,  3.0110e-02,  4.4532e-02,  4.3410e-02,  1.5801e-03]],\n",
              "              \n",
              "                       [[ 2.2215e-02, -3.1939e-02, -4.8596e-03,  1.8378e-02,  4.4101e-03],\n",
              "                        [ 5.7821e-02, -6.4270e-02, -3.1576e-02, -1.2879e-02,  1.8178e-02],\n",
              "                        [ 7.8192e-02, -5.6669e-02, -4.7307e-02, -2.9470e-02,  5.2987e-03],\n",
              "                        [ 5.6404e-02, -4.8288e-02, -4.9259e-02, -1.4069e-02, -2.8277e-03],\n",
              "                        [ 7.7135e-02,  2.1816e-02,  5.1384e-03,  8.8403e-03,  2.0403e-02]],\n",
              "              \n",
              "                       [[ 4.8440e-03, -2.3724e-02, -3.2458e-02, -1.1146e-02, -4.2561e-02],\n",
              "                        [ 1.7864e-01, -3.2801e-02, -3.6032e-02, -2.0766e-02, -4.1388e-02],\n",
              "                        [ 9.7245e-02, -4.8264e-02, -4.5640e-02, -2.0493e-02, -1.0926e-02],\n",
              "                        [-4.1701e-02, -3.3720e-02, -1.3711e-02,  1.4027e-02,  8.9435e-03],\n",
              "                        [-1.8307e-02, -1.1863e-02, -8.5181e-03, -8.5462e-04, -7.2552e-03]],\n",
              "              \n",
              "                       ...,\n",
              "              \n",
              "                       [[ 2.0019e-02, -4.5071e-03, -1.3081e-02, -2.2174e-02,  8.0651e-03],\n",
              "                        [ 1.1663e-01, -4.6831e-03, -2.4946e-02, -2.4855e-02, -1.8140e-02],\n",
              "                        [ 6.5396e-04, -4.7449e-02, -4.1652e-02, -3.5840e-03,  1.9587e-03],\n",
              "                        [ 1.3112e-02,  6.8715e-04,  1.0417e-02, -2.1312e-03, -9.3638e-05],\n",
              "                        [ 9.4177e-03, -4.8346e-03,  6.4773e-03,  2.5776e-03, -1.3718e-02]],\n",
              "              \n",
              "                       [[-2.3442e-02, -1.6072e-02, -3.4010e-02, -3.0989e-02, -1.6969e-02],\n",
              "                        [ 5.0018e-02, -1.2065e-01, -4.7480e-02,  1.9088e-03, -8.9026e-05],\n",
              "                        [-8.3014e-03, -6.4590e-02, -4.1988e-02, -2.0624e-02,  1.6021e-02],\n",
              "                        [-6.4615e-03,  9.4698e-04, -1.1860e-02, -4.1502e-02, -1.1001e-02],\n",
              "                        [ 3.0566e-02,  1.1912e-02, -1.5130e-02,  2.9662e-03,  7.9308e-04]],\n",
              "              \n",
              "                       [[ 1.5809e-02,  2.0347e-02,  4.9924e-03, -1.7457e-02, -1.2138e-02],\n",
              "                        [ 8.7424e-02, -2.5528e-02,  1.3082e-02,  1.6382e-02, -6.5222e-03],\n",
              "                        [ 1.2455e-02, -5.5633e-02, -4.2682e-03,  8.8918e-03, -1.4505e-02],\n",
              "                        [-3.2023e-03,  1.5174e-02, -1.2734e-02, -1.1767e-02, -7.7360e-03],\n",
              "                        [ 1.8457e-02,  2.8464e-02, -7.9326e-03, -1.0165e-02, -2.2491e-03]]],\n",
              "              \n",
              "              \n",
              "                      ...,\n",
              "              \n",
              "              \n",
              "                      [[[ 3.2090e-02,  2.7174e-02,  2.4857e-02, -2.3264e-02, -2.6484e-02],\n",
              "                        [-1.0122e-02, -5.1939e-02, -1.8796e-02, -1.7523e-02, -1.0045e-02],\n",
              "                        [-4.0921e-02, -5.5010e-02, -4.8844e-02, -6.1867e-04,  4.3626e-03],\n",
              "                        [-5.7841e-03, -1.5088e-02, -9.9304e-03, -4.9825e-03, -3.4181e-03],\n",
              "                        [ 1.1556e-02,  6.8997e-03,  2.0819e-02, -1.1394e-03, -2.5399e-02]],\n",
              "              \n",
              "                       [[-3.1177e-02, -2.5085e-02, -5.8229e-02, -4.4505e-02, -3.6273e-02],\n",
              "                        [-4.0814e-02, -3.4124e-03,  9.6958e-04,  7.2132e-02,  4.4319e-02],\n",
              "                        [-3.0065e-02, -3.8682e-03, -3.1804e-02, -2.9141e-03, -2.6738e-02],\n",
              "                        [-1.6907e-02,  8.5765e-03, -4.0242e-02, -6.7957e-02, -4.1298e-02],\n",
              "                        [-3.8948e-03,  2.7725e-02,  1.9537e-02, -1.5011e-02, -2.4181e-04]],\n",
              "              \n",
              "                       [[-7.7916e-02, -1.1924e-01, -1.5627e-01, -9.7018e-02,  4.9026e-03],\n",
              "                        [-6.7270e-02, -7.1750e-02, -5.5669e-02,  4.6353e-02,  6.6900e-02],\n",
              "                        [-1.2182e-02,  6.5928e-03,  6.9630e-02,  7.0839e-02, -3.6850e-04],\n",
              "                        [-1.1560e-02, -1.3769e-02,  2.7795e-02, -1.8373e-02, -6.1995e-02],\n",
              "                        [-4.6270e-03, -1.4824e-02,  2.7655e-02, -1.0739e-02, -6.4605e-02]],\n",
              "              \n",
              "                       ...,\n",
              "              \n",
              "                       [[-4.2471e-02, -5.5389e-02, -3.7506e-02,  7.6836e-02,  4.7897e-02],\n",
              "                        [-7.0869e-02, -7.3422e-02, -4.6373e-02,  8.1838e-02,  5.1749e-02],\n",
              "                        [ 9.4138e-03, -3.9004e-03, -5.3167e-02, -2.2032e-02,  2.0379e-03],\n",
              "                        [ 8.7481e-03,  4.6849e-03, -1.6041e-02, -2.5712e-02,  2.2349e-02],\n",
              "                        [-5.3738e-04,  3.7778e-02,  3.0823e-02, -1.2628e-02,  1.0759e-02]],\n",
              "              \n",
              "                       [[ 1.0515e-02,  6.1928e-02,  4.6038e-02, -1.0647e-02,  8.7148e-03],\n",
              "                        [-4.4791e-02, -3.0174e-02, -1.3704e-02, -8.3495e-02, -4.6776e-02],\n",
              "                        [-6.1254e-02, -9.4379e-03,  1.6649e-02,  2.6428e-02,  5.4824e-02],\n",
              "                        [ 2.2334e-02,  1.9368e-03, -1.8417e-02,  2.7100e-02,  3.4827e-02],\n",
              "                        [-1.4865e-02,  7.8246e-03, -1.5782e-02,  1.4384e-02,  3.4698e-02]],\n",
              "              \n",
              "                       [[ 7.4378e-02,  3.6966e-02, -1.1659e-02,  2.7000e-02, -5.8787e-02],\n",
              "                        [ 9.3826e-02,  5.7326e-02, -3.4393e-02,  4.6345e-02,  1.4385e-01],\n",
              "                        [ 6.8106e-02,  5.1048e-02, -5.3782e-02, -1.0344e-01, -7.8504e-05],\n",
              "                        [ 4.1902e-02,  5.5516e-02,  6.2066e-02, -8.4330e-03, -7.3998e-02],\n",
              "                        [ 4.6353e-03,  2.0032e-02,  3.1456e-02,  1.6144e-02, -1.8109e-02]]],\n",
              "              \n",
              "              \n",
              "                      [[[ 2.0691e-02, -3.7188e-02, -4.4806e-02, -7.0788e-02, -3.3599e-02],\n",
              "                        [ 3.9205e-03, -4.2030e-02, -1.0233e-01, -1.2616e-01, -5.3921e-02],\n",
              "                        [-2.3824e-02, -2.2579e-02, -9.2839e-02, -1.1917e-01, -5.4688e-02],\n",
              "                        [-1.2518e-02, -1.9398e-03, -4.0468e-02, -6.4125e-02, -4.7242e-02],\n",
              "                        [ 4.0704e-04, -2.6856e-02, -3.5684e-02, -2.5503e-02, -3.9937e-02]],\n",
              "              \n",
              "                       [[ 5.2842e-02, -2.6674e-03, -1.7122e-01, -9.5894e-02, -2.4898e-02],\n",
              "                        [ 9.0958e-02,  8.0533e-02, -7.8548e-02, -8.2374e-02, -9.3920e-02],\n",
              "                        [ 1.1378e-01,  1.5075e-01,  2.2312e-02, -6.9286e-02, -1.8098e-01],\n",
              "                        [ 1.5627e-02,  8.1083e-02,  4.9927e-02, -1.5334e-02, -1.2046e-01],\n",
              "                        [-1.0068e-03,  6.3879e-02,  1.1308e-01,  6.9763e-02, -5.8073e-02]],\n",
              "              \n",
              "                       [[-3.8738e-02, -1.6957e-02, -2.1044e-02,  9.5176e-03,  6.9587e-02],\n",
              "                        [ 3.9664e-03,  3.6293e-03, -3.2465e-02, -2.2695e-03,  2.5791e-02],\n",
              "                        [ 4.3142e-02,  6.9757e-02,  4.3568e-02, -7.3423e-02, -3.4638e-02],\n",
              "                        [-2.1170e-02,  1.3652e-02,  6.5484e-02, -5.3107e-02, -8.6736e-02],\n",
              "                        [ 5.6470e-03,  2.3287e-03,  3.7918e-02, -4.6563e-02, -1.0542e-01]],\n",
              "              \n",
              "                       ...,\n",
              "              \n",
              "                       [[-4.2919e-03, -9.6780e-03,  1.2184e-02,  3.0234e-02,  1.1845e-02],\n",
              "                        [-2.2550e-03, -1.7470e-02, -3.9401e-02,  3.0023e-02,  5.1749e-02],\n",
              "                        [-2.8143e-02, -4.1843e-02, -8.2346e-02, -1.1624e-02,  7.1715e-02],\n",
              "                        [-6.7491e-03,  1.1456e-02, -9.0744e-03, -2.3794e-02,  9.7795e-03],\n",
              "                        [-1.1018e-02, -1.6828e-02, -8.9208e-03, -1.4402e-02,  1.9003e-02]],\n",
              "              \n",
              "                       [[-3.3589e-02, -6.9339e-02, -6.6093e-02,  1.5269e-02,  3.2141e-02],\n",
              "                        [ 2.2277e-02, -1.0284e-02, -1.6432e-01, -5.8451e-02, -2.2525e-02],\n",
              "                        [ 5.2987e-02,  6.7196e-02, -3.3465e-02, -1.2450e-01, -4.8927e-02],\n",
              "                        [ 2.5701e-02,  6.6194e-02,  9.0801e-02, -2.0012e-02, -6.3386e-02],\n",
              "                        [ 4.4407e-02, -5.5022e-03,  6.0893e-02,  2.9336e-02, -4.8688e-02]],\n",
              "              \n",
              "                       [[-5.6701e-03, -2.3444e-03,  8.4552e-03,  1.6993e-02, -1.2124e-04],\n",
              "                        [-2.0818e-03, -1.3589e-02, -1.9291e-02,  6.3607e-03,  1.7071e-02],\n",
              "                        [ 1.8794e-02, -1.4115e-02, -3.1849e-02, -1.4364e-02,  2.9880e-02],\n",
              "                        [ 1.0571e-02,  1.8359e-02, -1.5093e-02, -2.6757e-02,  6.3031e-03],\n",
              "                        [-7.4406e-03, -1.3175e-02, -9.9061e-03, -3.7501e-02, -3.2562e-02]]],\n",
              "              \n",
              "              \n",
              "                      [[[ 9.7875e-03, -2.1376e-02, -1.6811e-02,  2.2136e-03,  1.5594e-02],\n",
              "                        [-1.2278e-02, -2.4987e-02, -2.2184e-02, -8.9176e-03, -4.0946e-03],\n",
              "                        [ 9.8931e-04, -2.3862e-02, -4.6722e-02, -2.4937e-02, -7.9173e-03],\n",
              "                        [-4.8191e-04, -2.6583e-02, -3.2365e-02, -6.7803e-03, -1.3027e-02],\n",
              "                        [-1.4578e-03,  1.1094e-02,  5.6334e-03,  1.8670e-02,  1.0131e-02]],\n",
              "              \n",
              "                       [[ 1.4520e-02,  2.5003e-02,  2.5150e-02,  3.3495e-03,  3.8964e-02],\n",
              "                        [-7.3457e-03, -1.6536e-02, -1.3638e-02, -7.9982e-03,  1.3829e-03],\n",
              "                        [-1.1473e-02, -1.7015e-02,  2.5768e-02, -1.9258e-03,  2.4664e-02],\n",
              "                        [ 3.0389e-03, -6.7593e-03,  2.5173e-02,  8.1838e-03,  6.9830e-03],\n",
              "                        [ 8.4053e-03,  1.5820e-02,  4.2857e-02,  1.3814e-02,  1.6602e-02]],\n",
              "              \n",
              "                       [[-8.9335e-03,  1.5947e-02,  1.6791e-02, -1.9360e-03,  1.6190e-02],\n",
              "                        [-1.3493e-02,  2.5796e-03, -2.4447e-02, -1.5528e-02, -2.3488e-03],\n",
              "                        [-1.2288e-02,  9.1371e-03, -1.0251e-03, -1.2903e-02,  4.8987e-04],\n",
              "                        [-5.8339e-04, -4.2241e-03, -4.1651e-03, -4.2085e-03,  1.0210e-03],\n",
              "                        [-2.5914e-03, -1.4611e-02,  1.3075e-02, -1.1703e-02, -2.5907e-02]],\n",
              "              \n",
              "                       ...,\n",
              "              \n",
              "                       [[-4.3176e-03, -3.3820e-02, -1.6116e-02, -2.1239e-02, -1.8882e-03],\n",
              "                        [-4.8697e-02, -5.1956e-02, -4.7674e-02, -6.1473e-02, -4.1022e-02],\n",
              "                        [ 2.7311e-02,  2.8769e-02,  4.1749e-02,  2.0208e-02,  2.8741e-02],\n",
              "                        [ 1.5362e-02,  2.0722e-02,  5.9412e-02,  1.8688e-02,  1.9514e-02],\n",
              "                        [-3.7090e-03, -5.6498e-03, -2.3320e-03,  2.4586e-03,  5.9782e-03]],\n",
              "              \n",
              "                       [[ 1.5858e-02,  2.1060e-03,  6.0542e-02,  1.4221e-02,  2.7775e-02],\n",
              "                        [-1.0594e-02,  4.1527e-02,  1.2293e-01,  6.2629e-02,  3.6297e-02],\n",
              "                        [-9.4111e-03,  3.3360e-02,  1.2751e-01,  6.1916e-02,  2.9897e-02],\n",
              "                        [ 3.5119e-02,  4.3989e-02,  1.4524e-01,  3.7141e-02, -1.2763e-02],\n",
              "                        [-1.0130e-02, -9.9766e-03, -4.4748e-03, -1.1002e-02, -2.4733e-04]],\n",
              "              \n",
              "                       [[ 7.0635e-02,  2.1316e-02, -8.6631e-03, -4.9702e-03, -3.6000e-03],\n",
              "                        [ 2.9527e-02, -7.2855e-03, -5.5301e-02, -3.4700e-02, -1.8348e-02],\n",
              "                        [-1.0023e-02, -4.2821e-02, -8.4060e-02, -5.1551e-02, -1.5769e-02],\n",
              "                        [-3.6462e-03, -3.7307e-02, -6.7699e-02, -3.4316e-02,  2.6033e-03],\n",
              "                        [ 5.5095e-02,  1.3560e-02, -2.0158e-02,  1.9466e-02,  1.9806e-02]]]],\n",
              "                     device='cuda:0')),\n",
              "             ('features.3.bias',\n",
              "              tensor([-0.1233, -0.1804, -0.0540, -0.0712, -0.0422,  0.1749, -0.1810,  0.1170,\n",
              "                      -0.0251, -0.0339,  0.1358, -0.3426, -0.1499,  0.1363,  0.0010, -0.0652,\n",
              "                      -0.0120,  0.2116,  0.3383,  0.0698,  0.5383, -0.0573, -0.0973,  0.0135,\n",
              "                      -0.0541,  0.0532,  0.0171, -0.0123, -0.1864, -0.0267, -0.1334, -0.1563,\n",
              "                       0.0029, -0.4457,  0.0971, -0.1653, -0.0680, -0.2547,  0.2606, -0.0803,\n",
              "                       0.0200, -0.0230, -0.0507,  0.0273, -0.1924,  0.0720, -0.0625,  0.1144,\n",
              "                      -0.0674, -0.1803, -0.1349,  0.0513,  0.0429,  0.0901,  0.0117,  0.1381,\n",
              "                      -0.1344,  0.2550,  0.1547,  0.5155, -0.1229, -0.1633,  0.1723,  0.2351,\n",
              "                       0.1075,  0.0268, -0.1838, -0.1160,  0.2337, -0.2459,  0.1194, -0.2480,\n",
              "                      -0.0575, -0.0366, -0.3613,  0.0363, -0.2349,  0.1735,  0.1697,  0.3007,\n",
              "                      -0.1579, -0.0022, -0.1856, -0.0648, -0.1249,  0.0727, -0.0968, -0.1112,\n",
              "                      -0.1816,  0.0574,  0.1102, -0.0192, -0.1795, -0.0023, -0.1169, -0.2060,\n",
              "                      -0.0522, -0.0666, -0.1431,  0.0254,  0.0289, -0.2294, -0.1521, -0.1033,\n",
              "                      -0.0611, -0.0880, -0.0335,  0.3647, -0.1830,  0.0608, -0.4992, -0.2256,\n",
              "                      -0.0646, -0.1163, -0.0359,  0.0906, -0.1450, -0.1926, -0.0526, -0.3118,\n",
              "                      -0.1344,  0.1487,  0.2999,  0.2888, -0.0487,  0.3760,  0.0958, -0.0258,\n",
              "                       0.2115,  0.5078,  0.1300, -0.1709,  0.2222,  0.2477,  0.1447, -0.0972,\n",
              "                      -0.0448, -0.1078,  0.1091,  0.4003, -0.0422, -0.1995,  0.3202, -0.0501,\n",
              "                       0.3389,  0.0029, -0.4324, -0.2133,  0.0552,  0.0317,  0.0344,  0.1511,\n",
              "                      -0.1612, -0.1827,  0.5136, -0.1687,  0.1294, -0.0335, -0.0342, -0.3268,\n",
              "                       0.3185, -0.0870,  0.1550, -0.0344,  0.1760,  0.2295,  0.1128, -0.1591,\n",
              "                      -0.1802, -0.0267, -0.0823,  0.5001,  0.1823,  0.2065, -0.0945,  0.1541,\n",
              "                       0.0597, -0.1412, -0.0942, -0.0534, -0.2506, -0.0871, -0.1044,  0.1467,\n",
              "                       0.0038,  0.3032,  0.1006,  0.1188, -0.1498,  0.0637,  0.0321,  0.0724],\n",
              "                     device='cuda:0')),\n",
              "             ('features.6.weight',\n",
              "              tensor([[[[-3.9919e-03, -9.5852e-03,  8.8408e-03],\n",
              "                        [ 2.4817e-02,  4.9755e-02, -2.0701e-02],\n",
              "                        [-1.1370e-02,  8.1877e-03, -2.1127e-02]],\n",
              "              \n",
              "                       [[ 8.4485e-03, -9.0783e-02, -6.2112e-02],\n",
              "                        [ 3.3264e-02, -4.3919e-02, -5.7728e-03],\n",
              "                        [-9.2488e-03, -5.4547e-02,  2.1333e-02]],\n",
              "              \n",
              "                       [[-3.0959e-03, -2.9951e-02,  2.1572e-02],\n",
              "                        [ 5.7161e-02, -1.7765e-02,  4.0746e-02],\n",
              "                        [ 8.2777e-03, -5.0491e-02, -1.5962e-02]],\n",
              "              \n",
              "                       ...,\n",
              "              \n",
              "                       [[ 4.4721e-03,  3.7045e-02,  4.1308e-02],\n",
              "                        [-3.7070e-02, -3.3853e-02,  9.7137e-04],\n",
              "                        [ 2.0447e-02, -2.7669e-02, -3.3546e-02]],\n",
              "              \n",
              "                       [[ 1.5403e-02, -2.5591e-02, -5.4051e-02],\n",
              "                        [ 5.2467e-03, -1.8758e-02, -2.7141e-02],\n",
              "                        [-2.7802e-03,  2.3420e-02,  1.2435e-02]],\n",
              "              \n",
              "                       [[ 2.9497e-02,  6.5901e-03, -1.7611e-03],\n",
              "                        [-3.6360e-03, -1.2634e-02, -8.0485e-03],\n",
              "                        [-1.0561e-02, -1.6135e-02,  1.8809e-02]]],\n",
              "              \n",
              "              \n",
              "                      [[[ 1.3330e-02, -4.5277e-02,  1.2280e-02],\n",
              "                        [ 5.8340e-02,  1.5403e-04,  3.4983e-02],\n",
              "                        [-2.1134e-02, -4.0150e-02, -1.8354e-02]],\n",
              "              \n",
              "                       [[-5.8793e-03,  3.4259e-02,  3.3687e-02],\n",
              "                        [-1.0538e-02, -7.1392e-03, -2.3968e-02],\n",
              "                        [ 4.9356e-02, -4.5475e-02, -2.3056e-02]],\n",
              "              \n",
              "                       [[ 1.4594e-03,  7.6589e-03, -3.4988e-02],\n",
              "                        [-1.2096e-03,  1.3972e-02, -5.3387e-02],\n",
              "                        [-2.6843e-02, -7.6937e-02, -7.5318e-02]],\n",
              "              \n",
              "                       ...,\n",
              "              \n",
              "                       [[ 5.3433e-03,  3.9529e-02,  9.0957e-03],\n",
              "                        [-2.8153e-02,  1.0831e-01,  2.7932e-03],\n",
              "                        [ 1.0507e-02,  7.3039e-02,  1.6128e-02]],\n",
              "              \n",
              "                       [[-1.5124e-02,  1.1142e-02,  3.6049e-02],\n",
              "                        [-1.0583e-02, -1.3638e-03,  3.1856e-02],\n",
              "                        [ 3.6068e-02, -7.9706e-03,  3.7839e-04]],\n",
              "              \n",
              "                       [[ 6.3557e-02,  7.1057e-02,  6.4672e-02],\n",
              "                        [-1.3208e-02, -1.7338e-02, -1.5546e-02],\n",
              "                        [ 2.9510e-03, -6.4334e-03, -6.0813e-03]]],\n",
              "              \n",
              "              \n",
              "                      [[[-1.7676e-02, -4.9038e-02, -6.4375e-02],\n",
              "                        [-2.2376e-02,  2.6088e-02,  4.4993e-02],\n",
              "                        [-3.8540e-02,  9.0746e-02,  3.2005e-02]],\n",
              "              \n",
              "                       [[ 6.3273e-03, -5.2672e-02, -4.8548e-02],\n",
              "                        [-2.8826e-02,  2.8804e-03, -1.5874e-04],\n",
              "                        [-6.2706e-02, -2.1924e-02,  2.1162e-03]],\n",
              "              \n",
              "                       [[ 4.7865e-02,  2.8250e-02, -4.0371e-03],\n",
              "                        [ 4.1468e-02, -1.5309e-03, -5.8907e-02],\n",
              "                        [-2.8617e-02, -3.3884e-02, -8.0146e-03]],\n",
              "              \n",
              "                       ...,\n",
              "              \n",
              "                       [[ 1.9053e-02,  4.0620e-02,  5.1027e-02],\n",
              "                        [ 1.1809e-02,  3.3255e-02,  3.2811e-02],\n",
              "                        [-2.9881e-02, -1.0531e-02,  1.9140e-02]],\n",
              "              \n",
              "                       [[ 2.3821e-02,  2.7575e-02,  2.0607e-02],\n",
              "                        [ 2.2591e-03,  3.0163e-02,  6.4157e-02],\n",
              "                        [-5.2215e-03,  5.1163e-03,  2.7242e-02]],\n",
              "              \n",
              "                       [[-1.2936e-02,  5.5053e-03, -4.1237e-04],\n",
              "                        [ 1.2497e-02,  7.0629e-03, -7.8550e-03],\n",
              "                        [ 6.3986e-03, -1.4348e-03, -1.7279e-02]]],\n",
              "              \n",
              "              \n",
              "                      ...,\n",
              "              \n",
              "              \n",
              "                      [[[-3.9034e-02,  2.5009e-02, -5.4576e-03],\n",
              "                        [-9.1570e-03, -5.6329e-03,  1.9827e-02],\n",
              "                        [-2.7215e-03, -4.5125e-02, -2.8547e-04]],\n",
              "              \n",
              "                       [[-1.9244e-02, -1.5328e-03, -1.9110e-02],\n",
              "                        [ 1.1866e-02,  2.0086e-02, -3.4181e-02],\n",
              "                        [-1.7542e-02, -2.5932e-02, -1.4980e-03]],\n",
              "              \n",
              "                       [[-1.1953e-02, -8.0564e-03, -6.5915e-03],\n",
              "                        [ 2.1549e-02,  5.9894e-03, -1.6712e-02],\n",
              "                        [ 3.2774e-02, -5.2241e-03, -3.7433e-02]],\n",
              "              \n",
              "                       ...,\n",
              "              \n",
              "                       [[-3.9419e-02,  1.8839e-02,  2.7666e-02],\n",
              "                        [ 7.0534e-02, -2.5021e-02,  9.8605e-03],\n",
              "                        [ 9.9553e-03, -5.7747e-02,  3.4571e-03]],\n",
              "              \n",
              "                       [[ 1.5874e-02,  2.1802e-02, -3.6652e-02],\n",
              "                        [ 9.4125e-03,  5.8453e-02, -3.9101e-02],\n",
              "                        [ 3.7958e-02,  9.7373e-03, -4.6121e-02]],\n",
              "              \n",
              "                       [[-1.4453e-02, -8.6178e-03, -3.8032e-03],\n",
              "                        [-1.5162e-02,  1.3979e-02,  4.8056e-03],\n",
              "                        [-2.0463e-03,  3.2227e-02,  3.4465e-02]]],\n",
              "              \n",
              "              \n",
              "                      [[[ 8.6687e-03,  6.5367e-02,  1.2125e-02],\n",
              "                        [ 1.3890e-02, -4.9643e-02, -4.7341e-02],\n",
              "                        [ 6.1237e-02,  3.1494e-02,  6.3140e-02]],\n",
              "              \n",
              "                       [[ 1.6308e-02, -1.1416e-02,  5.7843e-02],\n",
              "                        [-2.0986e-02,  2.6143e-02, -1.9437e-02],\n",
              "                        [-1.7041e-02,  3.9989e-02,  3.8481e-03]],\n",
              "              \n",
              "                       [[ 3.6077e-02, -3.9869e-02,  2.6020e-02],\n",
              "                        [ 7.0658e-02, -2.0028e-02,  1.3430e-02],\n",
              "                        [ 1.4762e-02, -4.2694e-02, -1.6736e-02]],\n",
              "              \n",
              "                       ...,\n",
              "              \n",
              "                       [[ 4.5335e-02, -2.2847e-02,  2.6370e-02],\n",
              "                        [-2.1245e-02, -4.5657e-03,  1.7448e-02],\n",
              "                        [-2.9563e-02, -2.7740e-02,  1.1882e-02]],\n",
              "              \n",
              "                       [[-7.0534e-03, -2.7187e-04,  2.8924e-02],\n",
              "                        [ 4.7228e-02,  3.8801e-02,  1.0438e-02],\n",
              "                        [ 4.3373e-02,  1.9721e-02, -1.8560e-02]],\n",
              "              \n",
              "                       [[-2.9490e-02, -1.9954e-02, -2.4526e-02],\n",
              "                        [-3.0502e-02,  1.7969e-03, -7.2203e-03],\n",
              "                        [-1.3346e-02, -3.1358e-03,  7.5225e-03]]],\n",
              "              \n",
              "              \n",
              "                      [[[-1.5350e-02, -3.0859e-02, -4.4726e-02],\n",
              "                        [ 3.0893e-02,  7.0094e-02, -2.2749e-02],\n",
              "                        [ 1.8530e-02,  1.7093e-02, -2.6119e-03]],\n",
              "              \n",
              "                       [[ 1.9018e-02, -4.8350e-02, -2.2797e-02],\n",
              "                        [ 1.5948e-02, -7.4907e-03, -3.9498e-04],\n",
              "                        [ 4.2291e-02,  1.9925e-02,  2.0747e-02]],\n",
              "              \n",
              "                       [[ 1.5987e-02,  1.7535e-02,  6.8782e-02],\n",
              "                        [ 1.7644e-02, -3.2238e-02,  1.0899e-01],\n",
              "                        [ 1.1704e-02, -3.9397e-02, -5.2108e-02]],\n",
              "              \n",
              "                       ...,\n",
              "              \n",
              "                       [[-1.6580e-02,  2.6765e-03, -1.3583e-02],\n",
              "                        [ 6.0127e-03,  7.1126e-05, -3.4744e-03],\n",
              "                        [-1.6217e-02, -1.5514e-02, -1.1769e-02]],\n",
              "              \n",
              "                       [[ 4.0404e-02,  1.4006e-03, -6.9720e-03],\n",
              "                        [-9.3434e-03, -2.8784e-02, -1.9074e-02],\n",
              "                        [-1.5154e-02, -2.8216e-02, -3.0378e-02]],\n",
              "              \n",
              "                       [[-2.5640e-02,  1.0409e-02, -1.7139e-02],\n",
              "                        [-5.7772e-02, -5.8485e-02, -4.7472e-02],\n",
              "                        [-4.1893e-02, -6.7096e-02, -5.8522e-02]]]], device='cuda:0')),\n",
              "             ('features.6.bias',\n",
              "              tensor([ 2.4952e-02,  1.2027e-01, -3.3633e-01,  1.2014e-01, -1.2861e-01,\n",
              "                      -5.7268e-02,  1.0992e-01, -1.1094e-01,  2.3848e-02, -2.2069e-02,\n",
              "                      -5.8733e-02,  9.0381e-02, -5.5487e-02,  3.0609e-02, -1.2664e-01,\n",
              "                      -1.4039e-01, -1.0590e-02, -5.6240e-03, -8.1796e-02, -5.3721e-02,\n",
              "                      -1.1859e-01,  2.3595e-01, -8.1338e-02,  1.8145e-02, -1.3812e-02,\n",
              "                       1.2989e-01,  2.7297e-01, -2.7205e-02,  7.6546e-02,  2.0503e-01,\n",
              "                       5.9081e-02, -1.0056e-02,  7.2992e-02,  4.9824e-03,  1.1105e-02,\n",
              "                      -7.2794e-02,  9.7836e-02,  8.1201e-02, -9.4844e-02,  1.5203e-02,\n",
              "                       2.1072e-02,  2.0817e-01,  5.7031e-02,  1.0120e-01, -1.5311e-01,\n",
              "                       5.0879e-02,  5.2389e-02,  1.6303e-01,  4.7806e-02, -3.1446e-01,\n",
              "                      -2.0597e-01, -3.7101e-02, -2.2985e-01,  5.2196e-02, -4.5921e-02,\n",
              "                      -2.4374e-01, -2.3828e-01, -1.1403e-01, -4.1508e-02,  2.3471e-02,\n",
              "                       7.7134e-02, -1.8567e-02,  9.4858e-02,  2.3102e-01,  1.3949e-01,\n",
              "                      -8.8030e-02, -1.0990e-02,  1.0907e-02,  1.1804e-02, -1.5429e-01,\n",
              "                      -5.4132e-02, -9.2405e-02,  3.8599e-01, -3.6799e-02, -4.0578e-02,\n",
              "                       1.5662e-02,  3.0328e-01,  1.2511e-01,  1.4202e-01,  1.2055e-01,\n",
              "                      -3.7581e-02,  9.9673e-02, -9.3451e-02, -8.0184e-02,  1.0150e-01,\n",
              "                       3.2591e-01,  2.1203e-01,  3.3069e-01, -1.5584e-02,  1.3884e-01,\n",
              "                      -7.7958e-02,  1.3495e-01, -6.5521e-02, -8.7100e-02,  3.0147e-02,\n",
              "                      -1.9584e-01, -1.9123e-02, -1.9208e-01,  2.0149e-01,  6.7278e-02,\n",
              "                      -2.0174e-02,  1.2756e-01,  1.9102e-01,  3.4906e-01, -5.2152e-02,\n",
              "                      -1.6993e-02,  1.2436e-01, -7.5583e-02, -1.6181e-01,  3.4630e-04,\n",
              "                      -3.2758e-01,  8.5449e-02, -8.6700e-02, -5.8909e-02, -9.7175e-02,\n",
              "                       4.4317e-02, -3.0024e-02,  1.4612e-01, -6.9149e-02, -7.4337e-02,\n",
              "                      -3.7274e-02,  2.0607e-01,  5.6897e-01, -7.7626e-02, -1.4058e-02,\n",
              "                       9.5451e-02, -1.3970e-02, -2.8282e-02,  9.4746e-02,  2.4967e-03,\n",
              "                       5.3315e-01,  2.6798e-01,  1.3131e-01,  2.3192e-01, -1.2915e-01,\n",
              "                       1.9239e-02, -2.8143e-02, -1.9827e-01, -4.6981e-02, -3.7942e-02,\n",
              "                       4.7976e-02, -6.2544e-02, -1.8384e-01, -3.5817e-01, -1.4845e-02,\n",
              "                      -2.4252e-01,  5.6678e-02,  3.6873e-01, -2.4212e-01, -1.2238e-01,\n",
              "                       1.6130e-02, -1.0147e-01, -1.6903e-01, -1.0244e-02, -2.6304e-01,\n",
              "                       4.7661e-02,  8.8884e-02, -1.7218e-02,  1.2894e-01,  2.9368e-02,\n",
              "                       3.3159e-02, -9.9513e-03, -9.3447e-02, -3.1981e-02,  1.8288e-02,\n",
              "                       4.9418e-02,  1.3389e-01,  1.5802e-01,  3.2338e-02,  3.7173e-02,\n",
              "                       3.7791e-01,  1.6627e-02, -1.8641e-02, -1.0084e-01,  1.7426e-01,\n",
              "                       4.4362e-02,  1.4984e-01, -1.6136e-02,  2.4696e-01, -2.0091e-02,\n",
              "                       2.5778e-02, -3.0520e-02,  1.2221e-01, -2.8568e-02, -4.9496e-02,\n",
              "                       2.1112e-01, -1.4507e-01, -1.6195e-01, -3.2041e-02, -1.4426e-01,\n",
              "                      -1.8594e-01,  5.6372e-02,  1.1346e-01, -1.2629e-01, -6.1798e-02,\n",
              "                      -1.5742e-01, -3.2832e-02,  1.0019e-01, -8.9190e-02,  1.1288e-01,\n",
              "                       1.8282e-01,  1.5866e-01,  5.2035e-02, -3.5949e-02,  2.4808e-01,\n",
              "                       1.4348e-01,  7.8279e-03,  2.1713e-01,  3.9949e-01,  3.2373e-01,\n",
              "                      -9.1271e-02, -7.9302e-02,  5.7011e-02, -8.0918e-02,  2.9331e-01,\n",
              "                      -1.1747e-01,  1.5141e-02, -1.7097e-01, -8.9813e-02,  8.6954e-02,\n",
              "                      -1.8140e-02, -1.7145e-02,  2.8384e-02, -1.6125e-01,  8.0608e-02,\n",
              "                      -2.0754e-02,  8.8130e-02, -1.3861e-01,  5.2951e-02,  6.8465e-02,\n",
              "                      -4.2247e-02, -3.6664e-02,  2.7863e-01, -1.8571e-01,  4.4795e-02,\n",
              "                       8.4256e-02, -1.2827e-01,  1.2323e-01,  9.2534e-03, -8.1735e-03,\n",
              "                       6.6672e-02,  1.4882e-01, -8.1156e-02, -5.9330e-02, -1.7011e-01,\n",
              "                       1.0788e-01,  1.7843e-02,  1.8704e-02,  2.5686e-01,  2.3425e-01,\n",
              "                       1.1382e-01,  1.4109e-01,  1.0168e-01, -2.4525e-02,  8.7807e-03,\n",
              "                      -1.6662e-01,  2.7598e-01, -3.2695e-02,  5.5922e-02,  9.3820e-02,\n",
              "                      -3.6607e-02, -1.1628e-01,  1.4173e-01,  8.2027e-02, -1.7150e-01,\n",
              "                       1.9799e-01, -7.4263e-02,  2.5889e-02,  1.9783e-02, -9.9572e-02,\n",
              "                       8.3254e-02,  2.1180e-02, -1.5634e-01,  2.5353e-01,  2.1972e-01,\n",
              "                      -2.2793e-02,  2.2379e-01, -1.1055e-01, -1.8486e-01, -4.3615e-02,\n",
              "                      -5.8886e-02,  7.5647e-02,  2.0724e-01, -4.2909e-03,  1.1490e-01,\n",
              "                      -2.1964e-01,  9.0864e-02,  2.0517e-01,  3.7320e-01,  1.2391e-01,\n",
              "                      -2.9142e-02, -8.1321e-02, -2.5518e-02,  1.3508e-01, -5.5822e-02,\n",
              "                       2.9021e-01, -9.6152e-03, -4.7516e-03,  2.1560e-01,  1.4908e-01,\n",
              "                      -2.7568e-02, -1.0131e-01, -1.1305e-01, -1.7146e-02, -1.6111e-01,\n",
              "                      -6.2899e-02, -6.1667e-03, -3.5269e-01,  1.6761e-01,  1.7245e-01,\n",
              "                       2.0634e-01, -6.7965e-02,  5.3080e-02, -2.5537e-01,  1.2537e-01,\n",
              "                      -4.7282e-02, -6.1705e-02,  3.5210e-02,  1.4613e-01, -4.5697e-02,\n",
              "                       1.1719e-01, -1.6027e-01,  5.2415e-01, -4.7439e-02, -8.3416e-02,\n",
              "                       3.8589e-02, -1.5255e-01, -4.4604e-01,  3.7778e-01,  8.5215e-02,\n",
              "                       4.9768e-02,  4.9838e-02,  4.3727e-02,  1.7648e-02,  2.0637e-01,\n",
              "                       1.0454e-01, -1.2306e-01, -3.9910e-02,  3.5210e-01,  2.0803e-02,\n",
              "                       1.2471e-01, -1.2970e-01,  2.7988e-02, -1.2320e-01, -2.9647e-02,\n",
              "                       2.6701e-02,  1.4856e-02,  1.0140e-01,  1.1136e-01,  2.7301e-03,\n",
              "                      -1.3456e-01,  9.6126e-02, -7.3825e-03,  9.3771e-02,  5.1683e-02,\n",
              "                       6.7719e-02,  3.3879e-02,  3.8247e-02, -9.2758e-02,  1.4054e-01,\n",
              "                       1.9470e-01, -3.8628e-02,  3.0016e-02,  3.7307e-02, -2.0675e-01,\n",
              "                      -9.1670e-02, -7.0238e-02, -1.4659e-02,  1.0344e-01, -1.1063e-01,\n",
              "                      -5.0885e-02,  9.4043e-03,  1.2786e-01,  1.1141e-01, -9.7711e-02,\n",
              "                       5.2285e-01, -5.6083e-03,  5.3724e-02,  6.2092e-02,  1.0722e-01,\n",
              "                       2.2721e-02, -2.6882e-02,  1.4922e-02, -1.4572e-02], device='cuda:0')),\n",
              "             ('features.8.weight', tensor([[[[-0.0038, -0.0277, -0.0232],\n",
              "                        [-0.0249, -0.0141, -0.0060],\n",
              "                        [-0.0639, -0.0120, -0.0316]],\n",
              "              \n",
              "                       [[ 0.0305,  0.0182,  0.0314],\n",
              "                        [-0.0327,  0.0104, -0.0267],\n",
              "                        [ 0.0078,  0.0416,  0.0364]],\n",
              "              \n",
              "                       [[-0.0611, -0.0621, -0.0113],\n",
              "                        [-0.0396, -0.0479, -0.0373],\n",
              "                        [-0.0623, -0.0611, -0.0010]],\n",
              "              \n",
              "                       ...,\n",
              "              \n",
              "                       [[-0.0254, -0.0306,  0.0071],\n",
              "                        [-0.0549, -0.0250, -0.0222],\n",
              "                        [-0.0624, -0.0462, -0.0390]],\n",
              "              \n",
              "                       [[-0.0097, -0.0058, -0.0390],\n",
              "                        [-0.0513, -0.0440, -0.0549],\n",
              "                        [-0.0053, -0.0245, -0.0473]],\n",
              "              \n",
              "                       [[-0.0204, -0.0049,  0.0121],\n",
              "                        [-0.0021, -0.0216, -0.0274],\n",
              "                        [ 0.0173,  0.0253,  0.0073]]],\n",
              "              \n",
              "              \n",
              "                      [[[ 0.0264,  0.0436,  0.0547],\n",
              "                        [ 0.0101,  0.0413,  0.0474],\n",
              "                        [ 0.0045,  0.0492,  0.0499]],\n",
              "              \n",
              "                       [[-0.0213, -0.0155,  0.0004],\n",
              "                        [ 0.0315,  0.0178,  0.0551],\n",
              "                        [-0.0355,  0.0308,  0.0110]],\n",
              "              \n",
              "                       [[ 0.0148,  0.0932,  0.0412],\n",
              "                        [ 0.0282,  0.0065, -0.0200],\n",
              "                        [-0.0342, -0.0147, -0.0297]],\n",
              "              \n",
              "                       ...,\n",
              "              \n",
              "                       [[-0.0243, -0.0027, -0.0309],\n",
              "                        [ 0.0173,  0.0310, -0.0219],\n",
              "                        [ 0.0146, -0.0072, -0.0149]],\n",
              "              \n",
              "                       [[ 0.0173,  0.0149,  0.0382],\n",
              "                        [-0.0115, -0.0426, -0.0184],\n",
              "                        [-0.0238,  0.0095,  0.0477]],\n",
              "              \n",
              "                       [[ 0.0008,  0.0301,  0.0059],\n",
              "                        [ 0.0075, -0.0242,  0.0076],\n",
              "                        [ 0.0016, -0.0001, -0.0133]]],\n",
              "              \n",
              "              \n",
              "                      [[[-0.0276, -0.0251, -0.0190],\n",
              "                        [ 0.0010,  0.0027,  0.0025],\n",
              "                        [ 0.0522, -0.0006,  0.0205]],\n",
              "              \n",
              "                       [[-0.0009,  0.0076,  0.0008],\n",
              "                        [ 0.0336,  0.0175,  0.0127],\n",
              "                        [ 0.0012,  0.0024,  0.0030]],\n",
              "              \n",
              "                       [[-0.0014, -0.0318, -0.0069],\n",
              "                        [-0.0156, -0.0280,  0.0154],\n",
              "                        [-0.0119, -0.0293,  0.0489]],\n",
              "              \n",
              "                       ...,\n",
              "              \n",
              "                       [[-0.0426, -0.0350,  0.0040],\n",
              "                        [-0.0233, -0.0377, -0.0276],\n",
              "                        [-0.0329, -0.0081, -0.0373]],\n",
              "              \n",
              "                       [[-0.0117, -0.0035, -0.0123],\n",
              "                        [-0.0263, -0.0313, -0.0409],\n",
              "                        [-0.0094,  0.0478,  0.0262]],\n",
              "              \n",
              "                       [[-0.0509, -0.0028, -0.0362],\n",
              "                        [-0.0014,  0.0038, -0.0107],\n",
              "                        [ 0.0729,  0.0566,  0.0631]]],\n",
              "              \n",
              "              \n",
              "                      ...,\n",
              "              \n",
              "              \n",
              "                      [[[ 0.0258,  0.0364,  0.0251],\n",
              "                        [-0.0084, -0.0214, -0.0530],\n",
              "                        [-0.0313, -0.0256, -0.0496]],\n",
              "              \n",
              "                       [[ 0.0090,  0.0234,  0.0285],\n",
              "                        [ 0.0228,  0.0379,  0.0322],\n",
              "                        [-0.0020,  0.0241,  0.0129]],\n",
              "              \n",
              "                       [[-0.0332, -0.0185, -0.0023],\n",
              "                        [ 0.0009,  0.0138, -0.0047],\n",
              "                        [-0.0009, -0.0143, -0.0447]],\n",
              "              \n",
              "                       ...,\n",
              "              \n",
              "                       [[ 0.0243,  0.0013,  0.0045],\n",
              "                        [ 0.0105, -0.0170, -0.0357],\n",
              "                        [-0.0252, -0.0539, -0.0297]],\n",
              "              \n",
              "                       [[ 0.0834,  0.0032,  0.0024],\n",
              "                        [ 0.0925,  0.0359, -0.0296],\n",
              "                        [ 0.0073,  0.0190, -0.0126]],\n",
              "              \n",
              "                       [[-0.0505, -0.0569, -0.0397],\n",
              "                        [-0.0258, -0.0330, -0.0211],\n",
              "                        [-0.0187, -0.0213, -0.0478]]],\n",
              "              \n",
              "              \n",
              "                      [[[ 0.0127, -0.0327, -0.0087],\n",
              "                        [-0.0227,  0.0023,  0.0401],\n",
              "                        [ 0.0077,  0.0487,  0.0398]],\n",
              "              \n",
              "                       [[ 0.0201,  0.0341,  0.0121],\n",
              "                        [ 0.0416,  0.0316,  0.0386],\n",
              "                        [-0.0379,  0.0308, -0.0197]],\n",
              "              \n",
              "                       [[ 0.0440,  0.0132, -0.0236],\n",
              "                        [ 0.0024, -0.0395, -0.0300],\n",
              "                        [-0.0104, -0.0332, -0.0519]],\n",
              "              \n",
              "                       ...,\n",
              "              \n",
              "                       [[-0.0198, -0.0425, -0.0065],\n",
              "                        [-0.0035, -0.0143, -0.0040],\n",
              "                        [-0.0068,  0.0300,  0.0386]],\n",
              "              \n",
              "                       [[-0.0253,  0.0126, -0.0030],\n",
              "                        [-0.0148,  0.0097, -0.0147],\n",
              "                        [ 0.0149,  0.0008, -0.0291]],\n",
              "              \n",
              "                       [[ 0.0113,  0.0304, -0.0153],\n",
              "                        [-0.0058, -0.0208, -0.0218],\n",
              "                        [-0.0122, -0.0540, -0.0083]]],\n",
              "              \n",
              "              \n",
              "                      [[[ 0.0096,  0.0397,  0.0250],\n",
              "                        [-0.0052, -0.0406, -0.0048],\n",
              "                        [ 0.0030, -0.0107,  0.0094]],\n",
              "              \n",
              "                       [[ 0.0158,  0.0270,  0.0122],\n",
              "                        [-0.0053,  0.0279,  0.0166],\n",
              "                        [-0.0578, -0.0283, -0.0424]],\n",
              "              \n",
              "                       [[-0.0384, -0.0462,  0.0096],\n",
              "                        [-0.0477, -0.0443,  0.0337],\n",
              "                        [-0.0182,  0.0257,  0.0906]],\n",
              "              \n",
              "                       ...,\n",
              "              \n",
              "                       [[ 0.0054,  0.0263,  0.0458],\n",
              "                        [ 0.0126, -0.0424,  0.0043],\n",
              "                        [ 0.0261,  0.0179,  0.0015]],\n",
              "              \n",
              "                       [[-0.0347, -0.0210,  0.0198],\n",
              "                        [ 0.0335,  0.0252,  0.0439],\n",
              "                        [ 0.0171,  0.0288,  0.0768]],\n",
              "              \n",
              "                       [[-0.0277, -0.0171, -0.0276],\n",
              "                        [-0.0355,  0.0461, -0.0100],\n",
              "                        [-0.0034,  0.0677,  0.0019]]]], device='cuda:0')),\n",
              "             ('features.8.bias',\n",
              "              tensor([-0.0884,  0.1113,  0.3099,  0.1322,  0.2747,  0.1161,  0.2001, -0.0235,\n",
              "                       0.5504,  0.1624, -0.1312, -0.1709,  0.2699,  0.2205,  0.2676,  0.2746,\n",
              "                       0.0383, -1.4942,  0.6113,  0.0914,  0.1015,  0.1530, -0.2995,  0.1219,\n",
              "                       0.2252,  0.0656, -0.0042, -0.2246,  0.1046,  0.4736,  0.0538, -0.2916,\n",
              "                      -0.5268, -0.0236, -0.1392,  0.1475, -0.0133,  0.1362,  0.3046, -0.1872,\n",
              "                       0.3251,  0.5503,  0.2557,  0.5974,  0.0885,  0.0537,  0.4952,  0.4585,\n",
              "                       0.6704, -0.1187, -0.0953,  0.2498,  0.0955, -0.2472,  0.1665,  0.3922,\n",
              "                       0.2675, -0.5290, -0.0959,  0.2804,  0.2642,  0.3405,  0.0470, -0.0948,\n",
              "                      -0.2432, -0.0615, -0.0652, -0.1426, -0.3226,  0.3241,  0.2457, -0.4517,\n",
              "                      -0.0724,  0.9267, -0.1709,  0.5297,  0.2310,  0.1983,  0.2315, -0.4123,\n",
              "                       0.2360, -0.5862, -0.7020,  0.0905,  0.3432,  0.3035, -0.1212, -0.1606,\n",
              "                       0.2710, -0.1783,  0.0363,  0.2994,  0.0057,  0.1735,  0.1891,  0.0028,\n",
              "                      -0.0184, -0.1145, -0.0718,  0.1806,  0.0085, -0.0440, -0.0325,  0.0461,\n",
              "                       0.3756,  0.1805, -0.2063,  0.1213,  0.0655,  0.2356, -0.1565,  0.2817,\n",
              "                      -0.3593,  0.1658, -0.0082, -0.0452, -0.2478, -0.4502,  0.7163,  0.0434,\n",
              "                       0.0717,  0.1707,  0.1613,  0.0469,  0.1276, -0.0909,  0.2803,  0.3014,\n",
              "                      -0.5156,  0.0853, -0.2541, -0.3399,  0.3571,  0.0338,  0.2411,  0.0604,\n",
              "                       0.1190,  0.2116,  0.2807,  0.3925, -0.1649,  0.2243,  0.0130,  0.3020,\n",
              "                       0.5952,  0.4474,  0.3332,  0.1408,  0.1429,  0.2460, -0.7126,  0.2597,\n",
              "                       0.1497,  0.0747,  0.2370, -0.2793, -0.0696,  0.2081,  0.1606, -0.0608,\n",
              "                       0.5022, -0.2362, -0.3311, -1.3130,  0.1225, -0.0251,  0.3459,  0.9263,\n",
              "                      -0.0712,  0.4093, -0.1449, -0.0782,  0.2802,  0.3138, -0.5544, -0.1564,\n",
              "                       0.0296,  0.5164,  0.2338,  0.0835,  0.2978, -0.0669, -0.2417, -0.0825,\n",
              "                       0.0507, -0.0870, -0.1695,  0.1858, -0.1892, -0.1063, -0.0022,  0.8545,\n",
              "                       0.2011,  0.2913, -0.2566,  0.0771,  0.1001,  0.2897,  0.0640,  0.1549,\n",
              "                      -0.7138,  0.0918,  0.1912, -0.0627, -0.2700, -0.2811,  0.1725, -0.1825,\n",
              "                      -0.0943,  0.1157,  0.0359,  0.1075,  0.4408,  0.1476, -0.0208,  0.2400,\n",
              "                       0.0512,  0.3150,  0.1007, -0.2801,  0.0385, -0.2246, -0.5219,  0.1995,\n",
              "                       0.2070,  0.1412,  0.0253, -0.2477,  0.7703, -0.1068,  0.5064,  0.2915,\n",
              "                       0.0188, -0.8654, -0.0537,  0.1229, -0.2192,  0.3550,  0.3945, -0.1239,\n",
              "                       0.0555,  0.0883,  0.2842,  0.3670,  0.1893, -0.0279,  0.0442, -0.2546,\n",
              "                       0.1682,  0.5862,  0.0623, -0.0142,  0.3138,  0.0268,  0.2659,  0.1485],\n",
              "                     device='cuda:0')),\n",
              "             ('features.10.weight',\n",
              "              tensor([[[[ 3.1988e-02,  6.9810e-03, -1.7385e-03],\n",
              "                        [-2.4475e-02, -5.4636e-02, -2.2433e-02],\n",
              "                        [-1.8210e-02, -4.1996e-02, -5.9733e-02]],\n",
              "              \n",
              "                       [[ 8.3557e-03,  4.0470e-03, -1.7181e-02],\n",
              "                        [ 3.0601e-03,  1.2398e-02,  2.4726e-02],\n",
              "                        [-3.1180e-02, -3.2591e-03, -2.0733e-02]],\n",
              "              \n",
              "                       [[-1.4542e-02, -1.1948e-02,  7.4103e-03],\n",
              "                        [-7.9422e-03, -3.4446e-02, -4.1221e-02],\n",
              "                        [ 2.6713e-02,  8.4084e-03, -2.2678e-02]],\n",
              "              \n",
              "                       ...,\n",
              "              \n",
              "                       [[-3.2232e-02, -2.5045e-02, -3.9512e-03],\n",
              "                        [-3.8486e-02, -6.7699e-02, -9.1595e-03],\n",
              "                        [ 1.0781e-02,  2.8224e-02,  9.8902e-03]],\n",
              "              \n",
              "                       [[-2.5988e-02,  4.2969e-03,  1.0124e-04],\n",
              "                        [-4.3397e-02, -3.0568e-02,  1.0713e-02],\n",
              "                        [-9.5633e-03,  2.7297e-02,  1.1215e-02]],\n",
              "              \n",
              "                       [[ 5.3459e-03,  5.1826e-03, -4.8121e-03],\n",
              "                        [ 3.4866e-03,  1.4330e-02,  8.3830e-03],\n",
              "                        [ 2.7174e-02,  1.6619e-02,  2.7649e-02]]],\n",
              "              \n",
              "              \n",
              "                      [[[-3.1366e-02, -1.3959e-02, -2.2497e-02],\n",
              "                        [-3.9726e-02, -1.7532e-02,  1.2892e-02],\n",
              "                        [-6.0078e-03,  1.1559e-02, -1.4675e-02]],\n",
              "              \n",
              "                       [[ 1.9856e-02, -2.1078e-02,  2.0918e-02],\n",
              "                        [ 7.2790e-02, -2.1629e-02,  2.5221e-02],\n",
              "                        [ 9.9420e-02,  1.8740e-02,  8.5425e-03]],\n",
              "              \n",
              "                       [[-2.4982e-02, -5.1519e-02, -2.8298e-02],\n",
              "                        [-2.1388e-02, -2.1900e-03, -4.8195e-03],\n",
              "                        [-6.4781e-03,  1.0026e-02, -7.2291e-03]],\n",
              "              \n",
              "                       ...,\n",
              "              \n",
              "                       [[-4.3710e-02, -5.2837e-02, -4.7460e-02],\n",
              "                        [-5.1719e-02, -5.9617e-02, -4.2377e-02],\n",
              "                        [-3.8177e-02, -4.7011e-02, -3.3415e-02]],\n",
              "              \n",
              "                       [[-3.0231e-02, -4.8154e-02, -1.6645e-02],\n",
              "                        [-3.4756e-02, -5.7288e-03, -4.1831e-02],\n",
              "                        [-6.2916e-02, -4.1027e-02, -3.5421e-02]],\n",
              "              \n",
              "                       [[-4.4153e-03, -2.7411e-02, -9.7101e-03],\n",
              "                        [-2.3463e-02, -3.4033e-02, -1.5641e-02],\n",
              "                        [-2.9460e-02, -3.7463e-02, -9.8170e-03]]],\n",
              "              \n",
              "              \n",
              "                      [[[ 1.1921e-02, -4.0061e-02, -2.1322e-02],\n",
              "                        [ 3.2446e-03, -5.1868e-02, -1.7598e-02],\n",
              "                        [ 1.9420e-02, -5.1592e-02, -1.7162e-02]],\n",
              "              \n",
              "                       [[ 2.9385e-02,  3.8155e-02,  7.6387e-03],\n",
              "                        [ 1.7911e-04,  4.5972e-03, -1.0574e-02],\n",
              "                        [ 1.3410e-02, -1.3192e-02,  1.9986e-02]],\n",
              "              \n",
              "                       [[ 3.0087e-02, -3.3385e-02,  2.9483e-02],\n",
              "                        [-6.9329e-03, -1.8259e-02,  2.5556e-02],\n",
              "                        [ 7.1882e-03,  2.7527e-02,  2.9919e-02]],\n",
              "              \n",
              "                       ...,\n",
              "              \n",
              "                       [[-2.3185e-02, -4.9109e-02, -4.2639e-02],\n",
              "                        [-3.0514e-02, -4.7212e-02, -3.3351e-02],\n",
              "                        [-6.9801e-02, -7.9882e-02, -5.1602e-02]],\n",
              "              \n",
              "                       [[ 9.1862e-03, -1.2615e-02, -1.6523e-02],\n",
              "                        [ 7.6110e-02, -1.8489e-02,  2.7400e-02],\n",
              "                        [-7.8707e-03, -6.0583e-03,  5.5581e-03]],\n",
              "              \n",
              "                       [[-1.9121e-03, -2.0848e-02, -1.1525e-02],\n",
              "                        [-7.7659e-03, -9.5124e-03, -1.0285e-02],\n",
              "                        [ 1.1480e-02,  8.2819e-03, -3.7251e-02]]],\n",
              "              \n",
              "              \n",
              "                      ...,\n",
              "              \n",
              "              \n",
              "                      [[[ 1.1627e-02,  7.5260e-04, -1.3040e-02],\n",
              "                        [-1.0358e-02, -5.8495e-02, -2.7346e-02],\n",
              "                        [ 3.2643e-02, -1.7324e-02, -8.3926e-03]],\n",
              "              \n",
              "                       [[ 8.0620e-03,  3.1403e-03,  1.0048e-02],\n",
              "                        [ 1.8768e-02, -4.1873e-02, -3.0015e-02],\n",
              "                        [-1.1281e-02,  6.2497e-03,  2.4914e-02]],\n",
              "              \n",
              "                       [[-1.1210e-02, -3.5069e-02,  1.1482e-02],\n",
              "                        [-1.2874e-02,  4.0173e-03,  1.2613e-02],\n",
              "                        [-2.0088e-02, -4.6446e-02, -2.7641e-02]],\n",
              "              \n",
              "                       ...,\n",
              "              \n",
              "                       [[-5.9524e-02, -3.7320e-02,  6.4491e-03],\n",
              "                        [-5.4266e-02, -8.1959e-02, -3.6524e-02],\n",
              "                        [ 1.9242e-02, -4.4865e-02, -1.1194e-02]],\n",
              "              \n",
              "                       [[ 1.6253e-02,  8.7686e-02, -4.0780e-02],\n",
              "                        [-1.4090e-02,  5.4957e-02,  3.0703e-02],\n",
              "                        [ 7.0220e-03,  3.8111e-02, -1.4054e-02]],\n",
              "              \n",
              "                       [[ 7.6103e-03,  2.4552e-02,  1.8259e-02],\n",
              "                        [ 2.5803e-02,  8.8032e-02,  3.0131e-02],\n",
              "                        [ 6.1544e-02,  7.9176e-02,  9.5646e-03]]],\n",
              "              \n",
              "              \n",
              "                      [[[-5.8207e-03, -4.1874e-02,  8.4284e-03],\n",
              "                        [-8.6724e-03, -4.3327e-02,  6.5683e-03],\n",
              "                        [ 3.4976e-02, -1.2274e-02, -1.0029e-02]],\n",
              "              \n",
              "                       [[-3.7568e-02, -2.8012e-02,  2.4506e-02],\n",
              "                        [-2.9566e-02, -2.5550e-02, -7.5929e-03],\n",
              "                        [-2.3443e-02, -4.4286e-02, -1.3289e-02]],\n",
              "              \n",
              "                       [[-3.3059e-03,  3.1171e-03,  9.5105e-03],\n",
              "                        [ 1.2777e-02, -1.0252e-02, -2.6321e-02],\n",
              "                        [ 1.4729e-02,  1.5412e-03, -6.6584e-03]],\n",
              "              \n",
              "                       ...,\n",
              "              \n",
              "                       [[ 1.8321e-02, -5.4076e-03,  1.9533e-02],\n",
              "                        [-5.9812e-03, -2.9581e-02, -1.7242e-02],\n",
              "                        [-3.4662e-02, -2.9004e-03, -1.5604e-02]],\n",
              "              \n",
              "                       [[-3.3640e-02, -4.1195e-02, -2.8552e-02],\n",
              "                        [-2.4771e-02, -5.5772e-02, -2.1899e-02],\n",
              "                        [ 2.3202e-03, -3.1324e-02, -1.7746e-02]],\n",
              "              \n",
              "                       [[-4.1048e-02,  8.7758e-03, -3.1382e-03],\n",
              "                        [-7.4271e-03, -3.1970e-02, -2.4324e-04],\n",
              "                        [-1.4932e-02, -5.5134e-02, -1.6055e-02]]],\n",
              "              \n",
              "              \n",
              "                      [[[-1.6102e-02, -3.5950e-02, -2.9403e-03],\n",
              "                        [ 2.9205e-02,  2.9530e-02, -1.1566e-02],\n",
              "                        [-1.2108e-02,  2.2466e-02, -2.8661e-02]],\n",
              "              \n",
              "                       [[-2.6395e-02, -3.9410e-02, -8.2816e-02],\n",
              "                        [ 1.4596e-02,  1.0723e-02, -2.6942e-02],\n",
              "                        [ 8.3754e-03, -2.1774e-02, -7.6409e-03]],\n",
              "              \n",
              "                       [[-2.8751e-02, -1.0980e-02, -4.9332e-02],\n",
              "                        [-2.5245e-02, -3.6701e-02, -2.0598e-02],\n",
              "                        [-3.0003e-02, -1.1360e-02, -8.9902e-03]],\n",
              "              \n",
              "                       ...,\n",
              "              \n",
              "                       [[ 3.2595e-02,  4.0739e-04, -1.1223e-02],\n",
              "                        [ 5.3981e-02, -2.0392e-02, -1.7759e-02],\n",
              "                        [-1.9405e-02, -2.8979e-02, -2.8298e-02]],\n",
              "              \n",
              "                       [[-3.7833e-02,  3.4908e-02, -3.5615e-02],\n",
              "                        [ 8.3136e-02,  1.0776e-01,  2.2354e-02],\n",
              "                        [ 4.4074e-03,  1.2985e-04, -6.3326e-02]],\n",
              "              \n",
              "                       [[ 1.2995e-02,  5.0735e-03,  4.3673e-03],\n",
              "                        [ 5.5510e-03, -2.9309e-02,  8.7397e-03],\n",
              "                        [ 1.6708e-02,  1.1252e-02,  1.8422e-03]]]], device='cuda:0')),\n",
              "             ('features.10.bias',\n",
              "              tensor([ 2.7594e-02,  4.5018e-01,  1.9295e-01,  4.7898e-01,  1.8634e-01,\n",
              "                       3.1664e-02,  7.7291e-02, -9.7564e-02,  1.2644e-01,  2.0196e-01,\n",
              "                       3.9075e-02,  5.0693e-01,  2.3320e-01, -8.7674e-02, -5.9816e-02,\n",
              "                      -5.0764e-01,  6.7638e-01,  2.9764e-02, -3.8303e-01,  2.3941e-01,\n",
              "                       1.2022e-01,  3.5487e-01,  1.1873e+00,  2.4430e-01,  4.7952e-01,\n",
              "                       3.0082e-01,  5.4385e-02,  1.6621e-02,  1.9434e-01,  3.0579e-01,\n",
              "                       6.3885e-02,  2.8055e-01,  4.4311e-04,  3.3646e-01,  1.6033e-01,\n",
              "                       2.2635e-01,  6.1277e-02,  1.4056e-01,  2.7956e-01,  1.3541e-01,\n",
              "                      -5.9233e-02,  5.0034e-01,  1.2876e-01,  4.4215e-01,  4.0073e-01,\n",
              "                       4.1578e-01, -4.2298e-02,  1.1518e+00,  1.0558e-01,  3.0949e-01,\n",
              "                       2.2361e-01,  3.7394e-01,  3.7338e-01,  1.8249e-01,  6.6012e-01,\n",
              "                      -3.3201e-02,  2.4658e-01,  2.1233e-01,  3.4293e-01,  8.9227e-03,\n",
              "                       1.6784e-01,  2.1893e-01, -1.0846e-01,  3.8540e-02,  9.2018e-02,\n",
              "                       2.4469e-01, -1.6275e-02,  2.2603e-01,  2.3950e-01,  5.8033e-02,\n",
              "                      -7.9746e-02, -6.8351e-02, -1.8405e-02,  4.1746e-01,  4.3041e-01,\n",
              "                       3.1124e-01, -1.4770e-01,  2.4909e-03,  8.4622e-02,  4.0525e-02,\n",
              "                      -6.4141e-02,  6.2309e-01, -1.1540e-01,  6.0246e-01,  9.0437e-02,\n",
              "                      -1.5379e-02,  4.7989e-01,  6.4011e-01, -1.8440e-02,  1.5582e-01,\n",
              "                       3.2171e-03,  1.8946e-01,  1.5210e-02,  8.6829e-02, -7.9173e-03,\n",
              "                       3.4804e-02,  1.9655e-01,  2.0960e-01, -8.5975e-03,  4.5092e-01,\n",
              "                       3.9484e-01,  3.2814e-01, -1.1160e-01,  5.0480e-01, -6.4647e-03,\n",
              "                       6.4198e-01,  8.2304e-01,  4.9276e-01,  1.6128e-01,  5.1555e-03,\n",
              "                      -3.6836e-02,  1.7764e-02,  1.2746e-01,  5.8222e-01,  1.5340e-01,\n",
              "                       1.9867e-01,  2.5771e-02, -1.3763e-01,  1.6140e-01,  6.4953e-02,\n",
              "                       2.1422e-01, -8.3857e-02,  5.6279e-01,  1.1994e-01,  2.2504e-02,\n",
              "                       2.5809e+00,  5.5821e-01, -1.8227e-01,  1.0265e-01, -3.6584e-02,\n",
              "                       2.2358e-02,  2.4044e-01, -8.0831e-02,  2.7026e-02,  4.8718e-01,\n",
              "                       4.0870e-01,  4.0370e-02, -4.9649e-02,  1.2713e-01, -2.1147e-01,\n",
              "                       2.5635e-01,  4.6161e-02, -7.8190e-03,  5.9836e-01,  2.1388e-01,\n",
              "                       8.3199e-01,  4.2582e-01,  3.9819e-02,  1.6501e-01,  9.8764e-01,\n",
              "                       1.3154e-01,  3.9266e-01,  6.8294e-01, -6.8179e-02,  6.4586e-01,\n",
              "                       8.6399e-02,  3.7801e-01,  1.1728e-01,  7.5767e-01,  1.3409e-01,\n",
              "                      -1.6843e-02,  5.2096e-01,  8.4315e-02,  1.5558e-01,  7.0973e-01,\n",
              "                       3.8739e-01,  1.1451e-01, -5.0963e-03,  4.4718e-01,  1.6387e-01,\n",
              "                       1.2113e-01,  2.0353e-01,  7.4432e-01,  7.1274e-03,  1.6373e-01,\n",
              "                       1.0741e-01,  3.0675e-04,  2.7933e-01,  7.4386e-02,  2.4036e-01,\n",
              "                       2.3757e-02,  1.9875e-01,  3.5648e-01,  3.3611e-02,  8.0270e-02,\n",
              "                       2.8477e-01,  1.2704e-01, -9.2856e-02,  1.6217e-01, -1.2112e-01,\n",
              "                      -1.4347e-01,  1.3900e-01,  1.3814e-01, -1.0495e-03,  1.1633e-01,\n",
              "                      -1.6947e-01,  4.8549e-02,  1.6557e-01,  4.2636e-01,  1.0886e-01,\n",
              "                       3.7189e-01,  9.4121e-01,  2.7681e-01,  1.1254e-01, -6.5475e-02,\n",
              "                       1.8596e-02,  1.3006e-01,  2.0986e-01, -3.1867e-02,  5.4615e-01,\n",
              "                       5.6084e-01,  4.4044e-01,  5.3439e-01,  3.5401e-01,  5.5478e-01,\n",
              "                       5.2898e-01,  2.1659e-01,  3.6370e-01,  6.1096e-01,  1.2612e-02,\n",
              "                       1.4464e-02, -1.9528e-01,  4.4052e-02,  6.6016e-01,  2.3193e-01,\n",
              "                       1.4914e-01,  6.3211e-01, -1.3707e-02,  6.1741e-01,  3.0711e-01,\n",
              "                       6.7373e-01,  3.2621e-01,  9.8894e-02,  4.1327e-01,  5.3517e-01,\n",
              "                       1.8117e-01,  2.2867e-01,  4.1017e-02,  1.1205e-01,  1.6336e-01,\n",
              "                       1.0833e-01,  4.1917e-01,  3.1225e-02, -7.9920e-02,  1.4366e-01,\n",
              "                      -1.0133e-01,  4.2733e-01, -1.3486e-02,  1.9398e-01,  5.5540e-01,\n",
              "                       5.5039e-01,  3.7796e-01,  3.3126e-01,  5.8666e-01,  3.0323e-03,\n",
              "                      -7.1454e-02], device='cuda:0')),\n",
              "             ('classifier.1.weight',\n",
              "              tensor([[ 9.1417e-03,  6.9008e-03,  1.3538e-02,  ...,  4.8165e-04,\n",
              "                       -8.8112e-06, -1.0097e-02],\n",
              "                      [-1.0387e-03,  9.1615e-04,  1.6096e-03,  ...,  2.8342e-03,\n",
              "                        2.8943e-03, -9.7644e-03],\n",
              "                      [-1.8669e-02, -1.5146e-02, -2.3081e-02,  ...,  1.3903e-03,\n",
              "                        2.5642e-03,  1.2674e-02],\n",
              "                      ...,\n",
              "                      [-8.1653e-03,  1.4873e-03, -5.7762e-03,  ..., -9.3096e-03,\n",
              "                        5.1335e-03,  1.3655e-03],\n",
              "                      [-3.1044e-03, -8.2562e-03, -7.5714e-03,  ..., -3.3705e-03,\n",
              "                       -4.7866e-04, -1.0265e-02],\n",
              "                      [ 4.1713e-03, -1.4684e-02,  1.6676e-03,  ...,  5.6638e-03,\n",
              "                        5.9088e-03, -4.7974e-03]], device='cuda:0')),\n",
              "             ('classifier.1.bias',\n",
              "              tensor([ 0.0329,  0.0627, -0.0641,  ..., -0.0284,  0.0192,  0.0108],\n",
              "                     device='cuda:0')),\n",
              "             ('classifier.4.weight',\n",
              "              tensor([[-0.0123, -0.0043,  0.0181,  ...,  0.0004, -0.0005, -0.0146],\n",
              "                      [-0.0299,  0.0197, -0.0125,  ..., -0.0085, -0.0051, -0.0180],\n",
              "                      [-0.0130, -0.0176,  0.0023,  ...,  0.0006,  0.0015,  0.0033],\n",
              "                      ...,\n",
              "                      [-0.0027, -0.0124,  0.0017,  ...,  0.0247, -0.0059, -0.0024],\n",
              "                      [ 0.0094,  0.0102,  0.0263,  ...,  0.0042, -0.0043, -0.0068],\n",
              "                      [ 0.0135,  0.0042, -0.0108,  ..., -0.0123, -0.0102, -0.0013]],\n",
              "                     device='cuda:0')),\n",
              "             ('classifier.4.bias',\n",
              "              tensor([0.0513, 0.0915, 0.0032,  ..., 0.0256, 0.0445, 0.0837], device='cuda:0')),\n",
              "             ('classifier.6.weight',\n",
              "              tensor([[ 0.0060, -0.0021,  0.0157,  ..., -0.0099, -0.0116,  0.0110],\n",
              "                      [-0.0083,  0.0036, -0.0092,  ..., -0.0056, -0.0229, -0.0128],\n",
              "                      [-0.0045,  0.0168, -0.0088,  ...,  0.0070, -0.0059,  0.0310],\n",
              "                      ...,\n",
              "                      [-0.0133,  0.0042, -0.0196,  ...,  0.0241,  0.0018,  0.0108],\n",
              "                      [-0.0357, -0.0112,  0.0089,  ...,  0.0197, -0.0054,  0.0156],\n",
              "                      [-0.0287,  0.0027,  0.0033,  ..., -0.0115,  0.0024,  0.0006]],\n",
              "                     device='cuda:0')),\n",
              "             ('classifier.6.bias',\n",
              "              tensor([-6.8888e-02,  2.3933e-02, -2.0373e-02,  1.0932e-02,  4.1080e-02,\n",
              "                       4.6971e-02, -4.0974e-02,  1.8329e-02,  4.4809e-03, -8.9984e-02,\n",
              "                      -3.0826e-02, -8.7398e-03,  4.0003e-02,  9.2306e-03,  3.1754e-02,\n",
              "                      -5.4767e-02,  2.0765e-02, -2.0617e-02,  4.0897e-03, -3.1627e-03,\n",
              "                       4.3034e-02, -1.0922e-02, -5.4451e-02,  1.4077e-02, -1.6639e-02,\n",
              "                      -2.2591e-02,  4.7115e-03,  3.8872e-02,  6.8509e-02,  5.4557e-02,\n",
              "                      -5.7922e-02,  8.1448e-03,  2.7256e-02,  3.4306e-02,  1.0907e-02,\n",
              "                       6.5210e-02,  2.8503e-02, -2.4174e-02,  3.1791e-02,  6.4585e-02,\n",
              "                       2.0510e-02, -7.0719e-02, -1.5163e-02, -2.2810e-02, -8.5173e-02,\n",
              "                      -8.3981e-02, -2.1685e-02,  5.3263e-02, -3.4106e-02, -5.6841e-02,\n",
              "                       4.4093e-02,  5.5591e-02,  4.4579e-02,  3.8118e-02,  8.8356e-03,\n",
              "                      -5.3200e-02, -5.0058e-02, -1.1154e-01, -1.0571e-02, -1.1021e-01,\n",
              "                      -9.5432e-02, -2.8511e-02,  6.0030e-03,  1.0676e-02,  7.3226e-02,\n",
              "                      -2.1601e-02, -8.9772e-03,  5.2104e-02, -2.0013e-02,  4.6884e-02,\n",
              "                      -7.0195e-02,  6.1542e-02, -3.4817e-02,  4.6072e-02,  7.5234e-03,\n",
              "                       9.7134e-02,  1.3025e-02,  7.2507e-02,  6.4159e-02, -7.0755e-03,\n",
              "                      -6.9866e-03,  5.3353e-02, -9.1606e-03,  3.3955e-02, -4.9113e-02,\n",
              "                       2.9720e-02,  2.8949e-04, -4.6801e-02, -7.4689e-03, -2.3249e-03,\n",
              "                       4.2858e-02,  7.8594e-02,  6.5510e-02,  9.7091e-05, -5.8226e-03,\n",
              "                      -2.0828e-02, -4.6013e-02, -2.2948e-02, -1.1565e-01, -2.4869e-02,\n",
              "                      -1.4023e-01, -5.2394e-02, -7.8904e-02, -5.3144e-02,  2.4188e-03,\n",
              "                      -4.7697e-02,  8.9794e-03,  3.3419e-03, -3.3453e-02, -1.4410e-02,\n",
              "                      -9.3468e-02,  6.9754e-02,  6.6859e-02, -4.9606e-02, -1.4430e-02,\n",
              "                       5.2774e-02,  1.4703e-02,  6.1766e-02, -1.8342e-02,  1.2402e-01,\n",
              "                       1.9452e-02,  1.1196e-02, -2.7496e-02, -2.5002e-02, -1.5485e-01,\n",
              "                      -9.6872e-03,  1.3093e-02, -1.0654e-02,  3.3838e-02, -9.5121e-02,\n",
              "                      -2.7886e-02,  8.2435e-03,  9.6058e-02,  2.7903e-02,  3.3344e-03,\n",
              "                      -8.6813e-02, -2.6901e-02,  3.7789e-02, -3.2693e-02,  2.7842e-02,\n",
              "                      -3.6013e-02, -3.5624e-02, -5.6513e-02,  3.7716e-02,  3.7514e-02,\n",
              "                       8.1452e-02,  7.7838e-03, -1.4787e-02, -4.1725e-02, -1.0108e-01,\n",
              "                      -6.2164e-02, -5.2742e-02, -2.8224e-02, -5.0785e-03,  2.0685e-02,\n",
              "                      -6.2937e-02, -2.7636e-02, -4.8737e-02, -2.6868e-02, -3.9389e-02,\n",
              "                       2.2735e-02,  8.4049e-02,  3.4297e-02,  4.8279e-02, -1.4853e-02,\n",
              "                       2.8182e-02,  6.6047e-02,  5.4959e-02,  5.1470e-02,  2.7434e-02,\n",
              "                      -4.9037e-02, -3.5417e-02,  8.9241e-03,  3.8328e-02,  3.3694e-02,\n",
              "                      -1.0508e-01,  9.7896e-02, -2.7487e-02,  2.3161e-02,  3.3540e-02,\n",
              "                       6.8134e-02,  7.9902e-02, -1.3600e-02,  1.9605e-02,  1.9415e-02,\n",
              "                       5.1305e-02,  4.9475e-02,  1.8403e-02, -3.0846e-02, -2.4736e-02,\n",
              "                       3.8813e-02,  8.4813e-02,  8.9555e-02,  8.5621e-03,  6.1613e-02,\n",
              "                       2.6205e-02], device='cuda:0'))])"
            ]
          },
          "metadata": {
            "tags": []
          },
          "execution_count": 96
        }
      ]
    },
    {
      "cell_type": "code",
      "metadata": {
        "id": "-uHtD4oq2L09"
      },
      "source": [
        ""
      ],
      "execution_count": null,
      "outputs": []
    },
    {
      "cell_type": "markdown",
      "metadata": {
        "id": "smR7woD0_aZh"
      },
      "source": [
        "#Extension: Using Other networks for transfer learning"
      ]
    },
    {
      "cell_type": "markdown",
      "metadata": {
        "id": "ZlGCnTDF6fQm"
      },
      "source": [
        "# 1. Re-load Dataset and split training set into training set and validation set"
      ]
    },
    {
      "cell_type": "code",
      "metadata": {
        "id": "dbL6bvrE66v9"
      },
      "source": [
        "from sklearn.model_selection import train_test_split, ShuffleSplit\n",
        "\n",
        "\n",
        "width, height = 224, 224\n",
        "train_tfms = transforms.Compose([transforms.Resize((width, height)),\n",
        "                                 # transforms.RandomHorizontalFlip(),\n",
        "                                 # transforms.RandomRotation(15),\n",
        "                                 transforms.ToTensor(),\n",
        "                                 transforms.Normalize([0.485, 0.456, 0.406], [0.229, 0.224, 0.225])])\n",
        "test_tfms = transforms.Compose([transforms.Resize((width, height)),\n",
        "                                transforms.ToTensor(),\n",
        "                                transforms.Normalize([0.485, 0.456, 0.406], [0.229, 0.224, 0.225])])\n",
        "# create datasets\n",
        "dataset = torchvision.datasets.ImageFolder(root=dataset_dir+\"train\", transform=train_tfms)\n",
        "\n",
        "# Split data into validatoin set and train set\n",
        "val_split_ratio = 0.2\n",
        "val_dataset, train_dataset = torch.utils.data.random_split(dataset, [int(val_split_ratio*len(dataset)), len(dataset)- int(val_split_ratio*len(dataset))], generator=torch.Generator().manual_seed(42))\n",
        "\n",
        "trainloader = torch.utils.data.DataLoader(train_dataset, batch_size=32, shuffle=True, num_workers=2)\n",
        "val_loader = torch.utils.data.DataLoader(val_dataset, batch_size=32, shuffle=True, num_workers=2)\n",
        "\n",
        "# testing dataset\n",
        "dataset2 = torchvision.datasets.ImageFolder(root=dataset_dir+\"test\", transform = test_tfms)\n",
        "testloader = torch.utils.data.DataLoader(dataset2, batch_size=32, shuffle=False, num_workers=2)"
      ],
      "execution_count": null,
      "outputs": []
    },
    {
      "cell_type": "code",
      "metadata": {
        "id": "qXfNcrGRmmx_",
        "colab": {
          "base_uri": "https://localhost:8080/"
        },
        "outputId": "6bd01135-58f5-44c7-e5a4-88776fd1787f"
      },
      "source": [
        "len(val_dataset), len(train_dataset)"
      ],
      "execution_count": null,
      "outputs": [
        {
          "output_type": "execute_result",
          "data": {
            "text/plain": [
              "(1628, 6516)"
            ]
          },
          "metadata": {
            "tags": []
          },
          "execution_count": 12
        }
      ]
    },
    {
      "cell_type": "markdown",
      "metadata": {
        "id": "p6AtdpCdxApw"
      },
      "source": [
        "# 1.1 Re-Write the train model and evaluation function"
      ]
    },
    {
      "cell_type": "code",
      "metadata": {
        "id": "7C3BbD3f66di"
      },
      "source": [
        "def eval_model_v1(model,testloader=None):\n",
        "    correct = 0.0\n",
        "    total = 0.0\n",
        "    model.eval()\n",
        "    with torch.no_grad():\n",
        "        for i, data in enumerate(testloader, 0):\n",
        "            images, labels = data\n",
        "            #images = images.to(device).half() # uncomment for half precision model\n",
        "            images = images.to(device)\n",
        "            labels = labels.to(device)\n",
        "\n",
        "            outputs = model(images)\n",
        "            _, predicted = torch.max(outputs.data, 1)\n",
        "\n",
        "            total += labels.size(0)\n",
        "            correct += (predicted == labels).sum().item()\n",
        "\n",
        "    test_acc = 100.0 * correct / total\n",
        "    print('Accuracy of the network on the test images: %d %%' % (test_acc))\n",
        "    return test_acc\n",
        "\n",
        "\n",
        "\n",
        "\n",
        "\n",
        "def train_model_v1(model, criterion, optimizer, scheduler, n_epochs=5, trainloader= None, testloader =None,earlystopping=False,patience = 3):\n",
        "    \n",
        "    losses = []\n",
        "    accuracies = []\n",
        "    test_accuracies = []\n",
        "    best_val_score = 0.0\n",
        "    patience_count = 0\n",
        "    # set the model to train mode initially\n",
        "    best_model = None\n",
        "    model.train()\n",
        "    for epoch in tqdm.tqdm(range(n_epochs)):\n",
        "        since = time.time()\n",
        "        running_loss = 0.0\n",
        "        running_correct = 0.0\n",
        "        for i, data in enumerate(trainloader, 0):\n",
        "\n",
        "            # get the inputs and assign them to cuda\n",
        "            inputs, labels = data\n",
        "            #inputs = inputs.to(device).half() # uncomment for half precision model\n",
        "            inputs = inputs.to(device)\n",
        "            labels = labels.to(device)\n",
        "            optimizer.zero_grad()\n",
        "            \n",
        "            # forward + backward + optimize\n",
        "            outputs = model(inputs)\n",
        "            _, predicted = torch.max(outputs.data, 1)\n",
        "            loss = criterion(outputs, labels)\n",
        "            loss.backward()\n",
        "            optimizer.step()\n",
        "            \n",
        "            # calculate the loss/acc later\n",
        "            running_loss += loss.item()\n",
        "            running_correct += (labels==predicted).sum().item()\n",
        "\n",
        "        epoch_duration = time.time() - since\n",
        "        epoch_loss = running_loss / len(trainloader)\n",
        "        epoch_acc = 100 / 32 * running_correct / len(trainloader)\n",
        "        print(\"Epoch %s, duration: %d s, loss: %.4f, acc: %.4f\" % (epoch+1, epoch_duration, epoch_loss, epoch_acc))\n",
        "        \n",
        "        losses.append(epoch_loss)\n",
        "        accuracies.append(epoch_acc)\n",
        "        \n",
        "        # switch the model to eval mode to evaluate on test data\n",
        "        model.eval()\n",
        "        test_acc = eval_model_v1(model, testloader)\n",
        "        test_accuracies.append(test_acc)\n",
        "        if earlystopping:\n",
        "          if test_acc > best_val_score:\n",
        "            best_val_score = test_acc\n",
        "            torch.save(model,\"checkpoint.pt\")\n",
        "            patience_count = 0\n",
        "            print(\"Checkpoint Saved\")\n",
        "          else:\n",
        "            if patience_count < patience:\n",
        "              patience_count += 1\n",
        "            else:\n",
        "              best_model = torch.load(\"checkpoint.pt\")\n",
        "              print(\"Load Best Model.\")\n",
        "              break\n",
        "\n",
        "\n",
        "\n",
        "        # re-set the model to train mode after validating\n",
        "        model.train()\n",
        "        scheduler.step(test_acc)\n",
        "        since = time.time()\n",
        "    print('Finished Training')\n",
        "    # return the best model\n",
        "    if not best_model:\n",
        "      best_model = model\n",
        "\n",
        "    return model,best_model, losses, accuracies, test_accuracies"
      ],
      "execution_count": null,
      "outputs": []
    },
    {
      "cell_type": "code",
      "metadata": {
        "id": "LIkeNpo5uqfo"
      },
      "source": [
        ""
      ],
      "execution_count": null,
      "outputs": []
    },
    {
      "cell_type": "markdown",
      "metadata": {
        "id": "MbWMY-jzqCwQ"
      },
      "source": [
        "# 2 Models Selection among GoogleNet, ResNet50, VGG16 to fine-tune"
      ]
    },
    {
      "cell_type": "markdown",
      "metadata": {
        "id": "dxauH81BurBR"
      },
      "source": [
        "## 2.1 Using GoogleNet for transfer learning"
      ]
    },
    {
      "cell_type": "code",
      "metadata": {
        "id": "J6OQ0Xpc6Pau"
      },
      "source": [
        "import torchvision.models as models\n",
        "\n",
        "def weights_init(m):\n",
        "    classname = m.__class__.__name__\n",
        "    if classname.find('Conv') != -1:\n",
        "        nn.init.normal_(m.weight.data, 0.0, 0.02)\n",
        "    elif classname.find('BatchNorm') != -1:\n",
        "        nn.init.normal_(m.weight.data, 1.0, 0.02)\n",
        "        nn.init.constant_(m.bias.data, 0)\n",
        "\n",
        "class MyGoogleNet(nn.Module):\n",
        "  def __init__(self, num_classes= 196,unfreeze_flag= True):\n",
        "    super().__init__()\n",
        "    googlenet = models.googlenet(pretrained=True)\n",
        "    self.googlenet = googlenet\n",
        "    #freezen network\n",
        "    # self.googlenet.requires_grad_(False)\n",
        "    for param in self.googlenet.parameters():\n",
        "      param.require_grad = unfreeze_flag\n",
        "    # Replace new layer    \n",
        "    in_feature = self.googlenet.fc.in_features\n",
        "    self.googlenet.fc = nn.Linear(in_feature, num_classes)\n",
        "    self.googlenet.fc.apply(weights_init)\n",
        "\n",
        "  def forward(self,x):\n",
        "    return self.googlenet(x)\n",
        "  \n",
        "googlenet = MyGoogleNet().to(device)"
      ],
      "execution_count": null,
      "outputs": []
    },
    {
      "cell_type": "code",
      "metadata": {
        "id": "G701byJ6uj0O"
      },
      "source": [
        "#define Loss function\n",
        "googlenet_criterion = nn.CrossEntropyLoss()\n",
        "#define optimizer: using Stochastic gradient descent\n",
        "googlenet_optimizer = torch.optim.SGD(googlenet.parameters(),lr=0.1,weight_decay=0.001)\n",
        "googlenet_lrscheduler = optim.lr_scheduler.ReduceLROnPlateau(googlenet_optimizer,mode=\"max\",factor=0.1,patience=3, threshold=0.9)"
      ],
      "execution_count": null,
      "outputs": []
    },
    {
      "cell_type": "code",
      "metadata": {
        "id": "04AXZ9_EujsI",
        "colab": {
          "base_uri": "https://localhost:8080/"
        },
        "outputId": "e7c1c8a7-fc6d-4a0a-c95c-ed50522857ec"
      },
      "source": [
        "googlenet_model, google_best_model ,googlenet_training_losses, googlenet_training_accs, googlenet_val_accs = train_model_v1(googlenet, googlenet_criterion, \n",
        "googlenet_optimizer, googlenet_lrscheduler, n_epochs=15,trainloader= trainloader, testloader= val_loader, earlystopping=True,patience=2)"
      ],
      "execution_count": null,
      "outputs": [
        {
          "output_type": "stream",
          "text": [
            "\n",
            "\n",
            "\n",
            "\n",
            "\n",
            "\n",
            "  0%|          | 0/15 [00:00<?, ?it/s]\u001b[A\u001b[A\u001b[A\u001b[A\u001b[A\u001b[A"
          ],
          "name": "stderr"
        },
        {
          "output_type": "stream",
          "text": [
            "Epoch 1, duration: 66 s, loss: 4.5495, acc: 7.5674\n"
          ],
          "name": "stdout"
        },
        {
          "output_type": "stream",
          "text": [
            "\n",
            "\n",
            "\n",
            "\n",
            "\n",
            "\n",
            "  7%|▋         | 1/15 [01:20<18:52, 80.89s/it]\u001b[A\u001b[A\u001b[A\u001b[A\u001b[A\u001b[A"
          ],
          "name": "stderr"
        },
        {
          "output_type": "stream",
          "text": [
            "Accuracy of the network on the test images: 16 %\n",
            "Checkpoint Saved\n",
            "Epoch 2, duration: 66 s, loss: 2.6279, acc: 37.5613\n"
          ],
          "name": "stdout"
        },
        {
          "output_type": "stream",
          "text": [
            "\n",
            "\n",
            "\n",
            "\n",
            "\n",
            "\n",
            " 13%|█▎        | 2/15 [02:42<17:32, 80.97s/it]\u001b[A\u001b[A\u001b[A\u001b[A\u001b[A\u001b[A"
          ],
          "name": "stderr"
        },
        {
          "output_type": "stream",
          "text": [
            "Accuracy of the network on the test images: 22 %\n",
            "Checkpoint Saved\n",
            "Epoch 3, duration: 66 s, loss: 1.4522, acc: 64.8591\n"
          ],
          "name": "stdout"
        },
        {
          "output_type": "stream",
          "text": [
            "\n",
            "\n",
            "\n",
            "\n",
            "\n",
            "\n",
            " 20%|██        | 3/15 [04:03<16:13, 81.16s/it]\u001b[A\u001b[A\u001b[A\u001b[A\u001b[A\u001b[A"
          ],
          "name": "stderr"
        },
        {
          "output_type": "stream",
          "text": [
            "Accuracy of the network on the test images: 37 %\n",
            "Checkpoint Saved\n",
            "Epoch 4, duration: 66 s, loss: 0.8196, acc: 81.2806\n"
          ],
          "name": "stdout"
        },
        {
          "output_type": "stream",
          "text": [
            "\n",
            "\n",
            "\n",
            "\n",
            "\n",
            "\n",
            " 27%|██▋       | 4/15 [05:24<14:53, 81.20s/it]\u001b[A\u001b[A\u001b[A\u001b[A\u001b[A\u001b[A"
          ],
          "name": "stderr"
        },
        {
          "output_type": "stream",
          "text": [
            "Accuracy of the network on the test images: 53 %\n",
            "Checkpoint Saved\n",
            "Epoch 5, duration: 67 s, loss: 0.4432, acc: 91.6360\n"
          ],
          "name": "stdout"
        },
        {
          "output_type": "stream",
          "text": [
            "\n",
            "\n",
            "\n",
            "\n",
            "\n",
            "\n",
            " 33%|███▎      | 5/15 [06:47<13:35, 81.56s/it]\u001b[A\u001b[A\u001b[A\u001b[A\u001b[A\u001b[A"
          ],
          "name": "stderr"
        },
        {
          "output_type": "stream",
          "text": [
            "Accuracy of the network on the test images: 65 %\n",
            "Checkpoint Saved\n",
            "Epoch 6, duration: 66 s, loss: 0.2165, acc: 97.2886\n"
          ],
          "name": "stdout"
        },
        {
          "output_type": "stream",
          "text": [
            "\n",
            "\n",
            "\n",
            "\n",
            "\n",
            "\n",
            " 40%|████      | 6/15 [08:08<12:13, 81.55s/it]\u001b[A\u001b[A\u001b[A\u001b[A\u001b[A\u001b[A"
          ],
          "name": "stderr"
        },
        {
          "output_type": "stream",
          "text": [
            "Accuracy of the network on the test images: 68 %\n",
            "Checkpoint Saved\n",
            "Epoch 7, duration: 66 s, loss: 0.1186, acc: 98.8971\n"
          ],
          "name": "stdout"
        },
        {
          "output_type": "stream",
          "text": [
            "\n",
            "\n",
            "\n",
            "\n",
            "\n",
            "\n",
            " 47%|████▋     | 7/15 [09:30<10:52, 81.56s/it]\u001b[A\u001b[A\u001b[A\u001b[A\u001b[A\u001b[A"
          ],
          "name": "stderr"
        },
        {
          "output_type": "stream",
          "text": [
            "Accuracy of the network on the test images: 67 %\n",
            "Epoch 8, duration: 66 s, loss: 0.0734, acc: 99.4945\n"
          ],
          "name": "stdout"
        },
        {
          "output_type": "stream",
          "text": [
            "\n",
            "\n",
            "\n",
            "\n",
            "\n",
            "\n",
            " 53%|█████▎    | 8/15 [10:51<09:30, 81.49s/it]\u001b[A\u001b[A\u001b[A\u001b[A\u001b[A\u001b[A"
          ],
          "name": "stderr"
        },
        {
          "output_type": "stream",
          "text": [
            "Accuracy of the network on the test images: 76 %\n",
            "Checkpoint Saved\n",
            "Epoch 9, duration: 66 s, loss: 0.0599, acc: 99.6477\n"
          ],
          "name": "stdout"
        },
        {
          "output_type": "stream",
          "text": [
            "\n",
            "\n",
            "\n",
            "\n",
            "\n",
            "\n",
            " 60%|██████    | 9/15 [12:13<08:08, 81.44s/it]\u001b[A\u001b[A\u001b[A\u001b[A\u001b[A\u001b[A"
          ],
          "name": "stderr"
        },
        {
          "output_type": "stream",
          "text": [
            "Accuracy of the network on the test images: 76 %\n",
            "Checkpoint Saved\n",
            "Epoch 10, duration: 66 s, loss: 0.0562, acc: 99.6936\n"
          ],
          "name": "stdout"
        },
        {
          "output_type": "stream",
          "text": [
            "\n",
            "\n",
            "\n",
            "\n",
            "\n",
            "\n",
            " 67%|██████▋   | 10/15 [13:34<06:46, 81.35s/it]\u001b[A\u001b[A\u001b[A\u001b[A\u001b[A\u001b[A"
          ],
          "name": "stderr"
        },
        {
          "output_type": "stream",
          "text": [
            "Accuracy of the network on the test images: 76 %\n",
            "Checkpoint Saved\n",
            "Epoch 11, duration: 66 s, loss: 0.0515, acc: 99.6477\n"
          ],
          "name": "stdout"
        },
        {
          "output_type": "stream",
          "text": [
            "\n",
            "\n",
            "\n",
            "\n",
            "\n",
            "\n",
            " 73%|███████▎  | 11/15 [14:55<05:24, 81.24s/it]\u001b[A\u001b[A\u001b[A\u001b[A\u001b[A\u001b[A"
          ],
          "name": "stderr"
        },
        {
          "output_type": "stream",
          "text": [
            "Accuracy of the network on the test images: 76 %\n",
            "Epoch 12, duration: 65 s, loss: 0.0496, acc: 99.6477\n"
          ],
          "name": "stdout"
        },
        {
          "output_type": "stream",
          "text": [
            "\n",
            "\n",
            "\n",
            "\n",
            "\n",
            "\n",
            " 80%|████████  | 12/15 [16:16<04:03, 81.11s/it]\u001b[A\u001b[A\u001b[A\u001b[A\u001b[A\u001b[A"
          ],
          "name": "stderr"
        },
        {
          "output_type": "stream",
          "text": [
            "Accuracy of the network on the test images: 76 %\n",
            "Checkpoint Saved\n",
            "Epoch 13, duration: 66 s, loss: 0.0469, acc: 99.7089\n"
          ],
          "name": "stdout"
        },
        {
          "output_type": "stream",
          "text": [
            "\n",
            "\n",
            "\n",
            "\n",
            "\n",
            "\n",
            " 87%|████████▋ | 13/15 [17:37<02:42, 81.27s/it]\u001b[A\u001b[A\u001b[A\u001b[A\u001b[A\u001b[A"
          ],
          "name": "stderr"
        },
        {
          "output_type": "stream",
          "text": [
            "Accuracy of the network on the test images: 76 %\n",
            "Epoch 14, duration: 66 s, loss: 0.0469, acc: 99.7243\n"
          ],
          "name": "stdout"
        },
        {
          "output_type": "stream",
          "text": [
            "\n",
            "\n",
            "\n",
            "\n",
            "\n",
            "\n",
            " 93%|█████████▎| 14/15 [18:58<01:21, 81.15s/it]\u001b[A\u001b[A\u001b[A\u001b[A\u001b[A\u001b[A"
          ],
          "name": "stderr"
        },
        {
          "output_type": "stream",
          "text": [
            "Accuracy of the network on the test images: 76 %\n",
            "Epoch 15, duration: 65 s, loss: 0.0473, acc: 99.7243\n",
            "Accuracy of the network on the test images: 76 %\n",
            "Load Best Model.\n",
            "Finished Training\n"
          ],
          "name": "stdout"
        }
      ]
    },
    {
      "cell_type": "markdown",
      "metadata": {
        "id": "nxTbQyYHqP9M"
      },
      "source": [
        "## Plot Performance: Accuracy and Loss"
      ]
    },
    {
      "cell_type": "code",
      "metadata": {
        "id": "O-l12dIIwsFo",
        "colab": {
          "base_uri": "https://localhost:8080/",
          "height": 516
        },
        "outputId": "e2990b2c-e3b0-4e4b-8108-941aeec64ff8"
      },
      "source": [
        "fig, ax = plt.subplots(2,2,figsize=(12,8))\n",
        "ax[0, 0].plot(googlenet_training_losses)\n",
        "ax[0, 0].set_title(\"Training loss\")\n",
        "\n",
        "ax[0, 1].plot(googlenet_training_accs)\n",
        "ax[0, 1].set_title(\"Training Accuracy\")\n",
        "\n",
        "ax[1, 0].plot(googlenet_val_accs)\n",
        "ax[1, 0].set_title(\"Validation acc\")"
      ],
      "execution_count": null,
      "outputs": [
        {
          "output_type": "execute_result",
          "data": {
            "text/plain": [
              "Text(0.5, 1.0, 'Validation acc')"
            ]
          },
          "metadata": {
            "tags": []
          },
          "execution_count": 53
        },
        {
          "output_type": "display_data",
          "data": {
            "image/png": "[encoded data removed]",
            "text/plain": [
              "<Figure size 864x576 with 4 Axes>"
            ]
          },
          "metadata": {
            "tags": [],
            "needs_background": "light"
          }
        }
      ]
    },
    {
      "cell_type": "markdown",
      "metadata": {
        "id": "xArwgT2R-q6l"
      },
      "source": [
        "# Test Accuracy of trained model on test set: 78%"
      ]
    },
    {
      "cell_type": "code",
      "metadata": {
        "id": "n8ya_W4V4BJa",
        "colab": {
          "base_uri": "https://localhost:8080/"
        },
        "outputId": "74178d01-61f9-47a8-f5e2-aafe885b4450"
      },
      "source": [
        "google_best_model.eval()\n",
        "test_acc = eval_model_v1(google_best_model, testloader = testloader)\n",
        "print(\"Test Accuracy: %d \"%test_acc)"
      ],
      "execution_count": null,
      "outputs": [
        {
          "output_type": "stream",
          "text": [
            "Accuracy of the network on the test images: 78 %\n",
            "Test Accuracy: 78 \n"
          ],
          "name": "stdout"
        }
      ]
    },
    {
      "cell_type": "markdown",
      "metadata": {
        "id": "DLze-YOPAHSY"
      },
      "source": [
        "# Save Model"
      ]
    },
    {
      "cell_type": "code",
      "metadata": {
        "id": "90FBCkl5xcnx"
      },
      "source": [
        "! cp checkpoint.pt car_image_best_model.pt\n",
        "! cp checkpoint.pt /content/drive/My\\ Drive/Colab\\ Notebooks/laioffer-in-class-coding/DS-HW/"
      ],
      "execution_count": null,
      "outputs": []
    },
    {
      "cell_type": "code",
      "metadata": {
        "id": "e39P_172xcUs"
      },
      "source": [
        ""
      ],
      "execution_count": null,
      "outputs": []
    },
    {
      "cell_type": "code",
      "metadata": {
        "id": "bVmgnU8tAQtX"
      },
      "source": [
        ""
      ],
      "execution_count": null,
      "outputs": []
    },
    {
      "cell_type": "markdown",
      "metadata": {
        "id": "krkKjC5-rcGS"
      },
      "source": [
        "# 2.2 ResNet50 Model for transfer learning"
      ]
    },
    {
      "cell_type": "code",
      "metadata": {
        "id": "gk7B8h936TeH",
        "colab": {
          "base_uri": "https://localhost:8080/",
          "height": 102,
          "referenced_widgets": [
            "8f89ba2882ed423f8c7bd462d03d0a2c",
            "909cb8efb61a4e3b8cd17cf1aa9a2686",
            "848fdb694f624853ba2a6fdd8cfcca47",
            "560bc9d85b474e8a8117cfcbf4bcc342",
            "d54af253af304203af5d8e136863c51b",
            "8a800b89d03e4633b824eb702335bf91",
            "2f87f222b70c4dc8af2c2b4e684d8b64",
            "98664788a54e4f86b553cda958ae6325"
          ]
        },
        "outputId": "1d37e1da-3646-4a56-a04d-fa7912f9b634"
      },
      "source": [
        "import torchvision.models as models\n",
        "def weights_init(m):\n",
        "    classname = m.__class__.__name__\n",
        "    if classname.find('Conv') != -1:\n",
        "        nn.init.normal_(m.weight.data, 0.0, 0.02)\n",
        "    elif classname.find('BatchNorm') != -1:\n",
        "        nn.init.normal_(m.weight.data, 1.0, 0.02)\n",
        "        nn.init.constant_(m.bias.data, 0)\n",
        "\n",
        "class MyResNet50(nn.Module):\n",
        "  def __init__(self, num_classes= 196, unfreeze_flag= True):\n",
        "    super().__init__()\n",
        "    resnet50_model = models.resnet50(pretrained=True)\n",
        "    self.resnet50_model = resnet50_model\n",
        "    #freezen network\n",
        "    for param in self.resnet50_model.parameters():\n",
        "      param.require_grad = unfreeze_flag\n",
        "    \n",
        "    # Replace new layer    \n",
        "    # layer = [,nn.Linear(2048, num_classes)]\n",
        "    self.resnet50_model.fc = nn.Linear(2048, num_classes)\n",
        "    self.resnet50_model.fc.apply(weights_init)\n",
        "  def forward(self,x):\n",
        "    out = self.resnet50_model(x)\n",
        "  \n",
        "    return out\n",
        "  \n",
        "resnet50_model = MyResNet50().to(device)\n"
      ],
      "execution_count": null,
      "outputs": [
        {
          "output_type": "stream",
          "text": [
            "Downloading: \"https://download.pytorch.org/models/resnet50-19c8e357.pth\" to /root/.cache/torch/hub/checkpoints/resnet50-19c8e357.pth\n"
          ],
          "name": "stderr"
        },
        {
          "output_type": "display_data",
          "data": {
            "application/vnd.jupyter.widget-view+json": {
              "model_id": "8f89ba2882ed423f8c7bd462d03d0a2c",
              "version_minor": 0,
              "version_major": 2
            },
            "text/plain": [
              "HBox(children=(FloatProgress(value=0.0, max=102502400.0), HTML(value='')))"
            ]
          },
          "metadata": {
            "tags": []
          }
        },
        {
          "output_type": "stream",
          "text": [
            "\n"
          ],
          "name": "stdout"
        }
      ]
    },
    {
      "cell_type": "code",
      "metadata": {
        "id": "zPo5p_z76TmA"
      },
      "source": [
        "#define Loss function\n",
        "resnet_criterion = nn.CrossEntropyLoss()\n",
        "#define optimizer: using Stochastic gradient descent\n",
        "resnet_optimizer = torch.optim.SGD(resnet50_model.parameters(),lr=0.1,weight_decay=0.001)\n",
        "resnet_lrscheduler = optim.lr_scheduler.ReduceLROnPlateau(resnet_optimizer,mode=\"max\",factor=0.1,patience=3, threshold=0.9)\n"
      ],
      "execution_count": null,
      "outputs": []
    },
    {
      "cell_type": "code",
      "metadata": {
        "id": "KrcHoOm1CdJF",
        "colab": {
          "base_uri": "https://localhost:8080/"
        },
        "outputId": "87efda1a-2cb5-4135-bd22-ccef78df4c75"
      },
      "source": [
        "resnet_model, resnet_best_model,resnet_training_losses, resnet_training_accs, resnet_val_accs = train_model_v1(resnet50_model, resnet_criterion, \n",
        "                                                  resnet_optimizer, resnet_lrscheduler, n_epochs=10,\n",
        "                                                  trainloader= trainloader, testloader= val_loader, \n",
        "                                                  earlystopping=True,patience=2)"
      ],
      "execution_count": null,
      "outputs": [
        {
          "output_type": "stream",
          "text": [
            "\n",
            "\n",
            "\n",
            "\n",
            "\n",
            "\n",
            "\n",
            "\n",
            "  0%|          | 0/10 [00:00<?, ?it/s]\u001b[A\u001b[A\u001b[A\u001b[A\u001b[A\u001b[A\u001b[A\u001b[A"
          ],
          "name": "stderr"
        },
        {
          "output_type": "stream",
          "text": [
            "Epoch 1, duration: 81 s, loss: 3.8886, acc: 13.6642\n",
            "Accuracy of the network on the test images: 14 %\n"
          ],
          "name": "stdout"
        },
        {
          "output_type": "stream",
          "text": [
            "\n",
            "\n",
            "\n",
            "\n",
            "\n",
            "\n",
            "\n",
            "\n",
            " 10%|█         | 1/10 [01:37<14:39, 97.73s/it]\u001b[A\u001b[A\u001b[A\u001b[A\u001b[A\u001b[A\u001b[A\u001b[A"
          ],
          "name": "stderr"
        },
        {
          "output_type": "stream",
          "text": [
            "Checkpoint Saved\n",
            "Epoch 2, duration: 82 s, loss: 1.8988, acc: 46.8444\n",
            "Accuracy of the network on the test images: 34 %\n"
          ],
          "name": "stdout"
        },
        {
          "output_type": "stream",
          "text": [
            "\n",
            "\n",
            "\n",
            "\n",
            "\n",
            "\n",
            "\n",
            "\n",
            " 20%|██        | 2/10 [03:16<13:03, 97.96s/it]\u001b[A\u001b[A\u001b[A\u001b[A\u001b[A\u001b[A\u001b[A\u001b[A"
          ],
          "name": "stderr"
        },
        {
          "output_type": "stream",
          "text": [
            "Checkpoint Saved\n",
            "Epoch 3, duration: 82 s, loss: 1.0313, acc: 69.6691\n"
          ],
          "name": "stdout"
        },
        {
          "output_type": "stream",
          "text": [
            "\n",
            "\n",
            "\n",
            "\n",
            "\n",
            "\n",
            "\n",
            "\n",
            " 30%|███       | 3/10 [04:54<11:26, 98.13s/it]\u001b[A\u001b[A\u001b[A\u001b[A\u001b[A\u001b[A\u001b[A\u001b[A"
          ],
          "name": "stderr"
        },
        {
          "output_type": "stream",
          "text": [
            "Accuracy of the network on the test images: 23 %\n",
            "Epoch 4, duration: 83 s, loss: 0.5421, acc: 84.2065\n",
            "Accuracy of the network on the test images: 50 %\n"
          ],
          "name": "stdout"
        },
        {
          "output_type": "stream",
          "text": [
            "\n",
            "\n",
            "\n",
            "\n",
            "\n",
            "\n",
            "\n",
            "\n",
            " 40%|████      | 4/10 [06:35<09:52, 98.83s/it]\u001b[A\u001b[A\u001b[A\u001b[A\u001b[A\u001b[A\u001b[A\u001b[A"
          ],
          "name": "stderr"
        },
        {
          "output_type": "stream",
          "text": [
            "Checkpoint Saved\n",
            "Epoch 5, duration: 82 s, loss: 0.2638, acc: 93.1679\n"
          ],
          "name": "stdout"
        },
        {
          "output_type": "stream",
          "text": [
            "\n",
            "\n",
            "\n",
            "\n",
            "\n",
            "\n",
            "\n",
            "\n",
            " 50%|█████     | 5/10 [08:14<08:15, 99.07s/it]\u001b[A\u001b[A\u001b[A\u001b[A\u001b[A\u001b[A\u001b[A\u001b[A"
          ],
          "name": "stderr"
        },
        {
          "output_type": "stream",
          "text": [
            "Accuracy of the network on the test images: 38 %\n",
            "Epoch 6, duration: 83 s, loss: 0.1250, acc: 97.3499\n",
            "Accuracy of the network on the test images: 68 %\n"
          ],
          "name": "stdout"
        },
        {
          "output_type": "stream",
          "text": [
            "\n",
            "\n",
            "\n",
            "\n",
            "\n",
            "\n",
            "\n",
            "\n",
            " 60%|██████    | 6/10 [09:54<06:37, 99.31s/it]\u001b[A\u001b[A\u001b[A\u001b[A\u001b[A\u001b[A\u001b[A\u001b[A"
          ],
          "name": "stderr"
        },
        {
          "output_type": "stream",
          "text": [
            "Checkpoint Saved\n",
            "Epoch 7, duration: 83 s, loss: 0.0500, acc: 99.1881\n",
            "Accuracy of the network on the test images: 79 %\n"
          ],
          "name": "stdout"
        },
        {
          "output_type": "stream",
          "text": [
            "\n",
            "\n",
            "\n",
            "\n",
            "\n",
            "\n",
            "\n",
            "\n",
            " 70%|███████   | 7/10 [11:35<04:58, 99.64s/it]\u001b[A\u001b[A\u001b[A\u001b[A\u001b[A\u001b[A\u001b[A\u001b[A"
          ],
          "name": "stderr"
        },
        {
          "output_type": "stream",
          "text": [
            "Checkpoint Saved\n",
            "Epoch 8, duration: 83 s, loss: 0.0229, acc: 99.6170\n",
            "Accuracy of the network on the test images: 81 %\n"
          ],
          "name": "stdout"
        },
        {
          "output_type": "stream",
          "text": [
            "\n",
            "\n",
            "\n",
            "\n",
            "\n",
            "\n",
            "\n",
            "\n",
            " 80%|████████  | 8/10 [13:15<03:19, 99.79s/it]\u001b[A\u001b[A\u001b[A\u001b[A\u001b[A\u001b[A\u001b[A\u001b[A"
          ],
          "name": "stderr"
        },
        {
          "output_type": "stream",
          "text": [
            "Checkpoint Saved\n",
            "Epoch 9, duration: 83 s, loss: 0.0172, acc: 99.6783\n",
            "Accuracy of the network on the test images: 81 %\n"
          ],
          "name": "stdout"
        },
        {
          "output_type": "stream",
          "text": [
            "\n",
            "\n",
            "\n",
            "\n",
            "\n",
            "\n",
            "\n",
            "\n",
            " 90%|█████████ | 9/10 [14:55<01:39, 99.95s/it]\u001b[A\u001b[A\u001b[A\u001b[A\u001b[A\u001b[A\u001b[A\u001b[A"
          ],
          "name": "stderr"
        },
        {
          "output_type": "stream",
          "text": [
            "Checkpoint Saved\n",
            "Epoch 10, duration: 82 s, loss: 0.0151, acc: 99.6783\n",
            "Accuracy of the network on the test images: 81 %\n"
          ],
          "name": "stdout"
        },
        {
          "output_type": "stream",
          "text": [
            "\n",
            "\n",
            "\n",
            "\n",
            "\n",
            "\n",
            "\n",
            "\n",
            "100%|██████████| 10/10 [16:34<00:00, 99.49s/it]"
          ],
          "name": "stderr"
        },
        {
          "output_type": "stream",
          "text": [
            "Checkpoint Saved\n",
            "Finished Training\n"
          ],
          "name": "stdout"
        },
        {
          "output_type": "stream",
          "text": [
            "\n"
          ],
          "name": "stderr"
        }
      ]
    },
    {
      "cell_type": "markdown",
      "metadata": {
        "id": "C74t32Vkqd3F"
      },
      "source": [
        "## Plot Performance: Accuracy and Loss of ResNet50"
      ]
    },
    {
      "cell_type": "code",
      "metadata": {
        "id": "5Hth3lbs6PTK",
        "colab": {
          "base_uri": "https://localhost:8080/",
          "height": 516
        },
        "outputId": "10982953-80ba-45db-cfe4-b5aa452ad283"
      },
      "source": [
        "#plot accuarcy\n",
        "import matplotlib.pyplot as plt\n",
        "fig, ax = plt.subplots(2,2, figsize=(12,8))\n",
        "ax[0,0].plot(resnet_training_losses)\n",
        "ax[0,0].set_title(\"Training loss\")\n",
        "ax[1,0].plot(resnet_training_accs)\n",
        "ax[1,0].set_title(\"Training acc\")\n",
        "ax[0,1].plot(resnet_val_accs)\n",
        "ax[0,1].set_title(\"Validation acc\")"
      ],
      "execution_count": null,
      "outputs": [
        {
          "output_type": "execute_result",
          "data": {
            "text/plain": [
              "Text(0.5, 1.0, 'Validation acc')"
            ]
          },
          "metadata": {
            "tags": []
          },
          "execution_count": 67
        },
        {
          "output_type": "display_data",
          "data": {
            "image/png": "[encoded data removed]",
            "text/plain": [
              "<Figure size 864x576 with 4 Axes>"
            ]
          },
          "metadata": {
            "tags": [],
            "needs_background": "light"
          }
        }
      ]
    },
    {
      "cell_type": "markdown",
      "metadata": {
        "id": "kV4YjcaFM1Qy"
      },
      "source": [
        "# Test Accuracy of ResNet5 on test set: 83%"
      ]
    },
    {
      "cell_type": "code",
      "metadata": {
        "id": "HmHGrWJ96PdJ",
        "colab": {
          "base_uri": "https://localhost:8080/"
        },
        "outputId": "de407b38-a6af-4f67-8c23-d3fa285351f8"
      },
      "source": [
        "\n",
        "resnet_best_model.eval()\n",
        "test_acc = eval_model_v1(resnet_best_model, testloader = testloader)\n",
        "print(\"Test Accuracy: %d \"%test_acc)"
      ],
      "execution_count": null,
      "outputs": [
        {
          "output_type": "stream",
          "text": [
            "Accuracy of the network on the test images: 83 %\n",
            "Test Accuracy: 83 \n"
          ],
          "name": "stdout"
        }
      ]
    },
    {
      "cell_type": "code",
      "metadata": {
        "id": "NxciLow56PXl"
      },
      "source": [
        "! cp checkpoint.pt car_image_ResNet50_best_model.pt\n",
        "! cp car_image_ResNet50_best_model.pt /content/drive/My\\ Drive/Colab\\ Notebooks/laioffer-in-class-coding/DS-HW/"
      ],
      "execution_count": null,
      "outputs": []
    },
    {
      "cell_type": "code",
      "metadata": {
        "id": "ZcFZX7K_3ieC"
      },
      "source": [
        ""
      ],
      "execution_count": null,
      "outputs": []
    },
    {
      "cell_type": "markdown",
      "metadata": {
        "id": "AgC7_zrum8lS"
      },
      "source": [
        "# 2.3 VGG16 model for Transfer Learning"
      ]
    },
    {
      "cell_type": "code",
      "metadata": {
        "id": "2_p4oDGp8yor"
      },
      "source": [
        "\n",
        "def weights_init(m):\n",
        "    classname = m.__class__.__name__\n",
        "    if classname.find('Conv') != -1:\n",
        "        nn.init.normal_(m.weight.data, 0.0, 0.02)\n",
        "    elif classname.find('BatchNorm') != -1:\n",
        "        nn.init.normal_(m.weight.data, 1.0, 0.02)\n",
        "        nn.init.constant_(m.bias.data, 0)\n",
        "\n",
        "class MyVGG(nn.Module):\n",
        "  def __init__(self,num_class=196, unfreeze_flag = True):\n",
        "    super().__init__()\n",
        "    self.vgg_model = models.vgg16(pretrained=True)\n",
        "    # unfreeze / freeze parameters\n",
        "    for param in self.vgg_model.parameters():\n",
        "      param.require_grad =  unfreeze_flag\n",
        "    # replace the last layer\n",
        "    self.vgg_model.classifier[6]= nn.Linear(4096,num_class)\n",
        "    # using initialize weight strategy\n",
        "    self.vgg_model.classifier[6].apply(weights_init)\n",
        "\n",
        "  def forward(self, x):\n",
        "    return self.vgg_model(x)\n",
        "\n"
      ],
      "execution_count": null,
      "outputs": []
    },
    {
      "cell_type": "code",
      "metadata": {
        "id": "WKnn-eKL9BpW",
        "colab": {
          "base_uri": "https://localhost:8080/",
          "height": 82,
          "referenced_widgets": [
            "fe1dd1d419f14696a838724be3474081",
            "e510c2faa277442fb647261a4830f2a3",
            "f9cface218044353b911e169ef00ab13",
            "ec0eccac9ef240e09bbcd1074cf28a42",
            "e434d2b0b4c448d2add7ef18230eb998",
            "14a6941f37ce4ce0892e4ea2344686ac",
            "60b40366d69044b6a12ebe2dd26c5637",
            "d58f47f6c9fb476fbb3f085e396bc551"
          ]
        },
        "outputId": "2edfab70-de4a-4722-909a-e8610aaa1d88"
      },
      "source": [
        "vgg_model = MyVGG()\n",
        "vgg_model = vgg_model.to(device)\n"
      ],
      "execution_count": null,
      "outputs": [
        {
          "output_type": "stream",
          "text": [
            "Downloading: \"https://download.pytorch.org/models/vgg16-397923af.pth\" to /root/.cache/torch/hub/checkpoints/vgg16-397923af.pth\n"
          ],
          "name": "stderr"
        },
        {
          "output_type": "display_data",
          "data": {
            "application/vnd.jupyter.widget-view+json": {
              "model_id": "fe1dd1d419f14696a838724be3474081",
              "version_minor": 0,
              "version_major": 2
            },
            "text/plain": [
              "HBox(children=(FloatProgress(value=0.0, max=553433881.0), HTML(value='')))"
            ]
          },
          "metadata": {
            "tags": []
          }
        },
        {
          "output_type": "stream",
          "text": [
            "\n"
          ],
          "name": "stdout"
        }
      ]
    },
    {
      "cell_type": "code",
      "metadata": {
        "id": "6-q10SMs3VgR"
      },
      "source": [
        "# vgg_model.named_parameters\n",
        "\n",
        "#define Loss function\n",
        "vgg_criterion = nn.CrossEntropyLoss()\n",
        "#define optimizer: using Stochastic gradient descent\n",
        "vgg_optimizer = torch.optim.SGD(vgg_model.parameters(),lr=0.1,weight_decay=0.001)\n",
        "vgg_lrscheduler = optim.lr_scheduler.ReduceLROnPlateau(vgg_optimizer,mode=\"max\",factor=0.1,patience=3, threshold=0.9)\n"
      ],
      "execution_count": null,
      "outputs": []
    },
    {
      "cell_type": "code",
      "metadata": {
        "id": "37EU7Lf3JvRd",
        "colab": {
          "base_uri": "https://localhost:8080/"
        },
        "outputId": "89de73b8-5184-4f06-c351-1bd415c1b46a"
      },
      "source": [
        "vgg_model, vgg_best_model,vgg_training_losses, vgg_training_accs, vgg_val_accs = train_model_v1(vgg_model, vgg_criterion, \n",
        "                                                  vgg_optimizer, vgg_lrscheduler, n_epochs=20,\n",
        "                                                  trainloader= trainloader, testloader= val_loader, \n",
        "                                                  earlystopping=True,patience=2)"
      ],
      "execution_count": null,
      "outputs": [
        {
          "output_type": "stream",
          "text": [
            "\r  0%|          | 0/20 [00:00<?, ?it/s]"
          ],
          "name": "stderr"
        },
        {
          "output_type": "stream",
          "text": [
            "Epoch 1, duration: 90 s, loss: 5.2878, acc: 0.4749\n",
            "Accuracy of the network on the test images: 0 %\n"
          ],
          "name": "stdout"
        },
        {
          "output_type": "stream",
          "text": [
            "\r  5%|▌         | 1/20 [01:49<34:48, 109.90s/it]"
          ],
          "name": "stderr"
        },
        {
          "output_type": "stream",
          "text": [
            "Checkpoint Saved\n",
            "Epoch 2, duration: 94 s, loss: 5.2698, acc: 0.9651\n"
          ],
          "name": "stdout"
        },
        {
          "output_type": "stream",
          "text": [
            "\r 10%|█         | 2/20 [03:40<33:03, 110.21s/it]"
          ],
          "name": "stderr"
        },
        {
          "output_type": "stream",
          "text": [
            "Accuracy of the network on the test images: 0 %\n",
            "Epoch 3, duration: 95 s, loss: 5.2088, acc: 1.5778\n",
            "Accuracy of the network on the test images: 1 %\n"
          ],
          "name": "stdout"
        },
        {
          "output_type": "stream",
          "text": [
            "\r 15%|█▌        | 3/20 [05:35<31:33, 111.41s/it]"
          ],
          "name": "stderr"
        },
        {
          "output_type": "stream",
          "text": [
            "Checkpoint Saved\n",
            "Epoch 4, duration: 95 s, loss: 5.1402, acc: 1.6085\n"
          ],
          "name": "stdout"
        },
        {
          "output_type": "stream",
          "text": [
            "\r 20%|██        | 4/20 [07:27<29:46, 111.66s/it]"
          ],
          "name": "stderr"
        },
        {
          "output_type": "stream",
          "text": [
            "Accuracy of the network on the test images: 0 %\n",
            "Epoch 5, duration: 96 s, loss: 4.6973, acc: 3.7837\n",
            "Accuracy of the network on the test images: 3 %\n"
          ],
          "name": "stdout"
        },
        {
          "output_type": "stream",
          "text": [
            "\r 25%|██▌       | 5/20 [09:22<28:10, 112.69s/it]"
          ],
          "name": "stderr"
        },
        {
          "output_type": "stream",
          "text": [
            "Checkpoint Saved\n",
            "Epoch 6, duration: 96 s, loss: 4.2315, acc: 7.6746\n",
            "Accuracy of the network on the test images: 8 %\n"
          ],
          "name": "stdout"
        },
        {
          "output_type": "stream",
          "text": [
            "\r 30%|███       | 6/20 [11:17<26:29, 113.51s/it]"
          ],
          "name": "stderr"
        },
        {
          "output_type": "stream",
          "text": [
            "Checkpoint Saved\n",
            "Epoch 7, duration: 96 s, loss: 3.7069, acc: 13.4498\n"
          ],
          "name": "stdout"
        },
        {
          "output_type": "stream",
          "text": [
            "\r 35%|███▌      | 7/20 [13:10<24:32, 113.23s/it]"
          ],
          "name": "stderr"
        },
        {
          "output_type": "stream",
          "text": [
            "Accuracy of the network on the test images: 8 %\n",
            "Epoch 8, duration: 96 s, loss: 3.3254, acc: 19.7457\n",
            "Accuracy of the network on the test images: 17 %\n"
          ],
          "name": "stdout"
        },
        {
          "output_type": "stream",
          "text": [
            "\r 40%|████      | 8/20 [15:05<22:44, 113.72s/it]"
          ],
          "name": "stderr"
        },
        {
          "output_type": "stream",
          "text": [
            "Checkpoint Saved\n",
            "Epoch 9, duration: 96 s, loss: 2.6359, acc: 30.4381\n",
            "Accuracy of the network on the test images: 24 %\n"
          ],
          "name": "stdout"
        },
        {
          "output_type": "stream",
          "text": [
            "\r 45%|████▌     | 9/20 [17:00<20:55, 114.16s/it]"
          ],
          "name": "stderr"
        },
        {
          "output_type": "stream",
          "text": [
            "Checkpoint Saved\n",
            "Epoch 10, duration: 96 s, loss: 2.1317, acc: 41.9884\n",
            "Accuracy of the network on the test images: 32 %\n"
          ],
          "name": "stdout"
        },
        {
          "output_type": "stream",
          "text": [
            "\r 50%|█████     | 10/20 [18:56<19:06, 114.60s/it]"
          ],
          "name": "stderr"
        },
        {
          "output_type": "stream",
          "text": [
            "Checkpoint Saved\n",
            "Epoch 11, duration: 96 s, loss: 1.8029, acc: 50.2604\n",
            "Accuracy of the network on the test images: 37 %\n"
          ],
          "name": "stdout"
        },
        {
          "output_type": "stream",
          "text": [
            "\r 55%|█████▌    | 11/20 [20:51<17:13, 114.84s/it]"
          ],
          "name": "stderr"
        },
        {
          "output_type": "stream",
          "text": [
            "Checkpoint Saved\n",
            "Epoch 12, duration: 96 s, loss: 1.5231, acc: 56.7708\n"
          ],
          "name": "stdout"
        },
        {
          "output_type": "stream",
          "text": [
            "\r 60%|██████    | 12/20 [22:44<15:14, 114.28s/it]"
          ],
          "name": "stderr"
        },
        {
          "output_type": "stream",
          "text": [
            "Accuracy of the network on the test images: 34 %\n",
            "Epoch 13, duration: 96 s, loss: 1.1516, acc: 66.6973\n",
            "Accuracy of the network on the test images: 43 %\n"
          ],
          "name": "stdout"
        },
        {
          "output_type": "stream",
          "text": [
            "\r 65%|██████▌   | 13/20 [24:40<13:23, 114.76s/it]"
          ],
          "name": "stderr"
        },
        {
          "output_type": "stream",
          "text": [
            "Checkpoint Saved\n",
            "Epoch 14, duration: 96 s, loss: 0.9221, acc: 72.7941\n"
          ],
          "name": "stdout"
        },
        {
          "output_type": "stream",
          "text": [
            "\r 70%|███████   | 14/20 [26:34<11:26, 114.44s/it]"
          ],
          "name": "stderr"
        },
        {
          "output_type": "stream",
          "text": [
            "Accuracy of the network on the test images: 37 %\n",
            "Epoch 15, duration: 96 s, loss: 0.7046, acc: 79.4271\n"
          ],
          "name": "stdout"
        },
        {
          "output_type": "stream",
          "text": [
            "\r 75%|███████▌  | 15/20 [28:26<09:29, 113.92s/it]"
          ],
          "name": "stderr"
        },
        {
          "output_type": "stream",
          "text": [
            "Accuracy of the network on the test images: 23 %\n",
            "Epoch 16, duration: 96 s, loss: 0.2364, acc: 92.8002\n",
            "Accuracy of the network on the test images: 61 %\n"
          ],
          "name": "stdout"
        },
        {
          "output_type": "stream",
          "text": [
            "\r 80%|████████  | 16/20 [30:22<07:37, 114.39s/it]"
          ],
          "name": "stderr"
        },
        {
          "output_type": "stream",
          "text": [
            "Checkpoint Saved\n",
            "Epoch 17, duration: 96 s, loss: 0.0901, acc: 97.0435\n",
            "Accuracy of the network on the test images: 63 %\n"
          ],
          "name": "stdout"
        },
        {
          "output_type": "stream",
          "text": [
            "\r 85%|████████▌ | 17/20 [32:18<05:44, 114.86s/it]"
          ],
          "name": "stderr"
        },
        {
          "output_type": "stream",
          "text": [
            "Checkpoint Saved\n",
            "Epoch 18, duration: 96 s, loss: 0.0560, acc: 98.2077\n",
            "Accuracy of the network on the test images: 63 %\n"
          ],
          "name": "stdout"
        },
        {
          "output_type": "stream",
          "text": [
            "\r 90%|█████████ | 18/20 [34:14<03:50, 115.29s/it]"
          ],
          "name": "stderr"
        },
        {
          "output_type": "stream",
          "text": [
            "Checkpoint Saved\n",
            "Epoch 19, duration: 97 s, loss: 0.0546, acc: 98.0392\n",
            "Accuracy of the network on the test images: 63 %\n"
          ],
          "name": "stdout"
        },
        {
          "output_type": "stream",
          "text": [
            "\r 95%|█████████▌| 19/20 [36:10<01:55, 115.57s/it]"
          ],
          "name": "stderr"
        },
        {
          "output_type": "stream",
          "text": [
            "Checkpoint Saved\n",
            "Epoch 20, duration: 96 s, loss: 0.0339, acc: 98.9737\n",
            "Accuracy of the network on the test images: 64 %\n"
          ],
          "name": "stdout"
        },
        {
          "output_type": "stream",
          "text": [
            "100%|██████████| 20/20 [38:06<00:00, 114.35s/it]"
          ],
          "name": "stderr"
        },
        {
          "output_type": "stream",
          "text": [
            "Checkpoint Saved\n",
            "Finished Training\n"
          ],
          "name": "stdout"
        },
        {
          "output_type": "stream",
          "text": [
            "\n"
          ],
          "name": "stderr"
        }
      ]
    },
    {
      "cell_type": "markdown",
      "metadata": {
        "id": "h6hkk2Z5qrZS"
      },
      "source": [
        "## Plot Performance: Accuracy and Loss of VGG16"
      ]
    },
    {
      "cell_type": "code",
      "metadata": {
        "id": "GGT8WHrA7QC2",
        "colab": {
          "base_uri": "https://localhost:8080/",
          "height": 516
        },
        "outputId": "6df583be-0eb9-4361-9183-4eadd3ed3fa8"
      },
      "source": [
        "fig, ax = plt.subplots(2,2,figsize=(12,8))\n",
        "ax[0, 0].plot(vgg_training_losses)\n",
        "ax[0, 0].set_title(\"Training loss\")\n",
        "\n",
        "ax[0, 1].plot(vgg_training_accs)\n",
        "ax[0, 1].set_title(\"Training Accuracy\")\n",
        "\n",
        "ax[1, 0].plot(vgg_val_accs)\n",
        "ax[1, 0].set_title(\"Test acc\")"
      ],
      "execution_count": null,
      "outputs": [
        {
          "output_type": "execute_result",
          "data": {
            "text/plain": [
              "Text(0.5, 1.0, 'Test acc')"
            ]
          },
          "metadata": {
            "tags": []
          },
          "execution_count": 14
        },
        {
          "output_type": "display_data",
          "data": {
            "image/png": "[encoded data removed]",
            "text/plain": [
              "<Figure size 864x576 with 4 Axes>"
            ]
          },
          "metadata": {
            "tags": [],
            "needs_background": "light"
          }
        }
      ]
    },
    {
      "cell_type": "markdown",
      "metadata": {
        "id": "s2HcXaUkQAsC"
      },
      "source": [
        "From VGG learning curve, we can see that the model performance can be improved by using more epoches or higher learning, since the training accuracy has not converge yet.\n",
        "So I decide to tune the model by changing learning rate here"
      ]
    },
    {
      "cell_type": "code",
      "metadata": {
        "id": "nrEZ6TPBP_h6"
      },
      "source": [
        "! cp checkpoint.pt car_image_VGG_best_model.pt\n",
        "! cp car_image_VGG_best_model.pt /content/drive/My\\ Drive/Colab\\ Notebooks/laioffer-in-class-coding/DS-HW/"
      ],
      "execution_count": null,
      "outputs": []
    },
    {
      "cell_type": "markdown",
      "metadata": {
        "id": "N4EgK2_JNlhe"
      },
      "source": [
        "# Test Accuracy of VGG16 on test set: 65%"
      ]
    },
    {
      "cell_type": "code",
      "metadata": {
        "id": "26V4LzV5Nkss",
        "colab": {
          "base_uri": "https://localhost:8080/"
        },
        "outputId": "8e8deaa4-5089-4d17-edbd-1ddea72abf9d"
      },
      "source": [
        "\n",
        "vgg_best_model.eval()\n",
        "test_acc = eval_model_v1(vgg_best_model, testloader = testloader)\n",
        "print(\"Test Accuracy: %d \"%test_acc)"
      ],
      "execution_count": null,
      "outputs": [
        {
          "output_type": "stream",
          "text": [
            "Accuracy of the network on the test images: 65 %\n",
            "Test Accuracy: 65 \n"
          ],
          "name": "stdout"
        }
      ]
    },
    {
      "cell_type": "markdown",
      "metadata": {
        "id": "Kjwwtg5BN1Lr"
      },
      "source": [
        "# Save model"
      ]
    },
    {
      "cell_type": "code",
      "metadata": {
        "id": "YFolUlrmNkmU"
      },
      "source": [
        "! cp checkpoint.pt car_image_VGG_best_model.pt\n",
        "! cp car_image_VGG_best_model.pt /content/drive/My\\ Drive/Colab\\ Notebooks/laioffer-in-class-coding/DS-HW/"
      ],
      "execution_count": null,
      "outputs": []
    },
    {
      "cell_type": "markdown",
      "metadata": {
        "id": "T_0AghV5pOts"
      },
      "source": [
        "# Select model:\n",
        "We can see that in the 4 models I tried for transfer learning, ResNet50 has the best testing accuracy performance 83%, with the least amount of epoches (10 epoches) to converge, while other models need more than 10 epoches to converge and have worse test accuracy\n",
        "Hence, I choose to tune ResNet50 to get a better performance here"
      ]
    },
    {
      "cell_type": "code",
      "metadata": {
        "id": "QmV8dRGTpORb"
      },
      "source": [
        "! cp /content/drive/My\\ Drive/Colab\\ Notebooks/laioffer-in-class-coding/DS-HW/TransferLearning/car_image_* ./"
      ],
      "execution_count": null,
      "outputs": []
    },
    {
      "cell_type": "code",
      "metadata": {
        "id": "jxXj7vx6rEGO"
      },
      "source": [
        "import torchvision.models as models\n",
        "def weights_init(m):\n",
        "    classname = m.__class__.__name__\n",
        "    if classname.find('Conv') != -1:\n",
        "        nn.init.normal_(m.weight.data, 0.0, 0.02)\n",
        "    elif classname.find('BatchNorm') != -1:\n",
        "        nn.init.normal_(m.weight.data, 1.0, 0.02)\n",
        "        nn.init.constant_(m.bias.data, 0)\n",
        "\n",
        "class MyResNet50(nn.Module):\n",
        "  def __init__(self, num_classes= 196, unfreeze_flag= True):\n",
        "    super().__init__()\n",
        "    resnet50_model = models.resnet50(pretrained=True)\n",
        "    self.resnet50_model = resnet50_model\n",
        "    #freezen network\n",
        "    for param in self.resnet50_model.parameters():\n",
        "      param.require_grad = unfreeze_flag\n",
        "    \n",
        "    # Replace new layer    \n",
        "    # layer = [,nn.Linear(2048, num_classes)]\n",
        "    self.resnet50_model.fc = nn.Linear(2048, num_classes)\n",
        "    self.resnet50_model.fc.apply(weights_init)\n",
        "  def forward(self,x):\n",
        "    out = self.resnet50_model(x)\n",
        "  \n",
        "    return out\n",
        "  "
      ],
      "execution_count": null,
      "outputs": []
    },
    {
      "cell_type": "code",
      "metadata": {
        "id": "xa3YjGZZpOOx"
      },
      "source": [
        "# Load trained ResNet50 model\n",
        "resnet_model = torch.load(\"car_image_ResNet50_best_model.pt\")"
      ],
      "execution_count": null,
      "outputs": []
    },
    {
      "cell_type": "markdown",
      "metadata": {
        "id": "Nusgxuz0vh-S"
      },
      "source": [
        "# 3. Fine Tune the selected ResNet50 model\n",
        "+ load data and transform images with flip, rotation normalize operations\n",
        "+ split training set and validation set and test set"
      ]
    },
    {
      "cell_type": "markdown",
      "metadata": {
        "id": "Dm1B-NHrrZXd"
      },
      "source": [
        "## 3.1 Data Loading and Transformation"
      ]
    },
    {
      "cell_type": "code",
      "metadata": {
        "id": "zeBtxh9_sgz1"
      },
      "source": [
        "from sklearn.model_selection import train_test_split, ShuffleSplit\n",
        "width, height = 224, 224\n",
        "train_tfms = transforms.Compose([transforms.Resize((width, height)),\n",
        "                                 transforms.RandomHorizontalFlip(),\n",
        "                                 transforms.RandomRotation(15),\n",
        "                                 transforms.ToTensor(),\n",
        "                                 transforms.Normalize([0.5, 0.5, 0.5], [0.229, 0.224, 0.225])])\n",
        "test_tfms = transforms.Compose([transforms.Resize((width, height)),\n",
        "                                transforms.ToTensor(),\n",
        "                                transforms.Normalize([0.5, 0.5, 0.5], [0.229, 0.224, 0.225])])\n",
        "# create datasets\n",
        "dataset = torchvision.datasets.ImageFolder(root=dataset_dir+\"train\", transform=train_tfms)\n",
        "\n",
        "# Split data into validatoin set and train set\n",
        "val_split_ratio = 0.2\n",
        "val_dataset, train_dataset = torch.utils.data.random_split(dataset, [int(val_split_ratio*len(dataset)), len(dataset)- int(val_split_ratio*len(dataset))], generator=torch.Generator().manual_seed(42))\n",
        "\n",
        "trainloader = torch.utils.data.DataLoader(train_dataset, batch_size=32, shuffle=True, num_workers=2)\n",
        "val_loader = torch.utils.data.DataLoader(val_dataset, batch_size=32, shuffle=True, num_workers=2)\n",
        "\n",
        "# testing dataset\n",
        "dataset2 = torchvision.datasets.ImageFolder(root=dataset_dir+\"test\", transform = test_tfms)\n",
        "testloader = torch.utils.data.DataLoader(dataset2, batch_size=32, shuffle=False, num_workers=2)"
      ],
      "execution_count": null,
      "outputs": []
    },
    {
      "cell_type": "markdown",
      "metadata": {
        "id": "Jd2e430Urfsd"
      },
      "source": [
        "# 3.2 Train model"
      ]
    },
    {
      "cell_type": "code",
      "metadata": {
        "id": "f5ad1Ks2rKXd"
      },
      "source": [
        "#define Loss function\n",
        "resnet_criterion = nn.CrossEntropyLoss()\n",
        "#define optimizer: using Stochastic gradient descent\n",
        "resnet_optimizer = torch.optim.SGD(resnet_model.parameters(),lr=0.01,weight_decay=0.001)\n",
        "resnet_lrscheduler = optim.lr_scheduler.ReduceLROnPlateau(resnet_optimizer,mode=\"max\",factor=0.1,patience=3, threshold=0.9)\n"
      ],
      "execution_count": null,
      "outputs": []
    },
    {
      "cell_type": "code",
      "metadata": {
        "id": "1pcqJXhCr6Z4",
        "colab": {
          "base_uri": "https://localhost:8080/"
        },
        "outputId": "81c7bb16-a9dd-4c05-bc5a-ad030fedc5ec"
      },
      "source": [
        "\n",
        "resnet_model, resnet_best_model,resnet_training_losses, resnet_training_accs, resnet_val_accs = train_model_v1(resnet_model, resnet_criterion, \n",
        "                                                  resnet_optimizer, resnet_lrscheduler, n_epochs=10,\n",
        "                                                  trainloader= trainloader, testloader= val_loader, \n",
        "                                                  earlystopping=True,patience=2)\n"
      ],
      "execution_count": null,
      "outputs": [
        {
          "output_type": "stream",
          "text": [
            "\r  0%|          | 0/10 [00:00<?, ?it/s]"
          ],
          "name": "stderr"
        },
        {
          "output_type": "stream",
          "text": [
            "Epoch 1, duration: 85 s, loss: 0.2371, acc: 94.8070\n",
            "Accuracy of the network on the test images: 81 %\n"
          ],
          "name": "stdout"
        },
        {
          "output_type": "stream",
          "text": [
            "\r 10%|█         | 1/10 [01:43<15:29, 103.31s/it]"
          ],
          "name": "stderr"
        },
        {
          "output_type": "stream",
          "text": [
            "Checkpoint Saved\n",
            "Epoch 2, duration: 83 s, loss: 0.1820, acc: 96.1091\n"
          ],
          "name": "stdout"
        },
        {
          "output_type": "stream",
          "text": [
            "\r 20%|██        | 2/10 [03:23<13:39, 102.44s/it]"
          ],
          "name": "stderr"
        },
        {
          "output_type": "stream",
          "text": [
            "Accuracy of the network on the test images: 81 %\n",
            "Epoch 3, duration: 83 s, loss: 0.1495, acc: 96.9363\n",
            "Accuracy of the network on the test images: 81 %\n"
          ],
          "name": "stdout"
        },
        {
          "output_type": "stream",
          "text": [
            "\r 30%|███       | 3/10 [05:04<11:52, 101.81s/it]"
          ],
          "name": "stderr"
        },
        {
          "output_type": "stream",
          "text": [
            "Checkpoint Saved\n",
            "Epoch 4, duration: 82 s, loss: 0.1325, acc: 97.5490\n",
            "Accuracy of the network on the test images: 82 %\n"
          ],
          "name": "stdout"
        },
        {
          "output_type": "stream",
          "text": [
            "\r 40%|████      | 4/10 [06:43<10:07, 101.17s/it]"
          ],
          "name": "stderr"
        },
        {
          "output_type": "stream",
          "text": [
            "Checkpoint Saved\n",
            "Epoch 5, duration: 83 s, loss: 0.1106, acc: 98.2230\n"
          ],
          "name": "stdout"
        },
        {
          "output_type": "stream",
          "text": [
            "\r 50%|█████     | 5/10 [08:23<08:24, 100.88s/it]"
          ],
          "name": "stderr"
        },
        {
          "output_type": "stream",
          "text": [
            "Accuracy of the network on the test images: 81 %\n",
            "Epoch 6, duration: 83 s, loss: 0.0963, acc: 98.8051\n"
          ],
          "name": "stdout"
        },
        {
          "output_type": "stream",
          "text": [
            "\r 60%|██████    | 6/10 [10:04<06:42, 100.64s/it]"
          ],
          "name": "stderr"
        },
        {
          "output_type": "stream",
          "text": [
            "Accuracy of the network on the test images: 82 %\n",
            "Epoch 7, duration: 83 s, loss: 0.0937, acc: 98.6213\n",
            "Accuracy of the network on the test images: 83 %\n"
          ],
          "name": "stdout"
        },
        {
          "output_type": "stream",
          "text": [
            "\r 70%|███████   | 7/10 [11:44<05:01, 100.53s/it]"
          ],
          "name": "stderr"
        },
        {
          "output_type": "stream",
          "text": [
            "Checkpoint Saved\n",
            "Epoch 8, duration: 83 s, loss: 0.0897, acc: 98.7132\n",
            "Accuracy of the network on the test images: 83 %\n"
          ],
          "name": "stdout"
        },
        {
          "output_type": "stream",
          "text": [
            "\r 80%|████████  | 8/10 [13:24<03:20, 100.49s/it]"
          ],
          "name": "stderr"
        },
        {
          "output_type": "stream",
          "text": [
            "Checkpoint Saved\n",
            "Epoch 9, duration: 83 s, loss: 0.0897, acc: 98.7898\n"
          ],
          "name": "stdout"
        },
        {
          "output_type": "stream",
          "text": [
            "\r 90%|█████████ | 9/10 [15:04<01:40, 100.31s/it]"
          ],
          "name": "stderr"
        },
        {
          "output_type": "stream",
          "text": [
            "Accuracy of the network on the test images: 83 %\n",
            "Epoch 10, duration: 82 s, loss: 0.0866, acc: 98.7898\n"
          ],
          "name": "stdout"
        },
        {
          "output_type": "stream",
          "text": [
            "100%|██████████| 10/10 [16:44<00:00, 100.41s/it]"
          ],
          "name": "stderr"
        },
        {
          "output_type": "stream",
          "text": [
            "Accuracy of the network on the test images: 82 %\n",
            "Finished Training\n"
          ],
          "name": "stdout"
        },
        {
          "output_type": "stream",
          "text": [
            "\n"
          ],
          "name": "stderr"
        }
      ]
    },
    {
      "cell_type": "markdown",
      "metadata": {
        "id": "pc-7ACgQrMqN"
      },
      "source": [
        "# Test Accuracy without using cross-validation: 84%"
      ]
    },
    {
      "cell_type": "code",
      "metadata": {
        "id": "vCR4S7ffr3Px",
        "colab": {
          "base_uri": "https://localhost:8080/"
        },
        "outputId": "79c3154b-c41f-43ce-b056-00cba8295a9b"
      },
      "source": [
        "\n",
        "resnet_best_model.eval()\n",
        "test_acc = eval_model_v1(resnet_best_model, testloader = testloader)\n",
        "print(\"Test Accuracy: %d \"%test_acc)"
      ],
      "execution_count": null,
      "outputs": [
        {
          "output_type": "stream",
          "text": [
            "Accuracy of the network on the test images: 84 %\n",
            "Test Accuracy: 84 \n"
          ],
          "name": "stdout"
        }
      ]
    },
    {
      "cell_type": "code",
      "metadata": {
        "id": "BUMkDl_SuuiV"
      },
      "source": [
        ""
      ],
      "execution_count": null,
      "outputs": []
    },
    {
      "cell_type": "code",
      "metadata": {
        "id": "D9CAowsauuQz"
      },
      "source": [
        "! cp checkpoint.pt car_image_Tuned_ResNet50_best_model.pt\n",
        "! cp car_image_Tuned_ResNet50_best_model.pt /content/drive/My\\ Drive/Colab\\ Notebooks/laioffer-in-class-coding/DS-HW/"
      ],
      "execution_count": null,
      "outputs": []
    },
    {
      "cell_type": "markdown",
      "metadata": {
        "id": "FhWZQQYG3GSx"
      },
      "source": [
        "# 3.3. 4-Fold Cross Validation for ResNet50 model to select better parameters"
      ]
    },
    {
      "cell_type": "code",
      "metadata": {
        "id": "i4g93Lsb28zg",
        "colab": {
          "base_uri": "https://localhost:8080/"
        },
        "outputId": "19f32414-a99b-497c-ded4-8d53abdb7f8f"
      },
      "source": [
        "def K_fold_cv( dataset, model,k = 5):\n",
        "  training_loss_ls = []\n",
        "  training_acc_ls = []\n",
        "  val_acc_list = []\n",
        "  model_ls = []\n",
        "  \n",
        "  print(\"Start %d Cross Validation\"%(k))\n",
        "  print()\n",
        "  # create datasets\n",
        "  dataset = torchvision.datasets.ImageFolder(root=dataset_dir+\"train\", transform=train_tfms)\n",
        "\n",
        "  # Split data into validatoin set and train set\n",
        "  fold_size = len(dataset)//k\n",
        "  #create fold indices\n",
        "  fold_list = [fold_size]*(k-1)\n",
        "  fold_list.append(len(dataset) - (k-1)*fold_size)\n",
        "  folds_data = torch.utils.data.random_split(dataset, fold_list, generator=torch.Generator().manual_seed(42))\n",
        "  # print(folds_data)\n",
        "  max_val_score = 0\n",
        "  best_model = None\n",
        "  for valid_index in range(k):\n",
        "    # re-initialize model\n",
        "    model = torch.load(\"car_image_ResNet50_best_model.pt\")\n",
        "    #define Loss function\n",
        "    resnet_criterion = nn.CrossEntropyLoss()\n",
        "    #define optimizer: using Stochastic gradient descent\n",
        "    resnet_optimizer = torch.optim.SGD(model.parameters(),lr=0.01,weight_decay=0.001)\n",
        "    resnet_lrscheduler = optim.lr_scheduler.ReduceLROnPlateau(resnet_optimizer,mode=\"max\",factor=0.1,patience=3, threshold=0.9)\n",
        "\n",
        "\n",
        "    print(\"Validation Fold: %d\"%(valid_index))\n",
        "    print()\n",
        "    valid_dataset = folds_data.pop(valid_index)\n",
        "    fold_val_loader = torch.utils.data.DataLoader(valid_dataset, batch_size=32, shuffle=True, num_workers=2)\n",
        "    traindata = torch.utils.data.ConcatDataset(folds_data)\n",
        "    fold_trainloader = torch.utils.data.DataLoader(traindata, batch_size=32, shuffle=True, num_workers=2)\n",
        "    # add the validation dataset back to original position\n",
        "    folds_data.insert(valid_index, valid_dataset)\n",
        "    \n",
        "    \n",
        "    # train data\n",
        "    \n",
        "    resnet_model, resnet_best_model,resnet_training_losses, resnet_training_accs, resnet_val_accs = train_model_v1(model, resnet_criterion, \n",
        "                                                  resnet_optimizer, resnet_lrscheduler, n_epochs=10,\n",
        "                                                  trainloader= fold_trainloader, testloader= fold_val_loader, \n",
        "                                                  earlystopping=True,patience=2)\n",
        "    training_loss_ls.append(resnet_training_losses)\n",
        "    training_acc_ls.append(resnet_training_accs)\n",
        "    val_acc_list.append(resnet_val_accs)\n",
        "    model_ls.append(resnet_best_model)\n",
        "    #update model \n",
        "    if max_val_score < max(resnet_val_accs):\n",
        "      best_model = resnet_best_model\n",
        "      max_val_score = max(resnet_val_accs)\n",
        "    print(\"Completed Fold:%d\"%(valid_index))\n",
        "    print()\n",
        "  return best_model, training_loss_ls, training_acc_ls,val_acc_list,model_ls\n",
        "\n",
        "\n",
        "best_model, training_loss_ls, training_acc_ls,val_acc_list,model_ls = K_fold_cv(dataset, model=resnet_model,k=4)"
      ],
      "execution_count": null,
      "outputs": [
        {
          "output_type": "stream",
          "text": [
            "\n",
            "\n",
            "\n",
            "\n",
            "\n",
            "\n",
            "\n",
            "\n",
            "\n",
            "\n",
            "\n",
            "  0%|          | 0/10 [00:00<?, ?it/s]\u001b[A\u001b[A\u001b[A\u001b[A\u001b[A\u001b[A\u001b[A\u001b[A\u001b[A\u001b[A\u001b[A"
          ],
          "name": "stderr"
        },
        {
          "output_type": "stream",
          "text": [
            "Start 4 Cross Validation\n",
            "\n",
            "Validation Fold: 0\n",
            "\n",
            "Epoch 1, duration: 82 s, loss: 0.2476, acc: 94.2408\n",
            "Accuracy of the network on the test images: 82 %\n"
          ],
          "name": "stdout"
        },
        {
          "output_type": "stream",
          "text": [
            "\n",
            "\n",
            "\n",
            "\n",
            "\n",
            "\n",
            "\n",
            "\n",
            "\n",
            "\n",
            "\n",
            " 10%|█         | 1/10 [01:44<15:42, 104.71s/it]\u001b[A\u001b[A\u001b[A\u001b[A\u001b[A\u001b[A\u001b[A\u001b[A\u001b[A\u001b[A\u001b[A"
          ],
          "name": "stderr"
        },
        {
          "output_type": "stream",
          "text": [
            "Checkpoint Saved\n",
            "Epoch 2, duration: 82 s, loss: 0.1784, acc: 96.6296\n",
            "Accuracy of the network on the test images: 84 %\n"
          ],
          "name": "stdout"
        },
        {
          "output_type": "stream",
          "text": [
            "\n",
            "\n",
            "\n",
            "\n",
            "\n",
            "\n",
            "\n",
            "\n",
            "\n",
            "\n",
            "\n",
            " 20%|██        | 2/10 [03:28<13:55, 104.50s/it]\u001b[A\u001b[A\u001b[A\u001b[A\u001b[A\u001b[A\u001b[A\u001b[A\u001b[A\u001b[A\u001b[A"
          ],
          "name": "stderr"
        },
        {
          "output_type": "stream",
          "text": [
            "Checkpoint Saved\n",
            "Epoch 3, duration: 81 s, loss: 0.1439, acc: 97.4967\n"
          ],
          "name": "stdout"
        },
        {
          "output_type": "stream",
          "text": [
            "\n",
            "\n",
            "\n",
            "\n",
            "\n",
            "\n",
            "\n",
            "\n",
            "\n",
            "\n",
            "\n",
            " 30%|███       | 3/10 [05:11<12:07, 103.97s/it]\u001b[A\u001b[A\u001b[A\u001b[A\u001b[A\u001b[A\u001b[A\u001b[A\u001b[A\u001b[A\u001b[A"
          ],
          "name": "stderr"
        },
        {
          "output_type": "stream",
          "text": [
            "Accuracy of the network on the test images: 84 %\n",
            "Epoch 4, duration: 82 s, loss: 0.1321, acc: 97.8403\n"
          ],
          "name": "stdout"
        },
        {
          "output_type": "stream",
          "text": [
            "\n",
            "\n",
            "\n",
            "\n",
            "\n",
            "\n",
            "\n",
            "\n",
            "\n",
            "\n",
            "\n",
            " 40%|████      | 4/10 [06:55<10:24, 104.10s/it]\u001b[A\u001b[A\u001b[A\u001b[A\u001b[A\u001b[A\u001b[A\u001b[A\u001b[A\u001b[A\u001b[A"
          ],
          "name": "stderr"
        },
        {
          "output_type": "stream",
          "text": [
            "Accuracy of the network on the test images: 84 %\n",
            "Epoch 5, duration: 81 s, loss: 0.1153, acc: 98.2166\n",
            "Accuracy of the network on the test images: 84 %\n",
            "Load Best Model.\n",
            "Finished Training\n",
            "Completed Fold:0\n",
            "\n"
          ],
          "name": "stdout"
        },
        {
          "output_type": "stream",
          "text": [
            "\n",
            "\n",
            "\n",
            "\n",
            "\n",
            "\n",
            "\n",
            "\n",
            "\n",
            "\n",
            "\n",
            "\n",
            "  0%|          | 0/10 [00:00<?, ?it/s]\u001b[A\u001b[A\u001b[A\u001b[A\u001b[A\u001b[A\u001b[A\u001b[A\u001b[A\u001b[A\u001b[A\u001b[A"
          ],
          "name": "stderr"
        },
        {
          "output_type": "stream",
          "text": [
            "Validation Fold: 1\n",
            "\n",
            "Epoch 1, duration: 80 s, loss: 0.4119, acc: 90.1505\n",
            "Accuracy of the network on the test images: 96 %\n"
          ],
          "name": "stdout"
        },
        {
          "output_type": "stream",
          "text": [
            "\n",
            "\n",
            "\n",
            "\n",
            "\n",
            "\n",
            "\n",
            "\n",
            "\n",
            "\n",
            "\n",
            "\n",
            " 10%|█         | 1/10 [01:43<15:33, 103.72s/it]\u001b[A\u001b[A\u001b[A\u001b[A\u001b[A\u001b[A\u001b[A\u001b[A\u001b[A\u001b[A\u001b[A\u001b[A"
          ],
          "name": "stderr"
        },
        {
          "output_type": "stream",
          "text": [
            "Checkpoint Saved\n",
            "Epoch 2, duration: 80 s, loss: 0.2985, acc: 93.1119\n",
            "Accuracy of the network on the test images: 96 %\n"
          ],
          "name": "stdout"
        },
        {
          "output_type": "stream",
          "text": [
            "\n",
            "\n",
            "\n",
            "\n",
            "\n",
            "\n",
            "\n",
            "\n",
            "\n",
            "\n",
            "\n",
            "\n",
            " 20%|██        | 2/10 [03:27<13:50, 103.83s/it]\u001b[A\u001b[A\u001b[A\u001b[A\u001b[A\u001b[A\u001b[A\u001b[A\u001b[A\u001b[A\u001b[A\u001b[A"
          ],
          "name": "stderr"
        },
        {
          "output_type": "stream",
          "text": [
            "Checkpoint Saved\n",
            "Epoch 3, duration: 81 s, loss: 0.2321, acc: 95.0262\n"
          ],
          "name": "stdout"
        },
        {
          "output_type": "stream",
          "text": [
            "\n",
            "\n",
            "\n",
            "\n",
            "\n",
            "\n",
            "\n",
            "\n",
            "\n",
            "\n",
            "\n",
            "\n",
            " 30%|███       | 3/10 [05:13<12:09, 104.27s/it]\u001b[A\u001b[A\u001b[A\u001b[A\u001b[A\u001b[A\u001b[A\u001b[A\u001b[A\u001b[A\u001b[A\u001b[A"
          ],
          "name": "stderr"
        },
        {
          "output_type": "stream",
          "text": [
            "Accuracy of the network on the test images: 96 %\n",
            "Epoch 4, duration: 81 s, loss: 0.1963, acc: 96.2369\n",
            "Accuracy of the network on the test images: 96 %\n"
          ],
          "name": "stdout"
        },
        {
          "output_type": "stream",
          "text": [
            "\n",
            "\n",
            "\n",
            "\n",
            "\n",
            "\n",
            "\n",
            "\n",
            "\n",
            "\n",
            "\n",
            "\n",
            " 40%|████      | 4/10 [06:58<10:27, 104.54s/it]\u001b[A\u001b[A\u001b[A\u001b[A\u001b[A\u001b[A\u001b[A\u001b[A\u001b[A\u001b[A\u001b[A\u001b[A"
          ],
          "name": "stderr"
        },
        {
          "output_type": "stream",
          "text": [
            "Checkpoint Saved\n",
            "Epoch 5, duration: 81 s, loss: 0.1729, acc: 96.5641\n"
          ],
          "name": "stdout"
        },
        {
          "output_type": "stream",
          "text": [
            "\n",
            "\n",
            "\n",
            "\n",
            "\n",
            "\n",
            "\n",
            "\n",
            "\n",
            "\n",
            "\n",
            "\n",
            " 50%|█████     | 5/10 [08:43<08:43, 104.60s/it]\u001b[A\u001b[A\u001b[A\u001b[A\u001b[A\u001b[A\u001b[A\u001b[A\u001b[A\u001b[A\u001b[A\u001b[A"
          ],
          "name": "stderr"
        },
        {
          "output_type": "stream",
          "text": [
            "Accuracy of the network on the test images: 96 %\n",
            "Epoch 6, duration: 81 s, loss: 0.1395, acc: 97.7421\n",
            "Accuracy of the network on the test images: 97 %\n"
          ],
          "name": "stdout"
        },
        {
          "output_type": "stream",
          "text": [
            "\n",
            "\n",
            "\n",
            "\n",
            "\n",
            "\n",
            "\n",
            "\n",
            "\n",
            "\n",
            "\n",
            "\n",
            " 60%|██████    | 6/10 [10:28<06:59, 104.98s/it]\u001b[A\u001b[A\u001b[A\u001b[A\u001b[A\u001b[A\u001b[A\u001b[A\u001b[A\u001b[A\u001b[A\u001b[A"
          ],
          "name": "stderr"
        },
        {
          "output_type": "stream",
          "text": [
            "Checkpoint Saved\n",
            "Epoch 7, duration: 81 s, loss: 0.1322, acc: 97.7749\n",
            "Accuracy of the network on the test images: 97 %\n"
          ],
          "name": "stdout"
        },
        {
          "output_type": "stream",
          "text": [
            "\n",
            "\n",
            "\n",
            "\n",
            "\n",
            "\n",
            "\n",
            "\n",
            "\n",
            "\n",
            "\n",
            "\n",
            " 70%|███████   | 7/10 [12:14<05:15, 105.19s/it]\u001b[A\u001b[A\u001b[A\u001b[A\u001b[A\u001b[A\u001b[A\u001b[A\u001b[A\u001b[A\u001b[A\u001b[A"
          ],
          "name": "stderr"
        },
        {
          "output_type": "stream",
          "text": [
            "Checkpoint Saved\n",
            "Epoch 8, duration: 82 s, loss: 0.1323, acc: 98.0857\n"
          ],
          "name": "stdout"
        },
        {
          "output_type": "stream",
          "text": [
            "\n",
            "\n",
            "\n",
            "\n",
            "\n",
            "\n",
            "\n",
            "\n",
            "\n",
            "\n",
            "\n",
            "\n",
            " 80%|████████  | 8/10 [14:01<03:31, 105.79s/it]\u001b[A\u001b[A\u001b[A\u001b[A\u001b[A\u001b[A\u001b[A\u001b[A\u001b[A\u001b[A\u001b[A\u001b[A"
          ],
          "name": "stderr"
        },
        {
          "output_type": "stream",
          "text": [
            "Accuracy of the network on the test images: 96 %\n",
            "Epoch 9, duration: 83 s, loss: 0.1230, acc: 98.3475\n"
          ],
          "name": "stdout"
        },
        {
          "output_type": "stream",
          "text": [
            "\n",
            "\n",
            "\n",
            "\n",
            "\n",
            "\n",
            "\n",
            "\n",
            "\n",
            "\n",
            "\n",
            "\n",
            " 90%|█████████ | 9/10 [15:49<01:46, 106.31s/it]\u001b[A\u001b[A\u001b[A\u001b[A\u001b[A\u001b[A\u001b[A\u001b[A\u001b[A\u001b[A\u001b[A\u001b[A"
          ],
          "name": "stderr"
        },
        {
          "output_type": "stream",
          "text": [
            "Accuracy of the network on the test images: 96 %\n",
            "Epoch 10, duration: 82 s, loss: 0.1241, acc: 98.2166\n"
          ],
          "name": "stdout"
        },
        {
          "output_type": "stream",
          "text": [
            "\n",
            "\n",
            "\n",
            "\n",
            "\n",
            "\n",
            "\n",
            "\n",
            "\n",
            "\n",
            "\n",
            "\n",
            "\n",
            "  0%|          | 0/10 [00:00<?, ?it/s]"
          ],
          "name": "stderr"
        },
        {
          "output_type": "stream",
          "text": [
            "Accuracy of the network on the test images: 97 %\n",
            "Load Best Model.\n",
            "Finished Training\n",
            "Completed Fold:1\n",
            "\n",
            "Validation Fold: 2\n",
            "\n"
          ],
          "name": "stdout"
        },
        {
          "output_type": "stream",
          "text": [
            "\u001b[A\u001b[A\u001b[A\u001b[A\u001b[A\u001b[A\u001b[A\u001b[A\u001b[A\u001b[A\u001b[A\u001b[A\u001b[A"
          ],
          "name": "stderr"
        },
        {
          "output_type": "stream",
          "text": [
            "Epoch 1, duration: 84 s, loss: 0.4005, acc: 90.4614\n",
            "Accuracy of the network on the test images: 95 %\n"
          ],
          "name": "stdout"
        },
        {
          "output_type": "stream",
          "text": [
            "\n",
            "\n",
            "\n",
            "\n",
            "\n",
            "\n",
            "\n",
            "\n",
            "\n",
            "\n",
            "\n",
            "\n",
            "\n",
            " 10%|█         | 1/10 [01:47<16:04, 107.13s/it]\u001b[A\u001b[A\u001b[A\u001b[A\u001b[A\u001b[A\u001b[A\u001b[A\u001b[A\u001b[A\u001b[A\u001b[A\u001b[A"
          ],
          "name": "stderr"
        },
        {
          "output_type": "stream",
          "text": [
            "Checkpoint Saved\n",
            "Epoch 2, duration: 83 s, loss: 0.2974, acc: 93.1774\n"
          ],
          "name": "stdout"
        },
        {
          "output_type": "stream",
          "text": [
            "\n",
            "\n",
            "\n",
            "\n",
            "\n",
            "\n",
            "\n",
            "\n",
            "\n",
            "\n",
            "\n",
            "\n",
            "\n",
            " 20%|██        | 2/10 [03:33<14:15, 106.98s/it]\u001b[A\u001b[A\u001b[A\u001b[A\u001b[A\u001b[A\u001b[A\u001b[A\u001b[A\u001b[A\u001b[A\u001b[A\u001b[A"
          ],
          "name": "stderr"
        },
        {
          "output_type": "stream",
          "text": [
            "Accuracy of the network on the test images: 95 %\n",
            "Epoch 3, duration: 83 s, loss: 0.2339, acc: 94.7808\n",
            "Accuracy of the network on the test images: 96 %\n"
          ],
          "name": "stdout"
        },
        {
          "output_type": "stream",
          "text": [
            "\n",
            "\n",
            "\n",
            "\n",
            "\n",
            "\n",
            "\n",
            "\n",
            "\n",
            "\n",
            "\n",
            "\n",
            "\n",
            " 30%|███       | 3/10 [05:20<12:27, 106.78s/it]\u001b[A\u001b[A\u001b[A\u001b[A\u001b[A\u001b[A\u001b[A\u001b[A\u001b[A\u001b[A\u001b[A\u001b[A\u001b[A"
          ],
          "name": "stderr"
        },
        {
          "output_type": "stream",
          "text": [
            "Checkpoint Saved\n",
            "Epoch 4, duration: 84 s, loss: 0.1945, acc: 96.1551\n"
          ],
          "name": "stdout"
        },
        {
          "output_type": "stream",
          "text": [
            "\n",
            "\n",
            "\n",
            "\n",
            "\n",
            "\n",
            "\n",
            "\n",
            "\n",
            "\n",
            "\n",
            "\n",
            "\n",
            " 40%|████      | 4/10 [07:06<10:40, 106.74s/it]\u001b[A\u001b[A\u001b[A\u001b[A\u001b[A\u001b[A\u001b[A\u001b[A\u001b[A\u001b[A\u001b[A\u001b[A\u001b[A"
          ],
          "name": "stderr"
        },
        {
          "output_type": "stream",
          "text": [
            "Accuracy of the network on the test images: 96 %\n",
            "Epoch 5, duration: 84 s, loss: 0.1696, acc: 96.8423\n",
            "Accuracy of the network on the test images: 96 %\n"
          ],
          "name": "stdout"
        },
        {
          "output_type": "stream",
          "text": [
            "\n",
            "\n",
            "\n",
            "\n",
            "\n",
            "\n",
            "\n",
            "\n",
            "\n",
            "\n",
            "\n",
            "\n",
            "\n",
            " 50%|█████     | 5/10 [08:54<08:54, 106.92s/it]\u001b[A\u001b[A\u001b[A\u001b[A\u001b[A\u001b[A\u001b[A\u001b[A\u001b[A\u001b[A\u001b[A\u001b[A\u001b[A"
          ],
          "name": "stderr"
        },
        {
          "output_type": "stream",
          "text": [
            "Checkpoint Saved\n",
            "Epoch 6, duration: 85 s, loss: 0.1429, acc: 97.5622\n"
          ],
          "name": "stdout"
        },
        {
          "output_type": "stream",
          "text": [
            "\n",
            "\n",
            "\n",
            "\n",
            "\n",
            "\n",
            "\n",
            "\n",
            "\n",
            "\n",
            "\n",
            "\n",
            "\n",
            " 60%|██████    | 6/10 [10:41<07:08, 107.18s/it]\u001b[A\u001b[A\u001b[A\u001b[A\u001b[A\u001b[A\u001b[A\u001b[A\u001b[A\u001b[A\u001b[A\u001b[A\u001b[A"
          ],
          "name": "stderr"
        },
        {
          "output_type": "stream",
          "text": [
            "Accuracy of the network on the test images: 96 %\n",
            "Epoch 7, duration: 84 s, loss: 0.1313, acc: 97.9385\n"
          ],
          "name": "stdout"
        },
        {
          "output_type": "stream",
          "text": [
            "\n",
            "\n",
            "\n",
            "\n",
            "\n",
            "\n",
            "\n",
            "\n",
            "\n",
            "\n",
            "\n",
            "\n",
            "\n",
            " 70%|███████   | 7/10 [12:29<05:21, 107.20s/it]\u001b[A\u001b[A\u001b[A\u001b[A\u001b[A\u001b[A\u001b[A\u001b[A\u001b[A\u001b[A\u001b[A\u001b[A\u001b[A"
          ],
          "name": "stderr"
        },
        {
          "output_type": "stream",
          "text": [
            "Accuracy of the network on the test images: 96 %\n",
            "Epoch 8, duration: 84 s, loss: 0.1239, acc: 98.0857\n",
            "Accuracy of the network on the test images: 97 %\n"
          ],
          "name": "stdout"
        },
        {
          "output_type": "stream",
          "text": [
            "\n",
            "\n",
            "\n",
            "\n",
            "\n",
            "\n",
            "\n",
            "\n",
            "\n",
            "\n",
            "\n",
            "\n",
            "\n",
            " 80%|████████  | 8/10 [14:17<03:34, 107.44s/it]\u001b[A\u001b[A\u001b[A\u001b[A\u001b[A\u001b[A\u001b[A\u001b[A\u001b[A\u001b[A\u001b[A\u001b[A\u001b[A"
          ],
          "name": "stderr"
        },
        {
          "output_type": "stream",
          "text": [
            "Checkpoint Saved\n",
            "Epoch 9, duration: 85 s, loss: 0.1254, acc: 98.2984\n"
          ],
          "name": "stdout"
        },
        {
          "output_type": "stream",
          "text": [
            "\n",
            "\n",
            "\n",
            "\n",
            "\n",
            "\n",
            "\n",
            "\n",
            "\n",
            "\n",
            "\n",
            "\n",
            "\n",
            " 90%|█████████ | 9/10 [16:05<01:47, 107.62s/it]\u001b[A\u001b[A\u001b[A\u001b[A\u001b[A\u001b[A\u001b[A\u001b[A\u001b[A\u001b[A\u001b[A\u001b[A\u001b[A"
          ],
          "name": "stderr"
        },
        {
          "output_type": "stream",
          "text": [
            "Accuracy of the network on the test images: 96 %\n",
            "Epoch 10, duration: 84 s, loss: 0.1311, acc: 97.8240\n"
          ],
          "name": "stdout"
        },
        {
          "output_type": "stream",
          "text": [
            "\n",
            "\n",
            "\n",
            "\n",
            "\n",
            "\n",
            "\n",
            "\n",
            "\n",
            "\n",
            "\n",
            "\n",
            "\n",
            "100%|██████████| 10/10 [17:52<00:00, 107.26s/it]\n",
            "\n",
            "\n",
            "\n",
            "\n",
            "\n",
            "\n",
            "\n",
            "\n",
            "\n",
            "\n",
            "\n",
            "\n",
            "\n",
            "  0%|          | 0/10 [00:00<?, ?it/s]\u001b[A\u001b[A\u001b[A\u001b[A\u001b[A\u001b[A\u001b[A\u001b[A\u001b[A\u001b[A\u001b[A\u001b[A\u001b[A"
          ],
          "name": "stderr"
        },
        {
          "output_type": "stream",
          "text": [
            "Accuracy of the network on the test images: 97 %\n",
            "Finished Training\n",
            "Completed Fold:2\n",
            "\n",
            "Validation Fold: 3\n",
            "\n",
            "Epoch 1, duration: 84 s, loss: 0.4067, acc: 89.9705\n",
            "Accuracy of the network on the test images: 96 %\n"
          ],
          "name": "stdout"
        },
        {
          "output_type": "stream",
          "text": [
            "\n",
            "\n",
            "\n",
            "\n",
            "\n",
            "\n",
            "\n",
            "\n",
            "\n",
            "\n",
            "\n",
            "\n",
            "\n",
            " 10%|█         | 1/10 [01:48<16:15, 108.40s/it]\u001b[A\u001b[A\u001b[A\u001b[A\u001b[A\u001b[A\u001b[A\u001b[A\u001b[A\u001b[A\u001b[A\u001b[A\u001b[A"
          ],
          "name": "stderr"
        },
        {
          "output_type": "stream",
          "text": [
            "Checkpoint Saved\n",
            "Epoch 2, duration: 83 s, loss: 0.3063, acc: 92.8501\n"
          ],
          "name": "stdout"
        },
        {
          "output_type": "stream",
          "text": [
            "\n",
            "\n",
            "\n",
            "\n",
            "\n",
            "\n",
            "\n",
            "\n",
            "\n",
            "\n",
            "\n",
            "\n",
            "\n",
            " 20%|██        | 2/10 [03:35<14:23, 107.89s/it]\u001b[A\u001b[A\u001b[A\u001b[A\u001b[A\u001b[A\u001b[A\u001b[A\u001b[A\u001b[A\u001b[A\u001b[A\u001b[A"
          ],
          "name": "stderr"
        },
        {
          "output_type": "stream",
          "text": [
            "Accuracy of the network on the test images: 96 %\n",
            "Epoch 3, duration: 84 s, loss: 0.2351, acc: 94.9771\n",
            "Accuracy of the network on the test images: 96 %\n"
          ],
          "name": "stdout"
        },
        {
          "output_type": "stream",
          "text": [
            "\n",
            "\n",
            "\n",
            "\n",
            "\n",
            "\n",
            "\n",
            "\n",
            "\n",
            "\n",
            "\n",
            "\n",
            "\n",
            " 30%|███       | 3/10 [05:22<12:34, 107.86s/it]\u001b[A\u001b[A\u001b[A\u001b[A\u001b[A\u001b[A\u001b[A\u001b[A\u001b[A\u001b[A\u001b[A\u001b[A\u001b[A"
          ],
          "name": "stderr"
        },
        {
          "output_type": "stream",
          "text": [
            "Checkpoint Saved\n",
            "Epoch 4, duration: 83 s, loss: 0.2040, acc: 95.9097\n",
            "Accuracy of the network on the test images: 96 %\n"
          ],
          "name": "stdout"
        },
        {
          "output_type": "stream",
          "text": [
            "\n",
            "\n",
            "\n",
            "\n",
            "\n",
            "\n",
            "\n",
            "\n",
            "\n",
            "\n",
            "\n",
            "\n",
            "\n",
            " 40%|████      | 4/10 [07:09<10:45, 107.53s/it]\u001b[A\u001b[A\u001b[A\u001b[A\u001b[A\u001b[A\u001b[A\u001b[A\u001b[A\u001b[A\u001b[A\u001b[A\u001b[A"
          ],
          "name": "stderr"
        },
        {
          "output_type": "stream",
          "text": [
            "Checkpoint Saved\n",
            "Epoch 5, duration: 82 s, loss: 0.1712, acc: 96.6459\n",
            "Accuracy of the network on the test images: 96 %\n"
          ],
          "name": "stdout"
        },
        {
          "output_type": "stream",
          "text": [
            "\n",
            "\n",
            "\n",
            "\n",
            "\n",
            "\n",
            "\n",
            "\n",
            "\n",
            "\n",
            "\n",
            "\n",
            "\n",
            " 50%|█████     | 5/10 [08:55<08:55, 107.04s/it]\u001b[A\u001b[A\u001b[A\u001b[A\u001b[A\u001b[A\u001b[A\u001b[A\u001b[A\u001b[A\u001b[A\u001b[A\u001b[A"
          ],
          "name": "stderr"
        },
        {
          "output_type": "stream",
          "text": [
            "Checkpoint Saved\n",
            "Epoch 6, duration: 83 s, loss: 0.1377, acc: 97.7585\n"
          ],
          "name": "stdout"
        },
        {
          "output_type": "stream",
          "text": [
            "\n",
            "\n",
            "\n",
            "\n",
            "\n",
            "\n",
            "\n",
            "\n",
            "\n",
            "\n",
            "\n",
            "\n",
            "\n",
            " 60%|██████    | 6/10 [10:42<07:07, 106.89s/it]\u001b[A\u001b[A\u001b[A\u001b[A\u001b[A\u001b[A\u001b[A\u001b[A\u001b[A\u001b[A\u001b[A\u001b[A\u001b[A"
          ],
          "name": "stderr"
        },
        {
          "output_type": "stream",
          "text": [
            "Accuracy of the network on the test images: 96 %\n",
            "Epoch 7, duration: 84 s, loss: 0.1320, acc: 97.8730\n",
            "Accuracy of the network on the test images: 97 %\n"
          ],
          "name": "stdout"
        },
        {
          "output_type": "stream",
          "text": [
            "\n",
            "\n",
            "\n",
            "\n",
            "\n",
            "\n",
            "\n",
            "\n",
            "\n",
            "\n",
            "\n",
            "\n",
            "\n",
            " 70%|███████   | 7/10 [12:29<05:21, 107.00s/it]\u001b[A\u001b[A\u001b[A\u001b[A\u001b[A\u001b[A\u001b[A\u001b[A\u001b[A\u001b[A\u001b[A\u001b[A\u001b[A"
          ],
          "name": "stderr"
        },
        {
          "output_type": "stream",
          "text": [
            "Checkpoint Saved\n",
            "Epoch 8, duration: 83 s, loss: 0.1253, acc: 98.2821\n"
          ],
          "name": "stdout"
        },
        {
          "output_type": "stream",
          "text": [
            "\n",
            "\n",
            "\n",
            "\n",
            "\n",
            "\n",
            "\n",
            "\n",
            "\n",
            "\n",
            "\n",
            "\n",
            "\n",
            " 80%|████████  | 8/10 [14:15<03:33, 106.83s/it]\u001b[A\u001b[A\u001b[A\u001b[A\u001b[A\u001b[A\u001b[A\u001b[A\u001b[A\u001b[A\u001b[A\u001b[A\u001b[A"
          ],
          "name": "stderr"
        },
        {
          "output_type": "stream",
          "text": [
            "Accuracy of the network on the test images: 97 %\n",
            "Epoch 9, duration: 82 s, loss: 0.1236, acc: 98.1185\n"
          ],
          "name": "stdout"
        },
        {
          "output_type": "stream",
          "text": [
            "\n",
            "\n",
            "\n",
            "\n",
            "\n",
            "\n",
            "\n",
            "\n",
            "\n",
            "\n",
            "\n",
            "\n",
            "\n",
            " 90%|█████████ | 9/10 [16:02<01:46, 106.68s/it]\u001b[A\u001b[A\u001b[A\u001b[A\u001b[A\u001b[A\u001b[A\u001b[A\u001b[A\u001b[A\u001b[A\u001b[A\u001b[A"
          ],
          "name": "stderr"
        },
        {
          "output_type": "stream",
          "text": [
            "Accuracy of the network on the test images: 97 %\n",
            "Epoch 10, duration: 84 s, loss: 0.1200, acc: 98.2166\n",
            "Accuracy of the network on the test images: 96 %\n",
            "Load Best Model.\n",
            "Finished Training\n",
            "Completed Fold:3\n",
            "\n"
          ],
          "name": "stdout"
        }
      ]
    },
    {
      "cell_type": "code",
      "metadata": {
        "id": "uy_TEX88GbFR"
      },
      "source": [
        "torch.save(best_model, \"car_image_OverallBest_model.pt\")\n",
        "\n",
        "! cp car_image_OverallBest_model.pt /content/drive/My\\ Drive/Colab\\ Notebooks/laioffer-in-class-coding/DS-HW/"
      ],
      "execution_count": null,
      "outputs": []
    },
    {
      "cell_type": "markdown",
      "metadata": {
        "id": "uWiLyKbhjaaJ"
      },
      "source": [
        "# Test Accuracy on Test Set after 4-Fold CrossValidation on ResNet50: 85%"
      ]
    },
    {
      "cell_type": "code",
      "metadata": {
        "id": "nrho1SCFICyZ",
        "colab": {
          "base_uri": "https://localhost:8080/"
        },
        "outputId": "fd894b32-1762-4ef8-fa54-f887836847c9"
      },
      "source": [
        "\n",
        "best_model.eval()\n",
        "test_acc = eval_model_v1(best_model, testloader = testloader)\n",
        "print(\"Test Accuracy: %d \"%test_acc)"
      ],
      "execution_count": null,
      "outputs": [
        {
          "output_type": "stream",
          "text": [
            "Accuracy of the network on the test images: 85 %\n",
            "Test Accuracy: 85 \n"
          ],
          "name": "stdout"
        }
      ]
    },
    {
      "cell_type": "code",
      "metadata": {
        "id": "NjKAuCPiGw9x",
        "colab": {
          "base_uri": "https://localhost:8080/",
          "height": 516
        },
        "outputId": "12670fad-5732-4300-dae6-ae08d33dd165"
      },
      "source": [
        "import numpy as np\n",
        "fig,ax = plt.subplots(2,2, figsize=(12,8))\n",
        "\n",
        "\n",
        "def compute_CV_mean_loss(ls,k = 4,epoch=10):\n",
        "  result = []\n",
        "  for e in range(epoch):\n",
        "    val = 00\n",
        "    for i in range(k):\n",
        "      if e < len(ls[i]):\n",
        "        val += ls[i][e]\n",
        "      else:\n",
        "        val += ls[i][-1]\n",
        "    val /= k\n",
        "    result.append(val)\n",
        "  return result\n",
        "\n",
        "\n",
        "# Compute mean loss and accuracy from 4-fold cross validation data\n",
        "mean_resnet_train_acc =compute_CV_mean_loss( training_acc_ls,k = 4,epoch=10)\n",
        "mean_resnet_train_loss =compute_CV_mean_loss( training_loss_ls,k = 4,epoch=10)\n",
        "mean_resnet_val_loss =compute_CV_mean_loss( val_acc_list,k = 4,epoch=10)\n",
        "\n",
        "\n",
        "ax[0, 0].plot(mean_resnet_train_loss)\n",
        "ax[0, 0].set_title(\"Training loss\")\n",
        "\n",
        "ax[0, 1].plot(mean_resnet_train_acc)\n",
        "ax[0, 1].set_title(\"Training Accuracy\")\n",
        "\n",
        "ax[1, 0].plot(mean_resnet_val_loss)\n",
        "ax[1, 0].set_title(\"Validation acc\")\n"
      ],
      "execution_count": null,
      "outputs": [
        {
          "output_type": "execute_result",
          "data": {
            "text/plain": [
              "Text(0.5, 1.0, 'Validation acc')"
            ]
          },
          "metadata": {
            "tags": []
          },
          "execution_count": 62
        },
        {
          "output_type": "display_data",
          "data": {
            "image/png": "[encoded data removed]",
            "text/plain": [
              "<Figure size 864x576 with 4 Axes>"
            ]
          },
          "metadata": {
            "tags": [],
            "needs_background": "light"
          }
        }
      ]
    },
    {
      "cell_type": "markdown",
      "metadata": {
        "id": "tVcpZ1clnCiG"
      },
      "source": [
        "# 4. Report\n",
        "### Data Collection\n",
        "The dataset is 1.9GB car dataset from stanford data sources. There are 196 classes and 8144 training images and 8041 testing images in this dataset. The goal of this project is to apply transfer learning to borrow pre-trained  deep learning model to learn the car dataset\n",
        "\n",
        "### Data Extract, Transform and Load (ETL)\n",
        "1. Data Extraction\n",
        "the 1.9GB dataset is downloaded directly from a cleaned data source in google drive. In the data folder, there are 196 sub-folders in both training set folder and testing set folder indicating 196 classes in dataset\n",
        "2. Transformation\n",
        "After extracting data, I use transformer tools, like ImageFolder, transformer  from PyTorch to load and resize the training and testing images into 3x224x224 RGB images with normalization.\n",
        "\n",
        "3. Load data\n",
        "After transformation of images, I use DataLoader tool in pytorch to convert dataset into a data loader with batch size = 32 and shuffle function enabled so that when training dataset, the data from iterator of loader contain a batch of samples with size of 32\n",
        "\n",
        "### Model Selection in Transfer learning\n",
        "When Selecting pre-trained model for transfer learning, I consider Alexnet, GoogleNet, ResNet50, VGG16. All of these models are transfer except the last Linear Layer. All transfer layers are unfroze during training.\n",
        "\n",
        "During training step, I simply split the training set into 20% validation set and 80% training set to train and validate the model performance with evaluation metric of accuracy.\n",
        "The 20% validation set is to small dataset to validate the performance of models and test the model on unseen dataset to see if the model is overfitting.\n",
        "\n",
        "For model training, I unfreeze all network models and use SGD stochastic gradient descent optimizer to  tune model with learning rate =0.01  for AlexNet (as default) and 0.1 for GoogleNet, ResNet50 and VGG16, momentum =0.9 as default. In learning rate scheduler, I set patience to ignore the non-improved epoches as 3 with threshold of signifcant improvement of accuracy as 0.9%.\n",
        "Moreover, the weight decay =0.001 (regularization term) is added to reduce overfitting.\n",
        "\n",
        "\n",
        "The reason why I don't set the learning rate of AlexNet to 0.1 is that in the plot of the loss and accuracy on AlexNet show that when accuracy converges to 100%, validation accuracy also converges to about 35% without falling. That is, there is no overfitting making validation accuracy drops, but the model can not learn better attributes from data already. So rather than tuning this model, I choose to tune another three networks instead.\n",
        "\n",
        "Performance Result\n",
        "1. AlexNet\n",
        "  + Test Accuracy on test set: 35%\n",
        "  + With 20 epoches to converge\n",
        "2. GoogleNet\n",
        "  + Test Accuracy on test set: 78%\n",
        "  + With 10 epoches to converge\n",
        "3. ResNet50\n",
        "  + Test Accuracy on test set: 83%\n",
        "  + With 10 epoches to converge\n",
        "4. VGG16\n",
        "  + Test Accuracy on test set: 65%\n",
        "  + With 20 epoches to converge\n",
        "\n",
        "Based on the performance above, I find the ResNet50 model provides the fastest convergence result and highest accuracy result on this training set.Hence I select ResNet50 as the model to tune.\n",
        "\n",
        "### Model Fine Tuning\n",
        "After selecting ResNet50 model, I tune this model carefully again \n",
        "In training dataset, I add flip, rotation operations on dataset to do data augmentation and also change the normalization values.\n",
        "Then I use Early Stopping with patience = 2 epoches (if validation accuracy doesn't improve in 2 epoches, it will stop there) and 4-fold Cross Validation to do model selection based on the model from Model Selection Step above to select the best parameters of ResNet50.\n",
        "\n",
        "### Model Evaluation\n",
        "The final tuned model is evaluated on the whole testing dataset with 8041 images and get a final accuracy of 85%, which is improved by 2% before fine-tuning step.\n",
        "\n",
        "## Summary\n",
        "In this project, the best transferred model is ResNet50 with 85% testing accuracy on stanford car dataset, but it may be improved to achieve higher accuracy in the future by using data augmentation methods, model selection,re-design network architecture and so on.\n"
      ]
    },
    {
      "cell_type": "code",
      "metadata": {
        "id": "yyvANCSRSkK9"
      },
      "source": [
        ""
      ],
      "execution_count": null,
      "outputs": []
    }
  ]
}